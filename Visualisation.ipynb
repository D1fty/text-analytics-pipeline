{
 "cells": [
  {
   "cell_type": "markdown",
   "metadata": {},
   "source": [
    "# MWLR Pipeline: Visualisation"
   ]
  },
  {
   "cell_type": "markdown",
   "metadata": {},
   "source": [
    "### Imports"
   ]
  },
  {
   "cell_type": "code",
   "execution_count": 20,
   "metadata": {
    "ExecuteTime": {
     "end_time": "2021-04-22T04:15:41.554356Z",
     "start_time": "2021-04-22T04:15:41.545494Z"
    }
   },
   "outputs": [
    {
     "data": {
      "text/html": [
       "<style>.container { width:80% !important; } p, ul {max-width:␣\n",
       ",→40em;} .rendered_html table { margin-left: 0; } .output_subarea.output_png {␣\n",
       ",→display: flex; justify-content: center;}</style>"
      ],
      "text/plain": [
       "<IPython.core.display.HTML object>"
      ]
     },
     "metadata": {},
     "output_type": "display_data"
    }
   ],
   "source": [
    "from IPython.core.display import display, HTML, Markdown as md\n",
    "display(HTML(\"\"\"<style>.container { width:80% !important; } p, ul {max-width:␣\n",
    ",→40em;} .rendered_html table { margin-left: 0; } .output_subarea.output_png {␣\n",
    ",→display: flex; justify-content: center;}</style>\"\"\"))\n",
    "\n",
    "import pandas            as pd\n",
    "import numpy             as np\n",
    "import seaborn           as sns\n",
    "import matplotlib.pyplot as plt\n",
    "\n",
    "import os\n",
    "\n",
    "from   datetime              import datetime\n",
    "from   datetime              import timedelta\n",
    "\n",
    "import spacy\n",
    "import en_core_web_lg\n",
    "nlp_lg = spacy.load('en_core_web_lg')\n",
    "\n",
    "from pylab           import rcParams\n",
    "from sklearn         import metrics\n",
    "from sklearn.metrics import plot_confusion_matrix"
   ]
  },
  {
   "cell_type": "markdown",
   "metadata": {},
   "source": [
    "### Functions"
   ]
  },
  {
   "cell_type": "code",
   "execution_count": 21,
   "metadata": {},
   "outputs": [],
   "source": [
    "def roundTime(dt=datetime.now(), roundTo=60):\n",
    "   \n",
    "   seconds  = (dt.replace(tzinfo=None) - dt.min).seconds\n",
    "   rounding = (seconds+roundTo/2) // roundTo * roundTo\n",
    "\n",
    "   return dt + timedelta(0,rounding-seconds,-dt.microsecond)"
   ]
  },
  {
   "cell_type": "markdown",
   "metadata": {},
   "source": [
    "### Script"
   ]
  },
  {
   "cell_type": "code",
   "execution_count": 22,
   "metadata": {
    "ExecuteTime": {
     "end_time": "2021-04-22T04:16:07.859440Z",
     "start_time": "2021-04-22T04:16:06.939448Z"
    }
   },
   "outputs": [
    {
     "name": "stdout",
     "output_type": "stream",
     "text": [
      "Set directory\n"
     ]
    }
   ],
   "source": [
    "# Directory information\n",
    "date      = datetime.now()\n",
    "day, time = str(roundTime(date, 10*60)).split(' ')\n",
    "rootDir   = 'Results\\\\' + day \n",
    "rootDir   = rootDir + '\\\\' + next(os.walk(rootDir))[1][-1]\n",
    "\n",
    "# Set specific folders\n",
    "featuresFolder  = rootDir + '\\\\Features'\n",
    "confusionFolder = rootDir + '\\\\ConfusionMatrices'\n",
    "metricsFolder   = rootDir + '\\\\IndividualMetrics'\n",
    "resultsFolder   = rootDir + '\\\\Results'\n",
    "graphsFolder    = rootDir + '\\\\Graphs'\n",
    "GISFolder       = rootDir + '\\\\GISPaper'\n",
    "\n",
    "# What ever's being done uses the keyword 'list' so we have to start with this line\n",
    "if 'list' in locals():\n",
    "    del list\n",
    "\n",
    "# Then we do some data visualization parameters\n",
    "%matplotlib inline\n",
    "rcParams['figure.figsize']  = 15, 10\n",
    "rcParams['axes.titlesize']  = 20\n",
    "rcParams['axes.labelsize']  = 'large'\n",
    "rcParams['xtick.labelsize'] = 10\n",
    "rcParams['ytick.labelsize'] = 10\n",
    "rcParams['lines.linewidth'] = 2\n",
    "rcParams['font.size']       = 18\n",
    "\n",
    "# Now we get the working data set\n",
    "relations                  = pd.read_csv('Metrics\\\\DataSet\\\\workingDataset.csv', index_col = 0, dtype = {'Tagged_Relationship': 'int8'})\n",
    "col_to_downcast            = [col for col in relations.columns if relations[col].dtype == int]\n",
    "relations[col_to_downcast] = relations[col_to_downcast].apply(pd.to_numeric, downcast='integer')\n",
    "\n",
    "# Now we modify the columns for some reason\n",
    "cols                       = list(relations.columns)\n",
    "cols.remove('Tagged_Relationship')\n",
    "cols.append('Tagged_Relationship')\n",
    "relations = relations[cols]\n",
    "\n",
    "# Create a summary of all documents\n",
    "DocNum                 = []\n",
    "Name                   = []\n",
    "Possible_Relationships = []\n",
    "TrueRelationships      = []\n",
    "LengthTokens           = []\n",
    "LengthChars            = []\n",
    "SpeciesMentions        = []\n",
    "UniqueSpecies          = []\n",
    "LocationMentions       = []\n",
    "UniqueLocations        = []\n",
    "Sentences              = []\n",
    "SpeciesTokens          = []\n",
    "LocationTokens         = []\n",
    "\n",
    "# Now we iterate through each unique document in the dataset\n",
    "for i, txtFile in enumerate(relations.AnnTxtFile.unique(), 1):\n",
    "    \n",
    "    # We get the actual PDF document name\n",
    "    document = relations.loc[i, 'Document']\n",
    "    DocNum.append('Document ' + str(i))\n",
    "    \n",
    "    # Append it to the thing\n",
    "    Name.append(document)\n",
    "    \n",
    "    # Extract our data for the unique PDF\n",
    "    Possible_Relationships.append(len(relations[relations.Document  == document]))\n",
    "    TrueRelationships.append     (len(relations[(relations.Document == document) & (relations.Tagged_Relationship == 1)]))\n",
    "    SpeciesMentions.append       (len(relations[relations.Document  == document]['Start_Token_Species'].unique()))\n",
    "    UniqueSpecies.append         (len(relations[relations.Document  == document]['Species'].unique()))\n",
    "    UniqueLocations.append       (len(relations[relations.Document  == document]['Location'].unique()))\n",
    "    LocationMentions.append      (len(relations[relations.Document  == document]['Start_Token_Location'].unique()))\n",
    "    \n",
    "    # Read in the associated extracted text file\n",
    "    file     = open(txtFile,  encoding = \"utf-8\")\n",
    "    textfile = file.read()\n",
    "    file.close()\n",
    "    \n",
    "    # Extract more data\n",
    "    LengthChars.append(len(textfile))\n",
    "    doc = nlp_lg(textfile)\n",
    "    LengthTokens.append(len(doc))\n",
    "    Sentences.append(len([1 for sent in doc.sents]))\n",
    "    SpeciesTokens.append(relations[relations.Document  == document]['End_Token_Species'].unique().sum() - \n",
    "                         relations[relations.Document  == document]['Start_Token_Species'].unique().sum())\n",
    "    LocationTokens.append(relations[relations.Document == document]['End_Token_Location'].unique().sum() - \n",
    "                         relations[relations.Document  == document]['Start_Token_Location'].unique().sum())\n",
    "\n",
    "# Append the total of all documents we worked with\n",
    "DocNum.append('Total')\n",
    "for list in [Possible_Relationships, \n",
    "             TrueRelationships, \n",
    "             LengthTokens, \n",
    "             LengthChars, \n",
    "             SpeciesMentions, \n",
    "             UniqueSpecies, \n",
    "             LocationMentions, \n",
    "             UniqueLocations, \n",
    "             Sentences, \n",
    "             SpeciesTokens, \n",
    "             LocationTokens]:\n",
    "    list.append(sum(list))\n",
    "\n",
    "# Avoid devision by zero\n",
    "RelationshipPerc = [np.round(100*x/y,3) if y > 0 else 0 for x, y in zip(TrueRelationships,Possible_Relationships)]\n",
    "SpeciesPerc      = [np.round(100*x/y,3) if y > 0 else 0 for x, y in zip(SpeciesTokens,LengthTokens)]\n",
    "LocationPerc     = [np.round(100*x/y,3) if y > 0 else 0 for x, y in zip(LocationTokens,LengthTokens)]\n",
    "\n",
    "# Then put it all in a summary dataframe\n",
    "Summary = pd.DataFrame({'DocNum'                 : DocNum,\n",
    "                        'Sentences'              : Sentences, \n",
    "                        'Tokens'                 : LengthTokens, \n",
    "                        'Characters'             : LengthChars,\n",
    "                        'Species Mentions'       : SpeciesMentions, \n",
    "                        'Species %'              : SpeciesPerc, \n",
    "                        'Location Mentions'      : LocationMentions,\n",
    "                        'Location %'             : LocationPerc, \n",
    "                        'Unique Species'         : UniqueSpecies, \n",
    "                        'Unique Locations'       : UniqueLocations,\n",
    "                        'Possible Relationships' : Possible_Relationships,\n",
    "                        'True Relationships'     : TrueRelationships, \n",
    "                        'Relationship %'         : RelationshipPerc\n",
    "                       })\n",
    "\n",
    "# Create a second summary\n",
    "relations[(relations.Document == document) & (relations.Tagged_Relationship == 1)]\n",
    "\n",
    "DocNum                 = []\n",
    "Name                   = []\n",
    "Possible_Relationships = []\n",
    "TrueRelationships      = []\n",
    "LengthTokens           = []\n",
    "LengthChars            = []\n",
    "SpeciesMentions        = []\n",
    "UniqueSpecies          = []\n",
    "LocationMentions       = []\n",
    "UniqueLocations        = []\n",
    "Sentences              = []\n",
    "SpeciesTokens          = []\n",
    "LocationTokens         = []\n",
    "InterSentRelationships = []\n",
    "\n",
    "# Iterate through the unique txt files again\n",
    "for i, txtFile in enumerate(relations.AnnTxtFile.unique(), 1):\n",
    "    \n",
    "    # Get the name of the actual PDF document\n",
    "    document = relations.loc[i, 'Document']\n",
    "    DocNum.append('Document ' + str(i))\n",
    "    Name.append(relations.loc[i, 'Document'])\n",
    "    \n",
    "    # Extract our data\n",
    "    Possible_Relationships.append (len(relations[relations.Document  == document]))\n",
    "    TrueRelationships.append      (len(relations[(relations.Document == document)&(relations.Tagged_Relationship == 1)]))\n",
    "    SpeciesMentions.append        (len(relations[relations.Document  == document]['Start_Token_Species'].unique()))\n",
    "    UniqueSpecies.append          (len(relations[relations.Document  == document]['Species'].unique()))\n",
    "    UniqueLocations.append        (len(relations[relations.Document  == document]['Location'].unique()))\n",
    "    LocationMentions.append       (len(relations[relations.Document  == document]['Start_Token_Location'].unique()))\n",
    "    InterSentRelationships.append (len(relations[(relations.Document == document)&(relations.Tagged_Relationship == 1)&(relations.Same_Sentence == 0)]))\n",
    "    \n",
    "    # Open the associate txt file\n",
    "    file     = open(txtFile, encoding = 'utf-8')\n",
    "    textfile = file.read()\n",
    "    file.close()\n",
    "    \n",
    "    # Tokenize the document\n",
    "    LengthChars.append(len(textfile))\n",
    "    doc = nlp_lg(textfile)\n",
    "    LengthTokens.append(len(doc))\n",
    "    \n",
    "    # Get some stuff\n",
    "    Sentences.append(len([1 for sent in doc.sents]))\n",
    "    SpeciesTokens.append(relations[relations.Document  == document]['End_Token_Species'].unique().sum() - \n",
    "                         relations[relations.Document  == document]['Start_Token_Species'].unique().sum())\n",
    "    LocationTokens.append(relations[relations.Document == document]['End_Token_Location'].unique().sum() - \n",
    "                         relations[relations.Document  == document]['Start_Token_Location'].unique().sum())\n",
    "\n",
    "# Append the total of all the documents we worked with to the visualisation data\n",
    "DocNum.append('Total')\n",
    "for list in [Possible_Relationships, TrueRelationships, LengthTokens, LengthChars, \n",
    "             SpeciesMentions, UniqueSpecies, LocationMentions, UniqueLocations, Sentences, \n",
    "             SpeciesTokens, LocationTokens, InterSentRelationships]:\n",
    "    list.append(sum(list))\n",
    "\n",
    "# Avoid devide by zero again\n",
    "RelationshipPerc = [np.round(100*x/y,3) if y > 0 else 0 for x, y in zip(TrueRelationships,Possible_Relationships)]\n",
    "SpeciesPerc      = [np.round(100*x/y,3) if y > 0 else 0 for x, y in zip(SpeciesTokens,LengthTokens)]\n",
    "LocationPerc     = [np.round(100*x/y,3) if y > 0 else 0 for x, y in zip(LocationTokens,LengthTokens)]\n",
    "CrossSentRelPerc = [np.round(100*x/y,3) if y > 0 else 0 for x, y in zip(InterSentRelationships,TrueRelationships)]\n",
    "\n",
    "# Create the second summary\n",
    "Summary2 = pd.DataFrame({'DocNum':DocNum,\n",
    "                        'Sentences': Sentences, \n",
    "                        'Tokens':LengthTokens, 'Characters': LengthChars,\n",
    "                        'Species Mentions':SpeciesMentions, 'Species %':SpeciesPerc, 'Location Mentions':LocationMentions,\n",
    "                        'Location %': LocationPerc, 'Unique Species':UniqueSpecies, \n",
    "                        'Unique Locations':UniqueLocations,'Possible Relationships': Possible_Relationships,\n",
    "                        'True Relationships': TrueRelationships, 'Relationship %': RelationshipPerc, 'Cross Sentence Relationships %':CrossSentRelPerc\n",
    "                       })\n",
    "\n",
    "# Dataframe from summaries\n",
    "df         = Summary[['DocNum','Species %', 'Location %']]\n",
    "df.columns = ['DocNum','Species', 'Location']\n",
    "df         = df.melt('DocNum', var_name='Entity', value_name='Vals')\n",
    "\n",
    "# Summary of all documents\n",
    "Summary.to_csv(resultsFolder + '\\\\Summary01.csv')\n",
    "\n",
    "# Second summary of all documents\n",
    "Summary2.to_csv(resultsFolder + '\\\\Summary02.csv')"
   ]
  },
  {
   "cell_type": "markdown",
   "metadata": {},
   "source": [
    "### Printouts"
   ]
  },
  {
   "cell_type": "code",
   "execution_count": 26,
   "metadata": {
    "ExecuteTime": {
     "end_time": "2021-03-13T00:45:11.587910Z",
     "start_time": "2021-03-13T00:45:11.369766Z"
    }
   },
   "outputs": [
    {
     "data": {
      "image/png": "[encoded data removed]",
      "text/plain": [
       "<Figure size 1080x720 with 1 Axes>"
      ]
     },
     "metadata": {
      "needs_background": "light"
     },
     "output_type": "display_data"
    },
    {
     "data": {
      "image/png": "[encoded data removed]",
      "text/plain": [
       "<Figure size 860.925x720 with 1 Axes>"
      ]
     },
     "metadata": {
      "needs_background": "light"
     },
     "output_type": "display_data"
    }
   ],
   "source": [
    "# Graph of summary of tokens\n",
    "ax = Summary[0:7].plot.bar(x='DocNum', y='Tokens')\n",
    "ax.figure.savefig(graphsFolder + '\\\\SummaryOfTokens')\n",
    "\n",
    "# Graph of summary tokens in documents\n",
    "ax = sns.barplot(x='DocNum', y='Tokens', data=Summary[0:7], color='tab:blue')\n",
    "ax.set_title('Fig. 2 - Length of Documents in Tokens')\n",
    "ax.set_xlabel('Document')\n",
    "ax.figure.savefig(graphsFolder + '\\\\SummaryOfTokensByDocument')\n",
    "\n",
    "# Graph of summary of sentences in documents\n",
    "ax = sns.barplot(x='DocNum', y='Sentences', data=Summary[0:7], color='tab:blue')\n",
    "ax.set_title('Fig. 3 - Length of Documents in Sentences')\n",
    "ax.set_xlabel('Document')\n",
    "ax.figure.savefig(graphsFolder + '\\\\SummaryOfSentencesByDocument')\n",
    "\n",
    "# Graph of summary of characters in documents\n",
    "ax = sns.barplot(x='DocNum', y='Characters', data=Summary[0:7], color='tab:blue')\n",
    "ax.set_title('Length of Documents in Characters')\n",
    "ax.set_xlabel('Document')\n",
    "ax.figure.savefig(graphsFolder + '\\\\SummaryOfCharactersByDocument')\n",
    "\n",
    "# Graph of summary of actual relationships in documents\n",
    "ax = sns.barplot(x='DocNum', y='Relationship %', data=Summary, color='tab:orange')\n",
    "ax.set_title('Fig. 6 - Percentage of Actual Relationships')\n",
    "ax.set_xlabel('Document')\n",
    "ax.set_ylabel('Percentage')\n",
    "ax.figure.savefig(graphsFolder + '\\\\SummaryOfRelationshipsByDocument')\n",
    "\n",
    "# Prevalence of entity type by document\n",
    "ax = sns.catplot(x = 'DocNum', y = 'Vals', hue = 'Entity', data = df, kind = 'bar', height=10)\n",
    "ax.fig.suptitle('Fig. 4 - Prevalence of Entity Type by Document', y=1)\n",
    "ax.set_axis_labels(\"Document\", \"Percentage of Document's Tokens\")\n",
    "ax.figure.savefig(graphsFolder + '\\\\SummaryOfEntityPrevalenceByDocument')"
   ]
  },
  {
   "cell_type": "markdown",
   "metadata": {},
   "source": [
    "End."
   ]
  }
 ],
 "metadata": {
  "kernelspec": {
   "display_name": "Python 3 (ipykernel)",
   "language": "python",
   "name": "python3"
  },
  "language_info": {
   "codemirror_mode": {
    "name": "ipython",
    "version": 3
   },
   "file_extension": ".py",
   "mimetype": "text/x-python",
   "name": "python",
   "nbconvert_exporter": "python",
   "pygments_lexer": "ipython3",
   "version": "3.9.9"
  },
  "toc": {
   "base_numbering": 1,
   "nav_menu": {},
   "number_sections": true,
   "sideBar": true,
   "skip_h1_title": true,
   "title_cell": "Table of Contents",
   "title_sidebar": "Contents",
   "toc_cell": true,
   "toc_position": {
    "height": "calc(100% - 180px)",
    "left": "10px",
    "top": "150px",
    "width": "311px"
   },
   "toc_section_display": true,
   "toc_window_display": true
  },
  "varInspector": {
   "cols": {
    "lenName": 16,
    "lenType": 16,
    "lenVar": 40
   },
   "kernels_config": {
    "python": {
     "delete_cmd_postfix": "",
     "delete_cmd_prefix": "del ",
     "library": "var_list.py",
     "varRefreshCmd": "print(var_dic_list())"
    },
    "r": {
     "delete_cmd_postfix": ") ",
     "delete_cmd_prefix": "rm(",
     "library": "var_list.r",
     "varRefreshCmd": "cat(var_dic_list()) "
    }
   },
   "types_to_exclude": [
    "module",
    "function",
    "builtin_function_or_method",
    "instance",
    "_Feature"
   ],
   "window_display": false
  }
 },
 "nbformat": 4,
 "nbformat_minor": 2
}
