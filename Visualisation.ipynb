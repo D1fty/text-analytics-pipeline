{
 "cells": [
  {
   "cell_type": "markdown",
   "metadata": {},
   "source": [
    "# MWLR Pipeline: Visualisation"
   ]
  },
  {
   "cell_type": "markdown",
   "metadata": {
    "toc": true
   },
   "source": [
    "<h1>Table of Contents<span class=\"tocSkip\"></span></h1>\n",
    "<div class=\"toc\"><ul class=\"toc-item\"><li><span><a href=\"#Imports-and-Defaults\" data-toc-modified-id=\"Imports-and-Defaults-1\"><span class=\"toc-item-num\">1&nbsp;&nbsp;</span>Imports and Defaults</a></span></li></ul></div>"
   ]
  },
  {
   "cell_type": "markdown",
   "metadata": {},
   "source": [
    "## Imports and Defaults"
   ]
  },
  {
   "cell_type": "code",
   "execution_count": 1,
   "metadata": {
    "ExecuteTime": {
     "end_time": "2021-04-22T04:15:41.554356Z",
     "start_time": "2021-04-22T04:15:41.545494Z"
    }
   },
   "outputs": [
    {
     "data": {
      "text/html": [
       "<style>.container { width:80% !important; } p, ul {max-width:␣\n",
       ",→40em;} .rendered_html table { margin-left: 0; } .output_subarea.output_png {␣\n",
       ",→display: flex; justify-content: center;}</style>"
      ],
      "text/plain": [
       "<IPython.core.display.HTML object>"
      ]
     },
     "metadata": {},
     "output_type": "display_data"
    }
   ],
   "source": [
    "from IPython.core.display import display, HTML, Markdown as md\n",
    "display(HTML(\"\"\"<style>.container { width:80% !important; } p, ul {max-width:␣\n",
    ",→40em;} .rendered_html table { margin-left: 0; } .output_subarea.output_png {␣\n",
    ",→display: flex; justify-content: center;}</style>\"\"\"))"
   ]
  },
  {
   "cell_type": "code",
   "execution_count": 2,
   "metadata": {
    "ExecuteTime": {
     "end_time": "2021-04-22T04:16:06.852650Z",
     "start_time": "2021-04-22T04:15:43.940293Z"
    }
   },
   "outputs": [],
   "source": [
    "import pandas as pd\n",
    "import numpy as np\n",
    "\n",
    "import os\n",
    "\n",
    "from sklearn import metrics\n",
    "from sklearn.metrics import plot_confusion_matrix\n",
    "\n",
    "import spacy\n",
    "import en_core_web_lg\n",
    "nlp_lg = spacy.load('en_core_web_lg')"
   ]
  },
  {
   "cell_type": "code",
   "execution_count": 3,
   "metadata": {
    "ExecuteTime": {
     "end_time": "2021-04-22T04:16:07.859440Z",
     "start_time": "2021-04-22T04:16:06.939448Z"
    }
   },
   "outputs": [
    {
     "name": "stderr",
     "output_type": "stream",
     "text": [
      "/Users/myfriendscallmej/anaconda3/lib/python3.7/site-packages/statsmodels/tools/_testing.py:19: FutureWarning: pandas.util.testing is deprecated. Use the functions in the public API at pandas.testing instead.\n",
      "  import pandas.util.testing as tm\n"
     ]
    }
   ],
   "source": [
    "import seaborn as sns\n",
    "import matplotlib.pyplot as plt\n",
    "# import matplotlib.patches as mpatches\n",
    "# import plotly.express as px\n",
    "from pylab import rcParams\n",
    "\n",
    "%matplotlib inline\n",
    "# rcParams['figure.figsize'] = 10, 7\n",
    "\n",
    "# %matplotlib inline\n",
    "rcParams['figure.figsize'] = 15, 10\n",
    "rcParams['axes.titlesize'] = 20\n",
    "rcParams['axes.labelsize'] = 'large'\n",
    "rcParams['xtick.labelsize'] = 10\n",
    "rcParams['ytick.labelsize'] = 10\n",
    "rcParams['lines.linewidth'] = 2\n",
    "rcParams['font.size'] = 18"
   ]
  },
  {
   "cell_type": "code",
   "execution_count": 4,
   "metadata": {
    "ExecuteTime": {
     "end_time": "2021-04-22T04:16:08.280105Z",
     "start_time": "2021-04-22T04:16:07.871171Z"
    }
   },
   "outputs": [],
   "source": [
    "relations = pd.read_csv('workingDataset.csv', index_col=0, dtype={'Tagged_Relationship': 'int8'})\n",
    "col_to_downcast=[col for col in relations.columns if relations[col].dtype==int]\n",
    "relations[col_to_downcast]=relations[col_to_downcast].apply(pd.to_numeric, downcast='integer')\n",
    "cols= list(relations.columns)\n",
    "cols.remove('Tagged_Relationship')\n",
    "cols.append('Tagged_Relationship')\n",
    "relations=relations[cols]"
   ]
  },
  {
   "cell_type": "code",
   "execution_count": 8,
   "metadata": {
    "ExecuteTime": {
     "end_time": "2021-03-12T22:09:14.253695Z",
     "start_time": "2021-03-12T22:09:14.217370Z"
    }
   },
   "outputs": [
    {
     "data": {
      "text/html": [
       "<div>\n",
       "<style scoped>\n",
       "    .dataframe tbody tr th:only-of-type {\n",
       "        vertical-align: middle;\n",
       "    }\n",
       "\n",
       "    .dataframe tbody tr th {\n",
       "        vertical-align: top;\n",
       "    }\n",
       "\n",
       "    .dataframe thead th {\n",
       "        text-align: right;\n",
       "    }\n",
       "</style>\n",
       "<table border=\"1\" class=\"dataframe\">\n",
       "  <thead>\n",
       "    <tr style=\"text-align: right;\">\n",
       "      <th></th>\n",
       "      <th>Species</th>\n",
       "      <th>Start_Token_Species</th>\n",
       "      <th>End_Token_Species</th>\n",
       "      <th>Start_Index_Species</th>\n",
       "      <th>End_Index_Species</th>\n",
       "      <th>Sentence_Species</th>\n",
       "      <th>inAbstract300_Species</th>\n",
       "      <th>inAbstract500_Species</th>\n",
       "      <th>max_TFISF_Species</th>\n",
       "      <th>Sent_Start_Species</th>\n",
       "      <th>...</th>\n",
       "      <th>sqrt_max_TFISF_Location</th>\n",
       "      <th>sqrt_Num_Tokens_Between</th>\n",
       "      <th>sqrt_Num_Words_Between</th>\n",
       "      <th>sqrt_Num_Verbs_Between</th>\n",
       "      <th>sqrt_Num_Nouns_Between</th>\n",
       "      <th>sqrt_Num_Preps_Between</th>\n",
       "      <th>log_max_TFISF_Species</th>\n",
       "      <th>log_max_TFISF_Location</th>\n",
       "      <th>log_Num_Verbs_Between</th>\n",
       "      <th>Tagged_Relationship</th>\n",
       "    </tr>\n",
       "  </thead>\n",
       "  <tbody>\n",
       "    <tr>\n",
       "      <th>0</th>\n",
       "      <td>Hemichloris antarctica</td>\n",
       "      <td>2566</td>\n",
       "      <td>2568</td>\n",
       "      <td>13939</td>\n",
       "      <td>13961</td>\n",
       "      <td>Free-living algal cells resembling Hemichloris...</td>\n",
       "      <td>0</td>\n",
       "      <td>0</td>\n",
       "      <td>4.267364</td>\n",
       "      <td>0</td>\n",
       "      <td>...</td>\n",
       "      <td>1.849342</td>\n",
       "      <td>50.537115</td>\n",
       "      <td>43.783559</td>\n",
       "      <td>14.764823</td>\n",
       "      <td>24.596748</td>\n",
       "      <td>15.459625</td>\n",
       "      <td>1.661530</td>\n",
       "      <td>1.486155</td>\n",
       "      <td>5.389072</td>\n",
       "      <td>0</td>\n",
       "    </tr>\n",
       "    <tr>\n",
       "      <th>1</th>\n",
       "      <td>Hemichloris antarctica</td>\n",
       "      <td>2566</td>\n",
       "      <td>2568</td>\n",
       "      <td>13939</td>\n",
       "      <td>13961</td>\n",
       "      <td>Free-living algal cells resembling Hemichloris...</td>\n",
       "      <td>0</td>\n",
       "      <td>0</td>\n",
       "      <td>4.267364</td>\n",
       "      <td>0</td>\n",
       "      <td>...</td>\n",
       "      <td>1.849342</td>\n",
       "      <td>50.517324</td>\n",
       "      <td>43.772137</td>\n",
       "      <td>14.764823</td>\n",
       "      <td>24.596748</td>\n",
       "      <td>15.459625</td>\n",
       "      <td>1.661530</td>\n",
       "      <td>1.486155</td>\n",
       "      <td>5.389072</td>\n",
       "      <td>0</td>\n",
       "    </tr>\n",
       "    <tr>\n",
       "      <th>2</th>\n",
       "      <td>Hemichloris antarctica</td>\n",
       "      <td>2566</td>\n",
       "      <td>2568</td>\n",
       "      <td>13939</td>\n",
       "      <td>13961</td>\n",
       "      <td>Free-living algal cells resembling Hemichloris...</td>\n",
       "      <td>0</td>\n",
       "      <td>0</td>\n",
       "      <td>4.267364</td>\n",
       "      <td>0</td>\n",
       "      <td>...</td>\n",
       "      <td>2.316458</td>\n",
       "      <td>49.839743</td>\n",
       "      <td>43.474130</td>\n",
       "      <td>14.628739</td>\n",
       "      <td>24.596748</td>\n",
       "      <td>15.427249</td>\n",
       "      <td>1.661530</td>\n",
       "      <td>1.850968</td>\n",
       "      <td>5.370638</td>\n",
       "      <td>0</td>\n",
       "    </tr>\n",
       "    <tr>\n",
       "      <th>3</th>\n",
       "      <td>Hemichloris antarctica</td>\n",
       "      <td>2566</td>\n",
       "      <td>2568</td>\n",
       "      <td>13939</td>\n",
       "      <td>13961</td>\n",
       "      <td>Free-living algal cells resembling Hemichloris...</td>\n",
       "      <td>0</td>\n",
       "      <td>0</td>\n",
       "      <td>4.267364</td>\n",
       "      <td>0</td>\n",
       "      <td>...</td>\n",
       "      <td>2.316458</td>\n",
       "      <td>49.829710</td>\n",
       "      <td>43.462628</td>\n",
       "      <td>14.628739</td>\n",
       "      <td>24.596748</td>\n",
       "      <td>15.427249</td>\n",
       "      <td>1.661530</td>\n",
       "      <td>1.850968</td>\n",
       "      <td>5.370638</td>\n",
       "      <td>0</td>\n",
       "    </tr>\n",
       "    <tr>\n",
       "      <th>4</th>\n",
       "      <td>Hemichloris antarctica</td>\n",
       "      <td>2566</td>\n",
       "      <td>2568</td>\n",
       "      <td>13939</td>\n",
       "      <td>13961</td>\n",
       "      <td>Free-living algal cells resembling Hemichloris...</td>\n",
       "      <td>0</td>\n",
       "      <td>0</td>\n",
       "      <td>4.267364</td>\n",
       "      <td>0</td>\n",
       "      <td>...</td>\n",
       "      <td>1.849342</td>\n",
       "      <td>49.719212</td>\n",
       "      <td>43.347434</td>\n",
       "      <td>14.594520</td>\n",
       "      <td>24.556058</td>\n",
       "      <td>15.362291</td>\n",
       "      <td>1.661530</td>\n",
       "      <td>1.486155</td>\n",
       "      <td>5.365976</td>\n",
       "      <td>0</td>\n",
       "    </tr>\n",
       "    <tr>\n",
       "      <th>...</th>\n",
       "      <td>...</td>\n",
       "      <td>...</td>\n",
       "      <td>...</td>\n",
       "      <td>...</td>\n",
       "      <td>...</td>\n",
       "      <td>...</td>\n",
       "      <td>...</td>\n",
       "      <td>...</td>\n",
       "      <td>...</td>\n",
       "      <td>...</td>\n",
       "      <td>...</td>\n",
       "      <td>...</td>\n",
       "      <td>...</td>\n",
       "      <td>...</td>\n",
       "      <td>...</td>\n",
       "      <td>...</td>\n",
       "      <td>...</td>\n",
       "      <td>...</td>\n",
       "      <td>...</td>\n",
       "      <td>...</td>\n",
       "      <td>...</td>\n",
       "    </tr>\n",
       "    <tr>\n",
       "      <th>21413</th>\n",
       "      <td>L. frigida</td>\n",
       "      <td>9081</td>\n",
       "      <td>9083</td>\n",
       "      <td>47612</td>\n",
       "      <td>47622</td>\n",
       "      <td>Particularly, the clade of L. frigida is compo...</td>\n",
       "      <td>0</td>\n",
       "      <td>0</td>\n",
       "      <td>4.679040</td>\n",
       "      <td>0</td>\n",
       "      <td>...</td>\n",
       "      <td>1.490740</td>\n",
       "      <td>31.921779</td>\n",
       "      <td>28.089144</td>\n",
       "      <td>8.944272</td>\n",
       "      <td>14.764823</td>\n",
       "      <td>11.045361</td>\n",
       "      <td>1.736782</td>\n",
       "      <td>1.170097</td>\n",
       "      <td>4.394449</td>\n",
       "      <td>0</td>\n",
       "    </tr>\n",
       "    <tr>\n",
       "      <th>21414</th>\n",
       "      <td>L. frigida</td>\n",
       "      <td>9081</td>\n",
       "      <td>9083</td>\n",
       "      <td>47612</td>\n",
       "      <td>47622</td>\n",
       "      <td>Particularly, the clade of L. frigida is compo...</td>\n",
       "      <td>0</td>\n",
       "      <td>0</td>\n",
       "      <td>4.679040</td>\n",
       "      <td>0</td>\n",
       "      <td>...</td>\n",
       "      <td>1.490740</td>\n",
       "      <td>32.526912</td>\n",
       "      <td>28.705400</td>\n",
       "      <td>9.055385</td>\n",
       "      <td>15.165751</td>\n",
       "      <td>11.401754</td>\n",
       "      <td>1.736782</td>\n",
       "      <td>1.170097</td>\n",
       "      <td>4.418841</td>\n",
       "      <td>0</td>\n",
       "    </tr>\n",
       "    <tr>\n",
       "      <th>21415</th>\n",
       "      <td>L. frigida</td>\n",
       "      <td>9081</td>\n",
       "      <td>9083</td>\n",
       "      <td>47612</td>\n",
       "      <td>47622</td>\n",
       "      <td>Particularly, the clade of L. frigida is compo...</td>\n",
       "      <td>0</td>\n",
       "      <td>0</td>\n",
       "      <td>4.679040</td>\n",
       "      <td>0</td>\n",
       "      <td>...</td>\n",
       "      <td>1.490740</td>\n",
       "      <td>33.015148</td>\n",
       "      <td>29.189039</td>\n",
       "      <td>9.219544</td>\n",
       "      <td>15.459625</td>\n",
       "      <td>11.532563</td>\n",
       "      <td>1.736782</td>\n",
       "      <td>1.170097</td>\n",
       "      <td>4.454347</td>\n",
       "      <td>0</td>\n",
       "    </tr>\n",
       "    <tr>\n",
       "      <th>21416</th>\n",
       "      <td>L. frigida</td>\n",
       "      <td>9081</td>\n",
       "      <td>9083</td>\n",
       "      <td>47612</td>\n",
       "      <td>47622</td>\n",
       "      <td>Particularly, the clade of L. frigida is compo...</td>\n",
       "      <td>0</td>\n",
       "      <td>0</td>\n",
       "      <td>4.679040</td>\n",
       "      <td>0</td>\n",
       "      <td>...</td>\n",
       "      <td>1.490740</td>\n",
       "      <td>33.376639</td>\n",
       "      <td>29.563491</td>\n",
       "      <td>9.327379</td>\n",
       "      <td>15.652476</td>\n",
       "      <td>11.747340</td>\n",
       "      <td>1.736782</td>\n",
       "      <td>1.170097</td>\n",
       "      <td>4.477337</td>\n",
       "      <td>0</td>\n",
       "    </tr>\n",
       "    <tr>\n",
       "      <th>21417</th>\n",
       "      <td>L. frigida</td>\n",
       "      <td>9081</td>\n",
       "      <td>9083</td>\n",
       "      <td>47612</td>\n",
       "      <td>47622</td>\n",
       "      <td>Particularly, the clade of L. frigida is compo...</td>\n",
       "      <td>0</td>\n",
       "      <td>0</td>\n",
       "      <td>4.679040</td>\n",
       "      <td>0</td>\n",
       "      <td>...</td>\n",
       "      <td>1.699200</td>\n",
       "      <td>38.366652</td>\n",
       "      <td>34.351128</td>\n",
       "      <td>11.224972</td>\n",
       "      <td>18.275667</td>\n",
       "      <td>13.228757</td>\n",
       "      <td>1.736782</td>\n",
       "      <td>1.357710</td>\n",
       "      <td>4.844187</td>\n",
       "      <td>0</td>\n",
       "    </tr>\n",
       "  </tbody>\n",
       "</table>\n",
       "<p>21418 rows × 40 columns</p>\n",
       "</div>"
      ],
      "text/plain": [
       "                      Species  Start_Token_Species  End_Token_Species  \\\n",
       "0      Hemichloris antarctica                 2566               2568   \n",
       "1      Hemichloris antarctica                 2566               2568   \n",
       "2      Hemichloris antarctica                 2566               2568   \n",
       "3      Hemichloris antarctica                 2566               2568   \n",
       "4      Hemichloris antarctica                 2566               2568   \n",
       "...                       ...                  ...                ...   \n",
       "21413              L. frigida                 9081               9083   \n",
       "21414              L. frigida                 9081               9083   \n",
       "21415              L. frigida                 9081               9083   \n",
       "21416              L. frigida                 9081               9083   \n",
       "21417              L. frigida                 9081               9083   \n",
       "\n",
       "       Start_Index_Species  End_Index_Species  \\\n",
       "0                    13939              13961   \n",
       "1                    13939              13961   \n",
       "2                    13939              13961   \n",
       "3                    13939              13961   \n",
       "4                    13939              13961   \n",
       "...                    ...                ...   \n",
       "21413                47612              47622   \n",
       "21414                47612              47622   \n",
       "21415                47612              47622   \n",
       "21416                47612              47622   \n",
       "21417                47612              47622   \n",
       "\n",
       "                                        Sentence_Species  \\\n",
       "0      Free-living algal cells resembling Hemichloris...   \n",
       "1      Free-living algal cells resembling Hemichloris...   \n",
       "2      Free-living algal cells resembling Hemichloris...   \n",
       "3      Free-living algal cells resembling Hemichloris...   \n",
       "4      Free-living algal cells resembling Hemichloris...   \n",
       "...                                                  ...   \n",
       "21413  Particularly, the clade of L. frigida is compo...   \n",
       "21414  Particularly, the clade of L. frigida is compo...   \n",
       "21415  Particularly, the clade of L. frigida is compo...   \n",
       "21416  Particularly, the clade of L. frigida is compo...   \n",
       "21417  Particularly, the clade of L. frigida is compo...   \n",
       "\n",
       "       inAbstract300_Species  inAbstract500_Species  max_TFISF_Species  \\\n",
       "0                          0                      0           4.267364   \n",
       "1                          0                      0           4.267364   \n",
       "2                          0                      0           4.267364   \n",
       "3                          0                      0           4.267364   \n",
       "4                          0                      0           4.267364   \n",
       "...                      ...                    ...                ...   \n",
       "21413                      0                      0           4.679040   \n",
       "21414                      0                      0           4.679040   \n",
       "21415                      0                      0           4.679040   \n",
       "21416                      0                      0           4.679040   \n",
       "21417                      0                      0           4.679040   \n",
       "\n",
       "       Sent_Start_Species  ... sqrt_max_TFISF_Location  \\\n",
       "0                       0  ...                1.849342   \n",
       "1                       0  ...                1.849342   \n",
       "2                       0  ...                2.316458   \n",
       "3                       0  ...                2.316458   \n",
       "4                       0  ...                1.849342   \n",
       "...                   ...  ...                     ...   \n",
       "21413                   0  ...                1.490740   \n",
       "21414                   0  ...                1.490740   \n",
       "21415                   0  ...                1.490740   \n",
       "21416                   0  ...                1.490740   \n",
       "21417                   0  ...                1.699200   \n",
       "\n",
       "      sqrt_Num_Tokens_Between  sqrt_Num_Words_Between  sqrt_Num_Verbs_Between  \\\n",
       "0                   50.537115               43.783559               14.764823   \n",
       "1                   50.517324               43.772137               14.764823   \n",
       "2                   49.839743               43.474130               14.628739   \n",
       "3                   49.829710               43.462628               14.628739   \n",
       "4                   49.719212               43.347434               14.594520   \n",
       "...                       ...                     ...                     ...   \n",
       "21413               31.921779               28.089144                8.944272   \n",
       "21414               32.526912               28.705400                9.055385   \n",
       "21415               33.015148               29.189039                9.219544   \n",
       "21416               33.376639               29.563491                9.327379   \n",
       "21417               38.366652               34.351128               11.224972   \n",
       "\n",
       "       sqrt_Num_Nouns_Between  sqrt_Num_Preps_Between log_max_TFISF_Species  \\\n",
       "0                   24.596748               15.459625              1.661530   \n",
       "1                   24.596748               15.459625              1.661530   \n",
       "2                   24.596748               15.427249              1.661530   \n",
       "3                   24.596748               15.427249              1.661530   \n",
       "4                   24.556058               15.362291              1.661530   \n",
       "...                       ...                     ...                   ...   \n",
       "21413               14.764823               11.045361              1.736782   \n",
       "21414               15.165751               11.401754              1.736782   \n",
       "21415               15.459625               11.532563              1.736782   \n",
       "21416               15.652476               11.747340              1.736782   \n",
       "21417               18.275667               13.228757              1.736782   \n",
       "\n",
       "       log_max_TFISF_Location  log_Num_Verbs_Between  Tagged_Relationship  \n",
       "0                    1.486155               5.389072                    0  \n",
       "1                    1.486155               5.389072                    0  \n",
       "2                    1.850968               5.370638                    0  \n",
       "3                    1.850968               5.370638                    0  \n",
       "4                    1.486155               5.365976                    0  \n",
       "...                       ...                    ...                  ...  \n",
       "21413                1.170097               4.394449                    0  \n",
       "21414                1.170097               4.418841                    0  \n",
       "21415                1.170097               4.454347                    0  \n",
       "21416                1.170097               4.477337                    0  \n",
       "21417                1.357710               4.844187                    0  \n",
       "\n",
       "[21418 rows x 40 columns]"
      ]
     },
     "execution_count": 8,
     "metadata": {},
     "output_type": "execute_result"
    }
   ],
   "source": [
    "relations"
   ]
  },
  {
   "cell_type": "code",
   "execution_count": 195,
   "metadata": {
    "ExecuteTime": {
     "end_time": "2021-03-13T02:17:48.404700Z",
     "start_time": "2021-03-13T02:17:48.398878Z"
    }
   },
   "outputs": [
    {
     "data": {
      "text/plain": [
       "array(['Archer2017_Article_EndolithicMicrobialDiversityIn',\n",
       "       'fmicb-07-01642',\n",
       "       'summer-activity-patterns-for-mosses-and-lichens-in-maritime-antarctica',\n",
       "       's42003-018-0260-y',\n",
       "       'Fraser2018_Article_EvidenceOfPlantAndAnimalCommun', 'source',\n",
       "       'fmicb-10-01018'], dtype=object)"
      ]
     },
     "execution_count": 195,
     "metadata": {},
     "output_type": "execute_result"
    }
   ],
   "source": [
    "relations.Document.unique()"
   ]
  },
  {
   "cell_type": "code",
   "execution_count": 24,
   "metadata": {
    "ExecuteTime": {
     "end_time": "2021-03-12T22:50:14.614794Z",
     "start_time": "2021-03-12T22:50:14.607682Z"
    }
   },
   "outputs": [
    {
     "data": {
      "text/plain": [
       "11"
      ]
     },
     "execution_count": 24,
     "metadata": {},
     "output_type": "execute_result"
    }
   ],
   "source": [
    "relations[(relations.Document =='Archer2017_Article_EndolithicMicrobialDiversityIn')&(relations.Tagged_Relationship ==1)])"
   ]
  },
  {
   "cell_type": "code",
   "execution_count": 29,
   "metadata": {
    "ExecuteTime": {
     "end_time": "2021-04-05T04:00:21.898465Z",
     "start_time": "2021-04-05T04:00:21.892126Z"
    }
   },
   "outputs": [
    {
     "data": {
      "text/plain": [
       "2"
      ]
     },
     "execution_count": 29,
     "metadata": {},
     "output_type": "execute_result"
    }
   ],
   "source": [
    "len(relations[(relations.Document =='Archer2017_Article_EndolithicMicrobialDiversityIn')&(relations.Tagged_Relationship ==1)&(relations.Same_Sentence ==0)])"
   ]
  },
  {
   "cell_type": "code",
   "execution_count": 68,
   "metadata": {
    "ExecuteTime": {
     "end_time": "2021-03-12T23:56:02.978665Z",
     "start_time": "2021-03-12T23:56:02.971329Z"
    }
   },
   "outputs": [
    {
     "data": {
      "text/plain": [
       "array(['Hemichloris antarctica', 'Leptolyngbya', 'Diplosphaera sp.',\n",
       "       'Trebouxia', 'Lecidea', 'Nitrososphaera gargensis',\n",
       "       'Chroococcidiopsis', 'Diplosphaera', 'Hemichloris'], dtype=object)"
      ]
     },
     "execution_count": 68,
     "metadata": {},
     "output_type": "execute_result"
    }
   ],
   "source": [
    "relations[(relations.Document =='Archer2017_Article_EndolithicMicrobialDiversityIn')].Species.unique()"
   ]
  },
  {
   "cell_type": "code",
   "execution_count": 67,
   "metadata": {
    "ExecuteTime": {
     "end_time": "2021-03-12T23:53:35.950979Z",
     "start_time": "2021-03-12T23:53:35.942068Z"
    }
   },
   "outputs": [
    {
     "data": {
      "text/plain": [
       "18"
      ]
     },
     "execution_count": 67,
     "metadata": {},
     "output_type": "execute_result"
    }
   ],
   "source": [
    "relations[relations.Document =='Archer2017_Article_EndolithicMicrobialDiversityIn']['End_Token_Species'].unique().sum() - relations[relations.Document =='Archer2017_Article_EndolithicMicrobialDiversityIn']['Start_Token_Species'].unique().sum() "
   ]
  },
  {
   "cell_type": "code",
   "execution_count": 190,
   "metadata": {
    "ExecuteTime": {
     "end_time": "2021-03-13T02:06:57.846971Z",
     "start_time": "2021-03-13T02:06:50.947703Z"
    }
   },
   "outputs": [],
   "source": [
    "DocNum = []\n",
    "Name = []\n",
    "Possible_Relationships = []\n",
    "TrueRelationships =[]\n",
    "LengthTokens = []\n",
    "LengthChars= []\n",
    "SpeciesMentions = []\n",
    "UniqueSpecies =[]\n",
    "LocationMentions = []\n",
    "UniqueLocations = []\n",
    "Sentences = []\n",
    "SpeciesTokens = []\n",
    "LocationTokens = []\n",
    "\n",
    "for i, document in enumerate(relations.Document.unique(), 1):\n",
    "    DocNum.append('Document ' + str(i))\n",
    "    Name.append(document)\n",
    "    Possible_Relationships.append(len(relations[relations.Document ==document]))\n",
    "    TrueRelationships.append(len(relations[(relations.Document ==document)&(relations.Tagged_Relationship ==1)]))\n",
    "    SpeciesMentions.append(len(relations[relations.Document ==document]['Start_Token_Species'].unique()))\n",
    "    UniqueSpecies.append(len(relations[relations.Document ==document]['Species'].unique()))\n",
    "    UniqueLocations.append(len(relations[relations.Document ==document]['Location'].unique()))\n",
    "    LocationMentions.append(len(relations[relations.Document ==document]['Start_Token_Location'].unique()))\n",
    "    filename = document+'.txt'\n",
    "    file = open('FraserSet/BodyOnly/Clean/'+filename)\n",
    "    textfile = file.read()\n",
    "    file.close()\n",
    "    LengthChars.append(len(textfile))\n",
    "    doc = nlp_lg(textfile)\n",
    "    LengthTokens.append(len(doc))\n",
    "    Sentences.append(len([1 for sent in doc.sents]))\n",
    "    SpeciesTokens.append(relations[relations.Document ==document]['End_Token_Species'].unique().sum() - \n",
    "                         relations[relations.Document ==document]['Start_Token_Species'].unique().sum())\n",
    "    LocationTokens.append(relations[relations.Document ==document]['End_Token_Location'].unique().sum() - \n",
    "                         relations[relations.Document ==document]['Start_Token_Location'].unique().sum())\n",
    "\n",
    "DocNum.append('Total')\n",
    "for list in [Possible_Relationships, TrueRelationships, LengthTokens, LengthChars, \n",
    "             SpeciesMentions, UniqueSpecies, LocationMentions, UniqueLocations, Sentences, \n",
    "             SpeciesTokens, LocationTokens]:\n",
    "    list.append(sum(list))\n",
    "\n",
    "RelationshipPerc = [np.round(100*x/y,3) for x, y in zip(TrueRelationships,Possible_Relationships)]\n",
    "SpeciesPerc = [np.round(100*x/y,3) for x, y in zip(SpeciesTokens,LengthTokens)]\n",
    "LocationPerc = [np.round(100*x/y,3) for x, y in zip(LocationTokens,LengthTokens)]\n",
    "    \n",
    "Summary = pd.DataFrame({'DocNum':DocNum,\n",
    "                        'Sentences': Sentences, \n",
    "                        'Tokens':LengthTokens, 'Characters': LengthChars,\n",
    "                        'Species Mentions':SpeciesMentions, 'Species %':SpeciesPerc, 'Location Mentions':LocationMentions,\n",
    "                        'Location %': LocationPerc, 'Unique Species':UniqueSpecies, \n",
    "                        'Unique Locations':UniqueLocations,'Possible Relationships': Possible_Relationships,\n",
    "                        'True Relationships': TrueRelationships, 'Relationship %': RelationshipPerc\n",
    "                       })"
   ]
  },
  {
   "cell_type": "code",
   "execution_count": 191,
   "metadata": {
    "ExecuteTime": {
     "end_time": "2021-03-13T02:06:57.963898Z",
     "start_time": "2021-03-13T02:06:57.947723Z"
    }
   },
   "outputs": [
    {
     "data": {
      "text/html": [
       "<div>\n",
       "<style scoped>\n",
       "    .dataframe tbody tr th:only-of-type {\n",
       "        vertical-align: middle;\n",
       "    }\n",
       "\n",
       "    .dataframe tbody tr th {\n",
       "        vertical-align: top;\n",
       "    }\n",
       "\n",
       "    .dataframe thead th {\n",
       "        text-align: right;\n",
       "    }\n",
       "</style>\n",
       "<table border=\"1\" class=\"dataframe\">\n",
       "  <thead>\n",
       "    <tr style=\"text-align: right;\">\n",
       "      <th></th>\n",
       "      <th>DocNum</th>\n",
       "      <th>Sentences</th>\n",
       "      <th>Tokens</th>\n",
       "      <th>Characters</th>\n",
       "      <th>Species Mentions</th>\n",
       "      <th>Species %</th>\n",
       "      <th>Location Mentions</th>\n",
       "      <th>Location %</th>\n",
       "      <th>Unique Species</th>\n",
       "      <th>Unique Locations</th>\n",
       "      <th>Possible Relationships</th>\n",
       "      <th>True Relationships</th>\n",
       "      <th>Relationship %</th>\n",
       "    </tr>\n",
       "  </thead>\n",
       "  <tbody>\n",
       "    <tr>\n",
       "      <th>0</th>\n",
       "      <td>Document 1</td>\n",
       "      <td>214</td>\n",
       "      <td>5120</td>\n",
       "      <td>28657</td>\n",
       "      <td>12</td>\n",
       "      <td>0.352</td>\n",
       "      <td>96</td>\n",
       "      <td>3.379</td>\n",
       "      <td>9</td>\n",
       "      <td>25</td>\n",
       "      <td>1152</td>\n",
       "      <td>11</td>\n",
       "      <td>0.955</td>\n",
       "    </tr>\n",
       "    <tr>\n",
       "      <th>1</th>\n",
       "      <td>Document 2</td>\n",
       "      <td>252</td>\n",
       "      <td>7192</td>\n",
       "      <td>40167</td>\n",
       "      <td>13</td>\n",
       "      <td>0.209</td>\n",
       "      <td>87</td>\n",
       "      <td>1.961</td>\n",
       "      <td>8</td>\n",
       "      <td>33</td>\n",
       "      <td>1131</td>\n",
       "      <td>12</td>\n",
       "      <td>1.061</td>\n",
       "    </tr>\n",
       "    <tr>\n",
       "      <th>2</th>\n",
       "      <td>Document 3</td>\n",
       "      <td>335</td>\n",
       "      <td>8779</td>\n",
       "      <td>45059</td>\n",
       "      <td>55</td>\n",
       "      <td>1.333</td>\n",
       "      <td>138</td>\n",
       "      <td>2.939</td>\n",
       "      <td>28</td>\n",
       "      <td>33</td>\n",
       "      <td>7590</td>\n",
       "      <td>48</td>\n",
       "      <td>0.632</td>\n",
       "    </tr>\n",
       "    <tr>\n",
       "      <th>3</th>\n",
       "      <td>Document 4</td>\n",
       "      <td>194</td>\n",
       "      <td>5524</td>\n",
       "      <td>32034</td>\n",
       "      <td>92</td>\n",
       "      <td>1.756</td>\n",
       "      <td>35</td>\n",
       "      <td>0.833</td>\n",
       "      <td>8</td>\n",
       "      <td>22</td>\n",
       "      <td>3220</td>\n",
       "      <td>11</td>\n",
       "      <td>0.342</td>\n",
       "    </tr>\n",
       "    <tr>\n",
       "      <th>4</th>\n",
       "      <td>Document 5</td>\n",
       "      <td>82</td>\n",
       "      <td>2387</td>\n",
       "      <td>12857</td>\n",
       "      <td>3</td>\n",
       "      <td>0.209</td>\n",
       "      <td>64</td>\n",
       "      <td>4.650</td>\n",
       "      <td>3</td>\n",
       "      <td>29</td>\n",
       "      <td>192</td>\n",
       "      <td>4</td>\n",
       "      <td>2.083</td>\n",
       "    </tr>\n",
       "    <tr>\n",
       "      <th>5</th>\n",
       "      <td>Document 6</td>\n",
       "      <td>143</td>\n",
       "      <td>4212</td>\n",
       "      <td>23542</td>\n",
       "      <td>8</td>\n",
       "      <td>0.380</td>\n",
       "      <td>31</td>\n",
       "      <td>1.068</td>\n",
       "      <td>3</td>\n",
       "      <td>20</td>\n",
       "      <td>248</td>\n",
       "      <td>3</td>\n",
       "      <td>1.210</td>\n",
       "    </tr>\n",
       "    <tr>\n",
       "      <th>6</th>\n",
       "      <td>Document 7</td>\n",
       "      <td>323</td>\n",
       "      <td>10823</td>\n",
       "      <td>57358</td>\n",
       "      <td>83</td>\n",
       "      <td>0.942</td>\n",
       "      <td>95</td>\n",
       "      <td>1.515</td>\n",
       "      <td>29</td>\n",
       "      <td>27</td>\n",
       "      <td>7885</td>\n",
       "      <td>40</td>\n",
       "      <td>0.507</td>\n",
       "    </tr>\n",
       "    <tr>\n",
       "      <th>7</th>\n",
       "      <td>Total</td>\n",
       "      <td>1543</td>\n",
       "      <td>44037</td>\n",
       "      <td>239674</td>\n",
       "      <td>266</td>\n",
       "      <td>0.840</td>\n",
       "      <td>546</td>\n",
       "      <td>2.130</td>\n",
       "      <td>88</td>\n",
       "      <td>189</td>\n",
       "      <td>21418</td>\n",
       "      <td>129</td>\n",
       "      <td>0.602</td>\n",
       "    </tr>\n",
       "  </tbody>\n",
       "</table>\n",
       "</div>"
      ],
      "text/plain": [
       "       DocNum  Sentences  Tokens  Characters  Species Mentions  Species %  \\\n",
       "0  Document 1        214    5120       28657                12      0.352   \n",
       "1  Document 2        252    7192       40167                13      0.209   \n",
       "2  Document 3        335    8779       45059                55      1.333   \n",
       "3  Document 4        194    5524       32034                92      1.756   \n",
       "4  Document 5         82    2387       12857                 3      0.209   \n",
       "5  Document 6        143    4212       23542                 8      0.380   \n",
       "6  Document 7        323   10823       57358                83      0.942   \n",
       "7       Total       1543   44037      239674               266      0.840   \n",
       "\n",
       "   Location Mentions  Location %  Unique Species  Unique Locations  \\\n",
       "0                 96       3.379               9                25   \n",
       "1                 87       1.961               8                33   \n",
       "2                138       2.939              28                33   \n",
       "3                 35       0.833               8                22   \n",
       "4                 64       4.650               3                29   \n",
       "5                 31       1.068               3                20   \n",
       "6                 95       1.515              29                27   \n",
       "7                546       2.130              88               189   \n",
       "\n",
       "   Possible Relationships  True Relationships  Relationship %  \n",
       "0                    1152                  11           0.955  \n",
       "1                    1131                  12           1.061  \n",
       "2                    7590                  48           0.632  \n",
       "3                    3220                  11           0.342  \n",
       "4                     192                   4           2.083  \n",
       "5                     248                   3           1.210  \n",
       "6                    7885                  40           0.507  \n",
       "7                   21418                 129           0.602  "
      ]
     },
     "execution_count": 191,
     "metadata": {},
     "output_type": "execute_result"
    }
   ],
   "source": [
    "Summary"
   ]
  },
  {
   "cell_type": "code",
   "execution_count": null,
   "metadata": {},
   "outputs": [],
   "source": [
    "relations[(relations.Document ==document)&(relations.Tagged_Relationship ==1)]"
   ]
  },
  {
   "cell_type": "code",
   "execution_count": 31,
   "metadata": {
    "ExecuteTime": {
     "end_time": "2021-04-05T04:04:12.238276Z",
     "start_time": "2021-04-05T04:04:05.276295Z"
    }
   },
   "outputs": [],
   "source": [
    "DocNum = []\n",
    "Name = []\n",
    "Possible_Relationships = []\n",
    "TrueRelationships =[]\n",
    "LengthTokens = []\n",
    "LengthChars= []\n",
    "SpeciesMentions = []\n",
    "UniqueSpecies =[]\n",
    "LocationMentions = []\n",
    "UniqueLocations = []\n",
    "Sentences = []\n",
    "SpeciesTokens = []\n",
    "LocationTokens = []\n",
    "InterSentRelationships = []\n",
    "\n",
    "\n",
    "for i, document in enumerate(relations.Document.unique(), 1):\n",
    "    DocNum.append('Document ' + str(i))\n",
    "    Name.append(document)\n",
    "    Possible_Relationships.append(len(relations[relations.Document ==document]))\n",
    "    TrueRelationships.append(len(relations[(relations.Document ==document)&(relations.Tagged_Relationship ==1)]))\n",
    "    SpeciesMentions.append(len(relations[relations.Document ==document]['Start_Token_Species'].unique()))\n",
    "    UniqueSpecies.append(len(relations[relations.Document ==document]['Species'].unique()))\n",
    "    UniqueLocations.append(len(relations[relations.Document ==document]['Location'].unique()))\n",
    "    LocationMentions.append(len(relations[relations.Document ==document]['Start_Token_Location'].unique()))\n",
    "    InterSentRelationships.append(len(relations[(relations.Document ==document)&(relations.Tagged_Relationship ==1)&(relations.Same_Sentence ==0)]))\n",
    "    filename = document+'.txt'\n",
    "    file = open('FraserSet/BodyOnly/Clean/'+filename)\n",
    "    textfile = file.read()\n",
    "    file.close()\n",
    "    LengthChars.append(len(textfile))\n",
    "    doc = nlp_lg(textfile)\n",
    "    LengthTokens.append(len(doc))\n",
    "    Sentences.append(len([1 for sent in doc.sents]))\n",
    "    SpeciesTokens.append(relations[relations.Document ==document]['End_Token_Species'].unique().sum() - \n",
    "                         relations[relations.Document ==document]['Start_Token_Species'].unique().sum())\n",
    "    LocationTokens.append(relations[relations.Document ==document]['End_Token_Location'].unique().sum() - \n",
    "                         relations[relations.Document ==document]['Start_Token_Location'].unique().sum())\n",
    "\n",
    "DocNum.append('Total')\n",
    "for list in [Possible_Relationships, TrueRelationships, LengthTokens, LengthChars, \n",
    "             SpeciesMentions, UniqueSpecies, LocationMentions, UniqueLocations, Sentences, \n",
    "             SpeciesTokens, LocationTokens, InterSentRelationships]:\n",
    "    list.append(sum(list))\n",
    "\n",
    "RelationshipPerc = [np.round(100*x/y,3) for x, y in zip(TrueRelationships,Possible_Relationships)]\n",
    "SpeciesPerc = [np.round(100*x/y,3) for x, y in zip(SpeciesTokens,LengthTokens)]\n",
    "LocationPerc = [np.round(100*x/y,3) for x, y in zip(LocationTokens,LengthTokens)]\n",
    "CrossSentRelPerc = [np.round(100*x/y,3) for x, y in zip(InterSentRelationships,TrueRelationships)]\n",
    "    \n",
    "Summary2 = pd.DataFrame({'DocNum':DocNum,\n",
    "                        'Sentences': Sentences, \n",
    "                        'Tokens':LengthTokens, 'Characters': LengthChars,\n",
    "                        'Species Mentions':SpeciesMentions, 'Species %':SpeciesPerc, 'Location Mentions':LocationMentions,\n",
    "                        'Location %': LocationPerc, 'Unique Species':UniqueSpecies, \n",
    "                        'Unique Locations':UniqueLocations,'Possible Relationships': Possible_Relationships,\n",
    "                        'True Relationships': TrueRelationships, 'Relationship %': RelationshipPerc, 'Cross Sentence Relationships %':CrossSentRelPerc\n",
    "                       })"
   ]
  },
  {
   "cell_type": "code",
   "execution_count": 32,
   "metadata": {
    "ExecuteTime": {
     "end_time": "2021-04-05T04:04:12.344919Z",
     "start_time": "2021-04-05T04:04:12.328834Z"
    }
   },
   "outputs": [
    {
     "data": {
      "text/html": [
       "<div>\n",
       "<style scoped>\n",
       "    .dataframe tbody tr th:only-of-type {\n",
       "        vertical-align: middle;\n",
       "    }\n",
       "\n",
       "    .dataframe tbody tr th {\n",
       "        vertical-align: top;\n",
       "    }\n",
       "\n",
       "    .dataframe thead th {\n",
       "        text-align: right;\n",
       "    }\n",
       "</style>\n",
       "<table border=\"1\" class=\"dataframe\">\n",
       "  <thead>\n",
       "    <tr style=\"text-align: right;\">\n",
       "      <th></th>\n",
       "      <th>DocNum</th>\n",
       "      <th>Sentences</th>\n",
       "      <th>Tokens</th>\n",
       "      <th>Characters</th>\n",
       "      <th>Species Mentions</th>\n",
       "      <th>Species %</th>\n",
       "      <th>Location Mentions</th>\n",
       "      <th>Location %</th>\n",
       "      <th>Unique Species</th>\n",
       "      <th>Unique Locations</th>\n",
       "      <th>Possible Relationships</th>\n",
       "      <th>True Relationships</th>\n",
       "      <th>Relationship %</th>\n",
       "      <th>Cross Sentence Relationships %</th>\n",
       "    </tr>\n",
       "  </thead>\n",
       "  <tbody>\n",
       "    <tr>\n",
       "      <th>0</th>\n",
       "      <td>Document 1</td>\n",
       "      <td>214</td>\n",
       "      <td>5120</td>\n",
       "      <td>28657</td>\n",
       "      <td>12</td>\n",
       "      <td>0.352</td>\n",
       "      <td>96</td>\n",
       "      <td>3.379</td>\n",
       "      <td>9</td>\n",
       "      <td>25</td>\n",
       "      <td>1152</td>\n",
       "      <td>11</td>\n",
       "      <td>0.955</td>\n",
       "      <td>18.182</td>\n",
       "    </tr>\n",
       "    <tr>\n",
       "      <th>1</th>\n",
       "      <td>Document 2</td>\n",
       "      <td>252</td>\n",
       "      <td>7192</td>\n",
       "      <td>40167</td>\n",
       "      <td>13</td>\n",
       "      <td>0.209</td>\n",
       "      <td>87</td>\n",
       "      <td>1.961</td>\n",
       "      <td>8</td>\n",
       "      <td>33</td>\n",
       "      <td>1131</td>\n",
       "      <td>12</td>\n",
       "      <td>1.061</td>\n",
       "      <td>100.000</td>\n",
       "    </tr>\n",
       "    <tr>\n",
       "      <th>2</th>\n",
       "      <td>Document 3</td>\n",
       "      <td>335</td>\n",
       "      <td>8779</td>\n",
       "      <td>45059</td>\n",
       "      <td>55</td>\n",
       "      <td>1.333</td>\n",
       "      <td>138</td>\n",
       "      <td>2.939</td>\n",
       "      <td>28</td>\n",
       "      <td>33</td>\n",
       "      <td>7590</td>\n",
       "      <td>48</td>\n",
       "      <td>0.632</td>\n",
       "      <td>87.500</td>\n",
       "    </tr>\n",
       "    <tr>\n",
       "      <th>3</th>\n",
       "      <td>Document 4</td>\n",
       "      <td>194</td>\n",
       "      <td>5524</td>\n",
       "      <td>32034</td>\n",
       "      <td>92</td>\n",
       "      <td>1.756</td>\n",
       "      <td>35</td>\n",
       "      <td>0.833</td>\n",
       "      <td>8</td>\n",
       "      <td>22</td>\n",
       "      <td>3220</td>\n",
       "      <td>11</td>\n",
       "      <td>0.342</td>\n",
       "      <td>90.909</td>\n",
       "    </tr>\n",
       "    <tr>\n",
       "      <th>4</th>\n",
       "      <td>Document 5</td>\n",
       "      <td>82</td>\n",
       "      <td>2387</td>\n",
       "      <td>12857</td>\n",
       "      <td>3</td>\n",
       "      <td>0.209</td>\n",
       "      <td>64</td>\n",
       "      <td>4.650</td>\n",
       "      <td>3</td>\n",
       "      <td>29</td>\n",
       "      <td>192</td>\n",
       "      <td>4</td>\n",
       "      <td>2.083</td>\n",
       "      <td>0.000</td>\n",
       "    </tr>\n",
       "    <tr>\n",
       "      <th>5</th>\n",
       "      <td>Document 6</td>\n",
       "      <td>143</td>\n",
       "      <td>4212</td>\n",
       "      <td>23542</td>\n",
       "      <td>8</td>\n",
       "      <td>0.380</td>\n",
       "      <td>31</td>\n",
       "      <td>1.068</td>\n",
       "      <td>3</td>\n",
       "      <td>20</td>\n",
       "      <td>248</td>\n",
       "      <td>3</td>\n",
       "      <td>1.210</td>\n",
       "      <td>100.000</td>\n",
       "    </tr>\n",
       "    <tr>\n",
       "      <th>6</th>\n",
       "      <td>Document 7</td>\n",
       "      <td>323</td>\n",
       "      <td>10823</td>\n",
       "      <td>57358</td>\n",
       "      <td>83</td>\n",
       "      <td>0.942</td>\n",
       "      <td>95</td>\n",
       "      <td>1.515</td>\n",
       "      <td>29</td>\n",
       "      <td>27</td>\n",
       "      <td>7885</td>\n",
       "      <td>40</td>\n",
       "      <td>0.507</td>\n",
       "      <td>70.000</td>\n",
       "    </tr>\n",
       "    <tr>\n",
       "      <th>7</th>\n",
       "      <td>Total</td>\n",
       "      <td>1543</td>\n",
       "      <td>44037</td>\n",
       "      <td>239674</td>\n",
       "      <td>266</td>\n",
       "      <td>0.840</td>\n",
       "      <td>546</td>\n",
       "      <td>2.130</td>\n",
       "      <td>88</td>\n",
       "      <td>189</td>\n",
       "      <td>21418</td>\n",
       "      <td>129</td>\n",
       "      <td>0.602</td>\n",
       "      <td>75.194</td>\n",
       "    </tr>\n",
       "  </tbody>\n",
       "</table>\n",
       "</div>"
      ],
      "text/plain": [
       "       DocNum  Sentences  Tokens  Characters  Species Mentions  Species %  \\\n",
       "0  Document 1        214    5120       28657                12      0.352   \n",
       "1  Document 2        252    7192       40167                13      0.209   \n",
       "2  Document 3        335    8779       45059                55      1.333   \n",
       "3  Document 4        194    5524       32034                92      1.756   \n",
       "4  Document 5         82    2387       12857                 3      0.209   \n",
       "5  Document 6        143    4212       23542                 8      0.380   \n",
       "6  Document 7        323   10823       57358                83      0.942   \n",
       "7       Total       1543   44037      239674               266      0.840   \n",
       "\n",
       "   Location Mentions  Location %  Unique Species  Unique Locations  \\\n",
       "0                 96       3.379               9                25   \n",
       "1                 87       1.961               8                33   \n",
       "2                138       2.939              28                33   \n",
       "3                 35       0.833               8                22   \n",
       "4                 64       4.650               3                29   \n",
       "5                 31       1.068               3                20   \n",
       "6                 95       1.515              29                27   \n",
       "7                546       2.130              88               189   \n",
       "\n",
       "   Possible Relationships  True Relationships  Relationship %  \\\n",
       "0                    1152                  11           0.955   \n",
       "1                    1131                  12           1.061   \n",
       "2                    7590                  48           0.632   \n",
       "3                    3220                  11           0.342   \n",
       "4                     192                   4           2.083   \n",
       "5                     248                   3           1.210   \n",
       "6                    7885                  40           0.507   \n",
       "7                   21418                 129           0.602   \n",
       "\n",
       "   Cross Sentence Relationships %  \n",
       "0                          18.182  \n",
       "1                         100.000  \n",
       "2                          87.500  \n",
       "3                          90.909  \n",
       "4                           0.000  \n",
       "5                         100.000  \n",
       "6                          70.000  \n",
       "7                          75.194  "
      ]
     },
     "execution_count": 32,
     "metadata": {},
     "output_type": "execute_result"
    }
   ],
   "source": [
    "Summary2"
   ]
  },
  {
   "cell_type": "code",
   "execution_count": 103,
   "metadata": {
    "ExecuteTime": {
     "end_time": "2021-03-13T00:45:11.587910Z",
     "start_time": "2021-03-13T00:45:11.369766Z"
    }
   },
   "outputs": [
    {
     "data": {
      "image/png": "[encoded data removed]",
      "text/plain": [
       "<Figure size 1080x720 with 1 Axes>"
      ]
     },
     "metadata": {
      "needs_background": "light"
     },
     "output_type": "display_data"
    }
   ],
   "source": [
    "ax = Summary[0:7].plot.bar(x='DocNum', y='Tokens')\n",
    "# ax.x"
   ]
  },
  {
   "cell_type": "code",
   "execution_count": 243,
   "metadata": {
    "ExecuteTime": {
     "end_time": "2021-03-16T03:42:04.777886Z",
     "start_time": "2021-03-16T03:42:04.476760Z"
    }
   },
   "outputs": [
    {
     "data": {
      "text/plain": [
       "Text(0.5, 0, 'Document')"
      ]
     },
     "execution_count": 243,
     "metadata": {},
     "output_type": "execute_result"
    },
    {
     "data": {
      "image/png": "[encoded data removed]",
      "text/plain": [
       "<Figure size 1080x720 with 1 Axes>"
      ]
     },
     "metadata": {
      "needs_background": "light"
     },
     "output_type": "display_data"
    }
   ],
   "source": [
    "ax = sns.barplot(x='DocNum', y='Tokens', data=Summary[0:7], color='tab:blue')\n",
    "ax.set_title('Fig. 2 - Length of Documents in Tokens')\n",
    "ax.set_xlabel('Document')\n",
    "# ax.set_ylabel()"
   ]
  },
  {
   "cell_type": "code",
   "execution_count": 244,
   "metadata": {
    "ExecuteTime": {
     "end_time": "2021-03-16T03:42:33.686179Z",
     "start_time": "2021-03-16T03:42:33.432782Z"
    }
   },
   "outputs": [
    {
     "data": {
      "text/plain": [
       "Text(0.5, 0, 'Document')"
      ]
     },
     "execution_count": 244,
     "metadata": {},
     "output_type": "execute_result"
    },
    {
     "data": {
      "image/png": "[encoded data removed]",
      "text/plain": [
       "<Figure size 1080x720 with 1 Axes>"
      ]
     },
     "metadata": {
      "needs_background": "light"
     },
     "output_type": "display_data"
    }
   ],
   "source": [
    "ax = sns.barplot(x='DocNum', y='Sentences', data=Summary[0:7], color='tab:blue')\n",
    "ax.set_title('Fig. 3 - Length of Documents in Sentences')\n",
    "ax.set_xlabel('Document')\n",
    "# ax.set_ylabel()"
   ]
  },
  {
   "cell_type": "code",
   "execution_count": 140,
   "metadata": {
    "ExecuteTime": {
     "end_time": "2021-03-13T01:12:31.987627Z",
     "start_time": "2021-03-13T01:12:31.760835Z"
    }
   },
   "outputs": [
    {
     "data": {
      "text/plain": [
       "Text(0.5, 0, 'Document')"
      ]
     },
     "execution_count": 140,
     "metadata": {},
     "output_type": "execute_result"
    },
    {
     "data": {
      "image/png": "[encoded data removed]",
      "text/plain": [
       "<Figure size 1080x720 with 1 Axes>"
      ]
     },
     "metadata": {
      "needs_background": "light"
     },
     "output_type": "display_data"
    }
   ],
   "source": [
    "ax = sns.barplot(x='DocNum', y='Characters', data=Summary[0:7], color='tab:blue')\n",
    "ax.set_title('Length of Documents in Characters')\n",
    "ax.set_xlabel('Document')"
   ]
  },
  {
   "cell_type": "code",
   "execution_count": 247,
   "metadata": {
    "ExecuteTime": {
     "end_time": "2021-03-16T03:45:27.592162Z",
     "start_time": "2021-03-16T03:45:27.324194Z"
    }
   },
   "outputs": [
    {
     "data": {
      "text/plain": [
       "Text(0, 0.5, 'Percentage')"
      ]
     },
     "execution_count": 247,
     "metadata": {},
     "output_type": "execute_result"
    },
    {
     "data": {
      "image/png": "[encoded data removed]",
      "text/plain": [
       "<Figure size 1080x720 with 1 Axes>"
      ]
     },
     "metadata": {
      "needs_background": "light"
     },
     "output_type": "display_data"
    }
   ],
   "source": [
    "ax = sns.barplot(x='DocNum', y='Relationship %', data=Summary, color='tab:orange')\n",
    "ax.set_title('Fig. 6 - Percentage of Actual Relationships')\n",
    "ax.set_xlabel('Document')\n",
    "ax.set_ylabel('Percentage')"
   ]
  },
  {
   "cell_type": "code",
   "execution_count": null,
   "metadata": {},
   "outputs": [],
   "source": []
  },
  {
   "cell_type": "code",
   "execution_count": 193,
   "metadata": {
    "ExecuteTime": {
     "end_time": "2021-03-13T02:07:07.188708Z",
     "start_time": "2021-03-13T02:07:07.181207Z"
    }
   },
   "outputs": [],
   "source": [
    "df = Summary[['DocNum','Species %', 'Location %']]\n",
    "df.columns = ['DocNum','Species', 'Location']\n",
    "df = df.melt('DocNum', var_name='Entity', value_name='Vals')"
   ]
  },
  {
   "cell_type": "code",
   "execution_count": 245,
   "metadata": {
    "ExecuteTime": {
     "end_time": "2021-03-16T03:43:32.178384Z",
     "start_time": "2021-03-16T03:43:31.685736Z"
    }
   },
   "outputs": [
    {
     "data": {
      "text/plain": [
       "<seaborn.axisgrid.FacetGrid at 0x7f849c217ba8>"
      ]
     },
     "execution_count": 245,
     "metadata": {},
     "output_type": "execute_result"
    },
    {
     "data": {
      "image/png": "[encoded data removed]",
      "text/plain": [
       "<Figure size 861.3x720 with 1 Axes>"
      ]
     },
     "metadata": {
      "needs_background": "light"
     },
     "output_type": "display_data"
    }
   ],
   "source": [
    "ax = sns.catplot(x = 'DocNum', y='Vals', hue='Entity', data = df, kind = 'bar', height=10, \n",
    "#             legend_out=True\n",
    "           )\n",
    "# ax = plt.gca()\n",
    "ax.fig.suptitle('Fig. 4 - Prevalence of Entity Type by Document', y=1)\n",
    "# ax.set_title('Prevalence of Entity Type')\n",
    "# ax.set_xlabel('Document')\n",
    "# ax.set_ylabel(\"Percentage of Document's Tokens\")\n",
    "ax.set_axis_labels(\"Document\", \"Percentage of Document's Tokens\")\n"
   ]
  },
  {
   "cell_type": "code",
   "execution_count": 151,
   "metadata": {
    "ExecuteTime": {
     "end_time": "2021-03-13T01:28:29.551443Z",
     "start_time": "2021-03-13T01:28:29.547643Z"
    }
   },
   "outputs": [
    {
     "data": {
      "text/plain": [
       "[<BarContainer object of 8 artists>, <BarContainer object of 8 artists>]"
      ]
     },
     "execution_count": 151,
     "metadata": {},
     "output_type": "execute_result"
    }
   ],
   "source": [
    "handles"
   ]
  },
  {
   "cell_type": "code",
   "execution_count": 246,
   "metadata": {
    "ExecuteTime": {
     "end_time": "2021-03-16T03:44:46.014408Z",
     "start_time": "2021-03-16T03:44:45.802880Z"
    }
   },
   "outputs": [
    {
     "data": {
      "text/plain": [
       "Text(0.5, 0, 'True Relationship')"
      ]
     },
     "execution_count": 246,
     "metadata": {},
     "output_type": "execute_result"
    },
    {
     "data": {
      "image/png": "[encoded data removed]",
      "text/plain": [
       "<Figure size 1080x720 with 1 Axes>"
      ]
     },
     "metadata": {
      "needs_background": "light"
     },
     "output_type": "display_data"
    }
   ],
   "source": [
    "plt = sns.countplot(x=\"Tagged_Relationship\", data=relations)\n",
    "plt.set_title('Fig.5 - Data Imbalance')\n",
    "plt.set_xlabel('True Relationship')\n",
    "# plt.xticks([0,1]['No', 'Yes'])"
   ]
  },
  {
   "cell_type": "code",
   "execution_count": 24,
   "metadata": {
    "ExecuteTime": {
     "end_time": "2021-04-05T01:28:14.797731Z",
     "start_time": "2021-04-05T01:28:14.539236Z"
    }
   },
   "outputs": [
    {
     "data": {
      "text/plain": [
       "[[Text(0, 0, 'Across Sentence Boundary'), Text(0, 0, 'Within Sentence')]]"
      ]
     },
     "execution_count": 24,
     "metadata": {},
     "output_type": "execute_result"
    },
    {
     "data": {
      "image/png": "[encoded data removed]",
      "text/plain": [
       "<Figure size 1080x720 with 1 Axes>"
      ]
     },
     "metadata": {
      "needs_background": "light"
     },
     "output_type": "display_data"
    }
   ],
   "source": [
    "rcParams['xtick.labelsize'] = 15\n",
    "plt = sns.countplot(x=\"Same_Sentence\", data=relations[relations.Tagged_Relationship==1])\n",
    "plt.set_title('Fig.6 - Inter v Intra-sentential Relationships')\n",
    "plt.set_xlabel('Relationship Path')\n",
    "# plt.xticks([0,1]['No', 'Yes'])\n",
    "plt.set(xticklabels=['Across Sentence Boundary', 'Within Sentence'])\n",
    "# =['Across Sentence Boundary', 'Within Sentence'])"
   ]
  },
  {
   "cell_type": "code",
   "execution_count": null,
   "metadata": {},
   "outputs": [],
   "source": []
  }
 ],
 "metadata": {
  "kernelspec": {
   "display_name": "Python 3",
   "language": "python",
   "name": "python3"
  },
  "language_info": {
   "codemirror_mode": {
    "name": "ipython",
    "version": 3
   },
   "file_extension": ".py",
   "mimetype": "text/x-python",
   "name": "python",
   "nbconvert_exporter": "python",
   "pygments_lexer": "ipython3",
   "version": "3.7.3"
  },
  "toc": {
   "base_numbering": 1,
   "nav_menu": {},
   "number_sections": true,
   "sideBar": true,
   "skip_h1_title": true,
   "title_cell": "Table of Contents",
   "title_sidebar": "Contents",
   "toc_cell": true,
   "toc_position": {
    "height": "calc(100% - 180px)",
    "left": "10px",
    "top": "150px",
    "width": "311px"
   },
   "toc_section_display": true,
   "toc_window_display": true
  },
  "varInspector": {
   "cols": {
    "lenName": 16,
    "lenType": 16,
    "lenVar": 40
   },
   "kernels_config": {
    "python": {
     "delete_cmd_postfix": "",
     "delete_cmd_prefix": "del ",
     "library": "var_list.py",
     "varRefreshCmd": "print(var_dic_list())"
    },
    "r": {
     "delete_cmd_postfix": ") ",
     "delete_cmd_prefix": "rm(",
     "library": "var_list.r",
     "varRefreshCmd": "cat(var_dic_list()) "
    }
   },
   "types_to_exclude": [
    "module",
    "function",
    "builtin_function_or_method",
    "instance",
    "_Feature"
   ],
   "window_display": false
  }
 },
 "nbformat": 4,
 "nbformat_minor": 2
}
