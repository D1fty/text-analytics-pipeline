{
 "cells": [
  {
   "cell_type": "markdown",
   "metadata": {},
   "source": [
    "# MWLR Pipeline: Visualisation"
   ]
  },
  {
   "cell_type": "markdown",
   "metadata": {},
   "source": [
    "### Imports"
   ]
  },
  {
   "cell_type": "code",
   "execution_count": 1,
   "metadata": {
    "ExecuteTime": {
     "end_time": "2021-04-22T04:15:41.554356Z",
     "start_time": "2021-04-22T04:15:41.545494Z"
    }
   },
   "outputs": [
    {
     "data": {
      "text/html": [
       "<style>.container { width:80% !important; } p, ul {max-width:␣\n",
       ",→40em;} .rendered_html table { margin-left: 0; } .output_subarea.output_png {␣\n",
       ",→display: flex; justify-content: center;}</style>"
      ],
      "text/plain": [
       "<IPython.core.display.HTML object>"
      ]
     },
     "metadata": {},
     "output_type": "display_data"
    }
   ],
   "source": [
    "from IPython.core.display import display, HTML, Markdown as md\n",
    "display(HTML(\"\"\"<style>.container { width:80% !important; } p, ul {max-width:␣\n",
    ",→40em;} .rendered_html table { margin-left: 0; } .output_subarea.output_png {␣\n",
    ",→display: flex; justify-content: center;}</style>\"\"\"))\n",
    "\n",
    "import pandas            as pd\n",
    "import numpy             as np\n",
    "import seaborn           as sns\n",
    "import matplotlib.pyplot as plt\n",
    "\n",
    "import os\n",
    "import spacy\n",
    "import en_core_web_lg\n",
    "nlp_lg = spacy.load('en_core_web_lg')\n",
    "\n",
    "from pylab           import rcParams\n",
    "from sklearn         import metrics\n",
    "from sklearn.metrics import plot_confusion_matrix"
   ]
  },
  {
   "cell_type": "markdown",
   "metadata": {},
   "source": [
    "### Script"
   ]
  },
  {
   "cell_type": "code",
   "execution_count": 30,
   "metadata": {
    "ExecuteTime": {
     "end_time": "2021-04-22T04:16:07.859440Z",
     "start_time": "2021-04-22T04:16:06.939448Z"
    }
   },
   "outputs": [],
   "source": [
    "# What ever's being done uses the keyword 'list' so we have to start with this line\n",
    "del list\n",
    "\n",
    "# Then we do some data visualization parameters\n",
    "%matplotlib inline\n",
    "rcParams['figure.figsize']  = 15, 10\n",
    "rcParams['axes.titlesize']  = 20\n",
    "rcParams['axes.labelsize']  = 'large'\n",
    "rcParams['xtick.labelsize'] = 10\n",
    "rcParams['ytick.labelsize'] = 10\n",
    "rcParams['lines.linewidth'] = 2\n",
    "rcParams['font.size']       = 18\n",
    "\n",
    "# Now we get the working data set\n",
    "relations                  = pd.read_csv('Metrics\\\\DataSet\\\\workingDataset.csv', index_col = 0, dtype = {'Tagged_Relationship': 'int8'})\n",
    "col_to_downcast            = [col for col in relations.columns if relations[col].dtype == int]\n",
    "relations[col_to_downcast] = relations[col_to_downcast].apply(pd.to_numeric, downcast='integer')\n",
    "\n",
    "# Now we modify the columns for some reason\n",
    "cols                       = list(relations.columns)\n",
    "cols.remove('Tagged_Relationship')\n",
    "cols.append('Tagged_Relationship')\n",
    "relations = relations[cols]\n",
    "\n",
    "# Create a summary of all documents\n",
    "DocNum                 = []\n",
    "Name                   = []\n",
    "Possible_Relationships = []\n",
    "TrueRelationships      = []\n",
    "LengthTokens           = []\n",
    "LengthChars            = []\n",
    "SpeciesMentions        = []\n",
    "UniqueSpecies          = []\n",
    "LocationMentions       = []\n",
    "UniqueLocations        = []\n",
    "Sentences              = []\n",
    "SpeciesTokens          = []\n",
    "LocationTokens         = []\n",
    "\n",
    "# Now we iterate through each unique document in the dataset\n",
    "for i, txtFile in enumerate(relations.AnnTxtFile.unique(), 1):\n",
    "    \n",
    "    # We get the actual PDF document name\n",
    "    document = relations.loc[i, 'Document']\n",
    "    DocNum.append('Document ' + str(i))\n",
    "    \n",
    "    # Append it to the thing\n",
    "    Name.append(subdoc)\n",
    "    \n",
    "    # Extract our data for the unique PDF\n",
    "    Possible_Relationships.append(len(relations[relations.Document  == document]))\n",
    "    TrueRelationships.append     (len(relations[(relations.Document == document) & (relations.Tagged_Relationship == 1)]))\n",
    "    SpeciesMentions.append       (len(relations[relations.Document  == document]['Start_Token_Species'].unique()))\n",
    "    UniqueSpecies.append         (len(relations[relations.Document  == document]['Species'].unique()))\n",
    "    UniqueLocations.append       (len(relations[relations.Document  == document]['Location'].unique()))\n",
    "    LocationMentions.append      (len(relations[relations.Document  == document]['Start_Token_Location'].unique()))\n",
    "    \n",
    "    # Read in the associated extracted text file\n",
    "    file     = open(txtFile,  encoding = \"utf-8\")\n",
    "    textfile = file.read()\n",
    "    file.close()\n",
    "    \n",
    "    # Extract more data\n",
    "    LengthChars.append(len(textfile))\n",
    "    doc = nlp_lg(textfile)\n",
    "    LengthTokens.append(len(doc))\n",
    "    Sentences.append(len([1 for sent in doc.sents]))\n",
    "    SpeciesTokens.append(relations[relations.Document  == document]['End_Token_Species'].unique().sum() - \n",
    "                         relations[relations.Document  == document]['Start_Token_Species'].unique().sum())\n",
    "    LocationTokens.append(relations[relations.Document == document]['End_Token_Location'].unique().sum() - \n",
    "                         relations[relations.Document  == document]['Start_Token_Location'].unique().sum())\n",
    "\n",
    "# Append the total of all documents we worked with\n",
    "DocNum.append('Total')\n",
    "for list in [Possible_Relationships, \n",
    "             TrueRelationships, \n",
    "             LengthTokens, \n",
    "             LengthChars, \n",
    "             SpeciesMentions, \n",
    "             UniqueSpecies, \n",
    "             LocationMentions, \n",
    "             UniqueLocations, \n",
    "             Sentences, \n",
    "             SpeciesTokens, \n",
    "             LocationTokens]:\n",
    "    list.append(sum(list))\n",
    "\n",
    "# Avoid devision by zero\n",
    "RelationshipPerc = [np.round(100*x/y,3) if y > 0 else 0 for x, y in zip(TrueRelationships,Possible_Relationships)]\n",
    "SpeciesPerc      = [np.round(100*x/y,3) if y > 0 else 0 for x, y in zip(SpeciesTokens,LengthTokens)]\n",
    "LocationPerc     = [np.round(100*x/y,3) if y > 0 else 0 for x, y in zip(LocationTokens,LengthTokens)]\n",
    "\n",
    "# Then put it all in a summary dataframe\n",
    "Summary = pd.DataFrame({'DocNum'                 : DocNum,\n",
    "                        'Sentences'              : Sentences, \n",
    "                        'Tokens'                 : LengthTokens, \n",
    "                        'Characters'             : LengthChars,\n",
    "                        'Species Mentions'       : SpeciesMentions, \n",
    "                        'Species %'              : SpeciesPerc, \n",
    "                        'Location Mentions'      : LocationMentions,\n",
    "                        'Location %'             : LocationPerc, \n",
    "                        'Unique Species'         : UniqueSpecies, \n",
    "                        'Unique Locations'       : UniqueLocations,\n",
    "                        'Possible Relationships' : Possible_Relationships,\n",
    "                        'True Relationships'     : TrueRelationships, \n",
    "                        'Relationship %'         : RelationshipPerc\n",
    "                       })\n",
    "\n",
    "# Create a second summary\n",
    "relations[(relations.Document == document) & (relations.Tagged_Relationship == 1)]\n",
    "\n",
    "DocNum                 = []\n",
    "Name                   = []\n",
    "Possible_Relationships = []\n",
    "TrueRelationships      = []\n",
    "LengthTokens           = []\n",
    "LengthChars            = []\n",
    "SpeciesMentions        = []\n",
    "UniqueSpecies          = []\n",
    "LocationMentions       = []\n",
    "UniqueLocations        = []\n",
    "Sentences              = []\n",
    "SpeciesTokens          = []\n",
    "LocationTokens         = []\n",
    "InterSentRelationships = []\n",
    "\n",
    "# Iterate through the unique txt files again\n",
    "for i, txtFile in enumerate(relations.AnnTxtFile.unique(), 1):\n",
    "    \n",
    "    # Get the name of the actual PDF document\n",
    "    document = relations.loc[i, 'Document']\n",
    "    DocNum.append('Document ' + str(i))\n",
    "    Name.append(relations.loc[i, 'Document'])\n",
    "    \n",
    "    # Extract our data\n",
    "    Possible_Relationships.append (len(relations[relations.Document  == document]))\n",
    "    TrueRelationships.append      (len(relations[(relations.Document == document)&(relations.Tagged_Relationship == 1)]))\n",
    "    SpeciesMentions.append        (len(relations[relations.Document  == document]['Start_Token_Species'].unique()))\n",
    "    UniqueSpecies.append          (len(relations[relations.Document  == document]['Species'].unique()))\n",
    "    UniqueLocations.append        (len(relations[relations.Document  == document]['Location'].unique()))\n",
    "    LocationMentions.append       (len(relations[relations.Document  == document]['Start_Token_Location'].unique()))\n",
    "    InterSentRelationships.append (len(relations[(relations.Document == document)&(relations.Tagged_Relationship == 1)&(relations.Same_Sentence == 0)]))\n",
    "    \n",
    "    # Open the associate txt file\n",
    "    file     = open(txtFile, encoding = 'utf-8')\n",
    "    textfile = file.read()\n",
    "    file.close()\n",
    "    \n",
    "    # Tokenize the document\n",
    "    LengthChars.append(len(textfile))\n",
    "    doc = nlp_lg(textfile)\n",
    "    LengthTokens.append(len(doc))\n",
    "    \n",
    "    # Get some stuff\n",
    "    Sentences.append(len([1 for sent in doc.sents]))\n",
    "    SpeciesTokens.append(relations[relations.Document  == document]['End_Token_Species'].unique().sum() - \n",
    "                         relations[relations.Document  == document]['Start_Token_Species'].unique().sum())\n",
    "    LocationTokens.append(relations[relations.Document == document]['End_Token_Location'].unique().sum() - \n",
    "                         relations[relations.Document  == document]['Start_Token_Location'].unique().sum())\n",
    "\n",
    "# Append the total of all the documents we worked with to the visualisation data\n",
    "DocNum.append('Total')\n",
    "for list in [Possible_Relationships, TrueRelationships, LengthTokens, LengthChars, \n",
    "             SpeciesMentions, UniqueSpecies, LocationMentions, UniqueLocations, Sentences, \n",
    "             SpeciesTokens, LocationTokens, InterSentRelationships]:\n",
    "    list.append(sum(list))\n",
    "\n",
    "# Avoid devide by zero again\n",
    "RelationshipPerc = [np.round(100*x/y,3) if y > 0 else 0 for x, y in zip(TrueRelationships,Possible_Relationships)]\n",
    "SpeciesPerc      = [np.round(100*x/y,3) if y > 0 else 0 for x, y in zip(SpeciesTokens,LengthTokens)]\n",
    "LocationPerc     = [np.round(100*x/y,3) if y > 0 else 0 for x, y in zip(LocationTokens,LengthTokens)]\n",
    "CrossSentRelPerc = [np.round(100*x/y,3) if y > 0 else 0 for x, y in zip(InterSentRelationships,TrueRelationships)]\n",
    "\n",
    "# Create the second summary\n",
    "Summary2 = pd.DataFrame({'DocNum':DocNum,\n",
    "                        'Sentences': Sentences, \n",
    "                        'Tokens':LengthTokens, 'Characters': LengthChars,\n",
    "                        'Species Mentions':SpeciesMentions, 'Species %':SpeciesPerc, 'Location Mentions':LocationMentions,\n",
    "                        'Location %': LocationPerc, 'Unique Species':UniqueSpecies, \n",
    "                        'Unique Locations':UniqueLocations,'Possible Relationships': Possible_Relationships,\n",
    "                        'True Relationships': TrueRelationships, 'Relationship %': RelationshipPerc, 'Cross Sentence Relationships %':CrossSentRelPerc\n",
    "                       })\n",
    "\n",
    "# Dataframe from summaries\n",
    "df         = Summary[['DocNum','Species %', 'Location %']]\n",
    "df.columns = ['DocNum','Species', 'Location']\n",
    "df         = df.melt('DocNum', var_name='Entity', value_name='Vals')"
   ]
  },
  {
   "cell_type": "markdown",
   "metadata": {},
   "source": [
    "### Printouts"
   ]
  },
  {
   "cell_type": "code",
   "execution_count": 31,
   "metadata": {
    "ExecuteTime": {
     "end_time": "2021-03-12T22:50:14.614794Z",
     "start_time": "2021-03-12T22:50:14.607682Z"
    }
   },
   "outputs": [
    {
     "data": {
      "text/html": [
       "<div>\n",
       "<style scoped>\n",
       "    .dataframe tbody tr th:only-of-type {\n",
       "        vertical-align: middle;\n",
       "    }\n",
       "\n",
       "    .dataframe tbody tr th {\n",
       "        vertical-align: top;\n",
       "    }\n",
       "\n",
       "    .dataframe thead th {\n",
       "        text-align: right;\n",
       "    }\n",
       "</style>\n",
       "<table border=\"1\" class=\"dataframe\">\n",
       "  <thead>\n",
       "    <tr style=\"text-align: right;\">\n",
       "      <th></th>\n",
       "      <th>Species</th>\n",
       "      <th>Start_Token_Species</th>\n",
       "      <th>End_Token_Species</th>\n",
       "      <th>Start_Index_Species</th>\n",
       "      <th>End_Index_Species</th>\n",
       "      <th>classId_Species</th>\n",
       "      <th>Sentence_Species</th>\n",
       "      <th>inAbstract300_Species</th>\n",
       "      <th>inAbstract500_Species</th>\n",
       "      <th>max_TFISF_Species</th>\n",
       "      <th>...</th>\n",
       "      <th>AnnTxtFile_Location</th>\n",
       "      <th>Same_Sentence</th>\n",
       "      <th>Num_Tokens_Between</th>\n",
       "      <th>Num_Words_Between</th>\n",
       "      <th>Num_Verbs_Between</th>\n",
       "      <th>Num_Nouns_Between</th>\n",
       "      <th>Num_Preps_Between</th>\n",
       "      <th>Preposition_Between</th>\n",
       "      <th>Dependency_Steps</th>\n",
       "      <th>Tagged_Relationship</th>\n",
       "    </tr>\n",
       "  </thead>\n",
       "  <tbody>\n",
       "    <tr>\n",
       "      <th>4867</th>\n",
       "      <td>Hemichloris antarctica</td>\n",
       "      <td>2885</td>\n",
       "      <td>2887</td>\n",
       "      <td>15742</td>\n",
       "      <td>15763</td>\n",
       "      <td>e_1</td>\n",
       "      <td>Free-living algal cells resembling Hemichloris...</td>\n",
       "      <td>0</td>\n",
       "      <td>0</td>\n",
       "      <td>4.209655</td>\n",
       "      <td>...</td>\n",
       "      <td>ExtractedAnnotatedData\\OldSet\\Archer2017_Artic...</td>\n",
       "      <td>0</td>\n",
       "      <td>64</td>\n",
       "      <td>49</td>\n",
       "      <td>7</td>\n",
       "      <td>16</td>\n",
       "      <td>7</td>\n",
       "      <td>1</td>\n",
       "      <td>999</td>\n",
       "      <td>1</td>\n",
       "    </tr>\n",
       "    <tr>\n",
       "      <th>6878</th>\n",
       "      <td>Scytonemataceae</td>\n",
       "      <td>3362</td>\n",
       "      <td>3363</td>\n",
       "      <td>18312</td>\n",
       "      <td>18326</td>\n",
       "      <td>e_1</td>\n",
       "      <td>The Scytonemataceae (Nostocales) were the domi...</td>\n",
       "      <td>0</td>\n",
       "      <td>0</td>\n",
       "      <td>4.615121</td>\n",
       "      <td>...</td>\n",
       "      <td>ExtractedAnnotatedData\\OldSet\\Archer2017_Artic...</td>\n",
       "      <td>1</td>\n",
       "      <td>8</td>\n",
       "      <td>6</td>\n",
       "      <td>0</td>\n",
       "      <td>1</td>\n",
       "      <td>1</td>\n",
       "      <td>1</td>\n",
       "      <td>3</td>\n",
       "      <td>1</td>\n",
       "    </tr>\n",
       "    <tr>\n",
       "      <th>6879</th>\n",
       "      <td>Scytonemataceae</td>\n",
       "      <td>3362</td>\n",
       "      <td>3363</td>\n",
       "      <td>18312</td>\n",
       "      <td>18326</td>\n",
       "      <td>e_1</td>\n",
       "      <td>The Scytonemataceae (Nostocales) were the domi...</td>\n",
       "      <td>0</td>\n",
       "      <td>0</td>\n",
       "      <td>4.615121</td>\n",
       "      <td>...</td>\n",
       "      <td>ExtractedAnnotatedData\\OldSet\\Archer2017_Artic...</td>\n",
       "      <td>1</td>\n",
       "      <td>19</td>\n",
       "      <td>14</td>\n",
       "      <td>0</td>\n",
       "      <td>5</td>\n",
       "      <td>1</td>\n",
       "      <td>1</td>\n",
       "      <td>3</td>\n",
       "      <td>1</td>\n",
       "    </tr>\n",
       "    <tr>\n",
       "      <th>6880</th>\n",
       "      <td>Scytonemataceae</td>\n",
       "      <td>3362</td>\n",
       "      <td>3363</td>\n",
       "      <td>18312</td>\n",
       "      <td>18326</td>\n",
       "      <td>e_1</td>\n",
       "      <td>The Scytonemataceae (Nostocales) were the domi...</td>\n",
       "      <td>0</td>\n",
       "      <td>0</td>\n",
       "      <td>4.615121</td>\n",
       "      <td>...</td>\n",
       "      <td>ExtractedAnnotatedData\\OldSet\\Archer2017_Artic...</td>\n",
       "      <td>1</td>\n",
       "      <td>34</td>\n",
       "      <td>25</td>\n",
       "      <td>0</td>\n",
       "      <td>8</td>\n",
       "      <td>2</td>\n",
       "      <td>1</td>\n",
       "      <td>3</td>\n",
       "      <td>1</td>\n",
       "    </tr>\n",
       "    <tr>\n",
       "      <th>6881</th>\n",
       "      <td>Scytonemataceae</td>\n",
       "      <td>3362</td>\n",
       "      <td>3363</td>\n",
       "      <td>18312</td>\n",
       "      <td>18326</td>\n",
       "      <td>e_1</td>\n",
       "      <td>The Scytonemataceae (Nostocales) were the domi...</td>\n",
       "      <td>0</td>\n",
       "      <td>0</td>\n",
       "      <td>4.615121</td>\n",
       "      <td>...</td>\n",
       "      <td>ExtractedAnnotatedData\\OldSet\\Archer2017_Artic...</td>\n",
       "      <td>1</td>\n",
       "      <td>34</td>\n",
       "      <td>25</td>\n",
       "      <td>0</td>\n",
       "      <td>8</td>\n",
       "      <td>2</td>\n",
       "      <td>1</td>\n",
       "      <td>3</td>\n",
       "      <td>1</td>\n",
       "    </tr>\n",
       "    <tr>\n",
       "      <th>7839</th>\n",
       "      <td>Actinobacteria</td>\n",
       "      <td>3624</td>\n",
       "      <td>3625</td>\n",
       "      <td>19809</td>\n",
       "      <td>19822</td>\n",
       "      <td>e_1</td>\n",
       "      <td>The Actinobacteria, Bacteriodetes and Chlorofl...</td>\n",
       "      <td>0</td>\n",
       "      <td>0</td>\n",
       "      <td>4.209655</td>\n",
       "      <td>...</td>\n",
       "      <td>ExtractedAnnotatedData\\OldSet\\Archer2017_Artic...</td>\n",
       "      <td>1</td>\n",
       "      <td>15</td>\n",
       "      <td>14</td>\n",
       "      <td>0</td>\n",
       "      <td>1</td>\n",
       "      <td>3</td>\n",
       "      <td>1</td>\n",
       "      <td>5</td>\n",
       "      <td>1</td>\n",
       "    </tr>\n",
       "    <tr>\n",
       "      <th>7957</th>\n",
       "      <td>Bacteriodetes</td>\n",
       "      <td>3626</td>\n",
       "      <td>3627</td>\n",
       "      <td>19825</td>\n",
       "      <td>19837</td>\n",
       "      <td>e_1</td>\n",
       "      <td>The Actinobacteria, Bacteriodetes and Chlorofl...</td>\n",
       "      <td>0</td>\n",
       "      <td>0</td>\n",
       "      <td>4.615121</td>\n",
       "      <td>...</td>\n",
       "      <td>ExtractedAnnotatedData\\OldSet\\Archer2017_Artic...</td>\n",
       "      <td>1</td>\n",
       "      <td>13</td>\n",
       "      <td>13</td>\n",
       "      <td>0</td>\n",
       "      <td>1</td>\n",
       "      <td>3</td>\n",
       "      <td>1</td>\n",
       "      <td>6</td>\n",
       "      <td>1</td>\n",
       "    </tr>\n",
       "    <tr>\n",
       "      <th>8075</th>\n",
       "      <td>Chloroflexi</td>\n",
       "      <td>3628</td>\n",
       "      <td>3629</td>\n",
       "      <td>19843</td>\n",
       "      <td>19853</td>\n",
       "      <td>e_1</td>\n",
       "      <td>The Actinobacteria, Bacteriodetes and Chlorofl...</td>\n",
       "      <td>0</td>\n",
       "      <td>0</td>\n",
       "      <td>4.615121</td>\n",
       "      <td>...</td>\n",
       "      <td>ExtractedAnnotatedData\\OldSet\\Archer2017_Artic...</td>\n",
       "      <td>1</td>\n",
       "      <td>11</td>\n",
       "      <td>11</td>\n",
       "      <td>0</td>\n",
       "      <td>1</td>\n",
       "      <td>3</td>\n",
       "      <td>1</td>\n",
       "      <td>7</td>\n",
       "      <td>1</td>\n",
       "    </tr>\n",
       "    <tr>\n",
       "      <th>8674</th>\n",
       "      <td>Lentisphaerae</td>\n",
       "      <td>3727</td>\n",
       "      <td>3728</td>\n",
       "      <td>20460</td>\n",
       "      <td>20472</td>\n",
       "      <td>e_1</td>\n",
       "      <td>Other notable differences were the relative ab...</td>\n",
       "      <td>0</td>\n",
       "      <td>0</td>\n",
       "      <td>4.615121</td>\n",
       "      <td>...</td>\n",
       "      <td>ExtractedAnnotatedData\\OldSet\\Archer2017_Artic...</td>\n",
       "      <td>1</td>\n",
       "      <td>3</td>\n",
       "      <td>3</td>\n",
       "      <td>0</td>\n",
       "      <td>0</td>\n",
       "      <td>1</td>\n",
       "      <td>1</td>\n",
       "      <td>5</td>\n",
       "      <td>1</td>\n",
       "    </tr>\n",
       "    <tr>\n",
       "      <th>9623</th>\n",
       "      <td>Hemichloris antarctica</td>\n",
       "      <td>3948</td>\n",
       "      <td>3950</td>\n",
       "      <td>21706</td>\n",
       "      <td>21727</td>\n",
       "      <td>e_1</td>\n",
       "      <td>Chasmoendolithic microbial community from Mier...</td>\n",
       "      <td>0</td>\n",
       "      <td>0</td>\n",
       "      <td>4.209655</td>\n",
       "      <td>...</td>\n",
       "      <td>ExtractedAnnotatedData\\OldSet\\Archer2017_Artic...</td>\n",
       "      <td>1</td>\n",
       "      <td>22</td>\n",
       "      <td>17</td>\n",
       "      <td>1</td>\n",
       "      <td>5</td>\n",
       "      <td>3</td>\n",
       "      <td>1</td>\n",
       "      <td>5</td>\n",
       "      <td>1</td>\n",
       "    </tr>\n",
       "    <tr>\n",
       "      <th>9624</th>\n",
       "      <td>Hemichloris antarctica</td>\n",
       "      <td>3948</td>\n",
       "      <td>3950</td>\n",
       "      <td>21706</td>\n",
       "      <td>21727</td>\n",
       "      <td>e_1</td>\n",
       "      <td>Chasmoendolithic microbial community from Mier...</td>\n",
       "      <td>0</td>\n",
       "      <td>0</td>\n",
       "      <td>4.209655</td>\n",
       "      <td>...</td>\n",
       "      <td>ExtractedAnnotatedData\\OldSet\\Archer2017_Artic...</td>\n",
       "      <td>1</td>\n",
       "      <td>22</td>\n",
       "      <td>17</td>\n",
       "      <td>1</td>\n",
       "      <td>5</td>\n",
       "      <td>3</td>\n",
       "      <td>1</td>\n",
       "      <td>5</td>\n",
       "      <td>1</td>\n",
       "    </tr>\n",
       "    <tr>\n",
       "      <th>9625</th>\n",
       "      <td>Hemichloris antarctica</td>\n",
       "      <td>3948</td>\n",
       "      <td>3950</td>\n",
       "      <td>21706</td>\n",
       "      <td>21727</td>\n",
       "      <td>e_1</td>\n",
       "      <td>Chasmoendolithic microbial community from Mier...</td>\n",
       "      <td>0</td>\n",
       "      <td>0</td>\n",
       "      <td>4.209655</td>\n",
       "      <td>...</td>\n",
       "      <td>ExtractedAnnotatedData\\OldSet\\Archer2017_Artic...</td>\n",
       "      <td>1</td>\n",
       "      <td>6</td>\n",
       "      <td>4</td>\n",
       "      <td>0</td>\n",
       "      <td>0</td>\n",
       "      <td>1</td>\n",
       "      <td>1</td>\n",
       "      <td>6</td>\n",
       "      <td>1</td>\n",
       "    </tr>\n",
       "    <tr>\n",
       "      <th>9626</th>\n",
       "      <td>Hemichloris antarctica</td>\n",
       "      <td>3948</td>\n",
       "      <td>3950</td>\n",
       "      <td>21706</td>\n",
       "      <td>21727</td>\n",
       "      <td>e_1</td>\n",
       "      <td>Chasmoendolithic microbial community from Mier...</td>\n",
       "      <td>0</td>\n",
       "      <td>0</td>\n",
       "      <td>4.209655</td>\n",
       "      <td>...</td>\n",
       "      <td>ExtractedAnnotatedData\\OldSet\\Archer2017_Artic...</td>\n",
       "      <td>1</td>\n",
       "      <td>8</td>\n",
       "      <td>6</td>\n",
       "      <td>0</td>\n",
       "      <td>0</td>\n",
       "      <td>1</td>\n",
       "      <td>1</td>\n",
       "      <td>7</td>\n",
       "      <td>1</td>\n",
       "    </tr>\n",
       "    <tr>\n",
       "      <th>10217</th>\n",
       "      <td>Lecidea</td>\n",
       "      <td>4005</td>\n",
       "      <td>4006</td>\n",
       "      <td>22029</td>\n",
       "      <td>22035</td>\n",
       "      <td>e_1</td>\n",
       "      <td>Lichen-forming ascomycetes (Lecidea genus) wer...</td>\n",
       "      <td>0</td>\n",
       "      <td>0</td>\n",
       "      <td>5.308268</td>\n",
       "      <td>...</td>\n",
       "      <td>ExtractedAnnotatedData\\OldSet\\Archer2017_Artic...</td>\n",
       "      <td>1</td>\n",
       "      <td>6</td>\n",
       "      <td>5</td>\n",
       "      <td>1</td>\n",
       "      <td>1</td>\n",
       "      <td>1</td>\n",
       "      <td>1</td>\n",
       "      <td>5</td>\n",
       "      <td>1</td>\n",
       "    </tr>\n",
       "    <tr>\n",
       "      <th>10810</th>\n",
       "      <td>Thaumarchaeota</td>\n",
       "      <td>4130</td>\n",
       "      <td>4131</td>\n",
       "      <td>22826</td>\n",
       "      <td>22839</td>\n",
       "      <td>e_1</td>\n",
       "      <td>Black areas are regions of shadow due to the t...</td>\n",
       "      <td>0</td>\n",
       "      <td>0</td>\n",
       "      <td>5.308268</td>\n",
       "      <td>...</td>\n",
       "      <td>ExtractedAnnotatedData\\OldSet\\Archer2017_Artic...</td>\n",
       "      <td>1</td>\n",
       "      <td>2</td>\n",
       "      <td>2</td>\n",
       "      <td>0</td>\n",
       "      <td>1</td>\n",
       "      <td>1</td>\n",
       "      <td>1</td>\n",
       "      <td>4</td>\n",
       "      <td>1</td>\n",
       "    </tr>\n",
       "    <tr>\n",
       "      <th>10811</th>\n",
       "      <td>Thaumarchaeota</td>\n",
       "      <td>4130</td>\n",
       "      <td>4131</td>\n",
       "      <td>22826</td>\n",
       "      <td>22839</td>\n",
       "      <td>e_1</td>\n",
       "      <td>Black areas are regions of shadow due to the t...</td>\n",
       "      <td>0</td>\n",
       "      <td>0</td>\n",
       "      <td>5.308268</td>\n",
       "      <td>...</td>\n",
       "      <td>ExtractedAnnotatedData\\OldSet\\Archer2017_Artic...</td>\n",
       "      <td>1</td>\n",
       "      <td>4</td>\n",
       "      <td>4</td>\n",
       "      <td>0</td>\n",
       "      <td>1</td>\n",
       "      <td>1</td>\n",
       "      <td>1</td>\n",
       "      <td>5</td>\n",
       "      <td>1</td>\n",
       "    </tr>\n",
       "    <tr>\n",
       "      <th>10812</th>\n",
       "      <td>Thaumarchaeota</td>\n",
       "      <td>4130</td>\n",
       "      <td>4131</td>\n",
       "      <td>22826</td>\n",
       "      <td>22839</td>\n",
       "      <td>e_1</td>\n",
       "      <td>Black areas are regions of shadow due to the t...</td>\n",
       "      <td>0</td>\n",
       "      <td>0</td>\n",
       "      <td>5.308268</td>\n",
       "      <td>...</td>\n",
       "      <td>ExtractedAnnotatedData\\OldSet\\Archer2017_Artic...</td>\n",
       "      <td>1</td>\n",
       "      <td>9</td>\n",
       "      <td>9</td>\n",
       "      <td>0</td>\n",
       "      <td>2</td>\n",
       "      <td>2</td>\n",
       "      <td>1</td>\n",
       "      <td>3</td>\n",
       "      <td>1</td>\n",
       "    </tr>\n",
       "    <tr>\n",
       "      <th>13079</th>\n",
       "      <td>Scytonemataceae</td>\n",
       "      <td>4981</td>\n",
       "      <td>4982</td>\n",
       "      <td>27421</td>\n",
       "      <td>27435</td>\n",
       "      <td>e_1</td>\n",
       "      <td>Another important finding was that the Univers...</td>\n",
       "      <td>0</td>\n",
       "      <td>0</td>\n",
       "      <td>4.615121</td>\n",
       "      <td>...</td>\n",
       "      <td>ExtractedAnnotatedData\\OldSet\\Archer2017_Artic...</td>\n",
       "      <td>1</td>\n",
       "      <td>4</td>\n",
       "      <td>3</td>\n",
       "      <td>1</td>\n",
       "      <td>1</td>\n",
       "      <td>1</td>\n",
       "      <td>1</td>\n",
       "      <td>4</td>\n",
       "      <td>1</td>\n",
       "    </tr>\n",
       "    <tr>\n",
       "      <th>13080</th>\n",
       "      <td>Scytonemataceae</td>\n",
       "      <td>4981</td>\n",
       "      <td>4982</td>\n",
       "      <td>27421</td>\n",
       "      <td>27435</td>\n",
       "      <td>e_1</td>\n",
       "      <td>Another important finding was that the Univers...</td>\n",
       "      <td>0</td>\n",
       "      <td>0</td>\n",
       "      <td>4.615121</td>\n",
       "      <td>...</td>\n",
       "      <td>ExtractedAnnotatedData\\OldSet\\Archer2017_Artic...</td>\n",
       "      <td>1</td>\n",
       "      <td>6</td>\n",
       "      <td>5</td>\n",
       "      <td>1</td>\n",
       "      <td>1</td>\n",
       "      <td>1</td>\n",
       "      <td>1</td>\n",
       "      <td>6</td>\n",
       "      <td>1</td>\n",
       "    </tr>\n",
       "    <tr>\n",
       "      <th>14501</th>\n",
       "      <td>Hemichloris antarctica</td>\n",
       "      <td>5353</td>\n",
       "      <td>5355</td>\n",
       "      <td>29448</td>\n",
       "      <td>29469</td>\n",
       "      <td>e_1</td>\n",
       "      <td>Among the eukaryotes, the free-living alga Hem...</td>\n",
       "      <td>0</td>\n",
       "      <td>0</td>\n",
       "      <td>4.209655</td>\n",
       "      <td>...</td>\n",
       "      <td>ExtractedAnnotatedData\\OldSet\\Archer2017_Artic...</td>\n",
       "      <td>1</td>\n",
       "      <td>10</td>\n",
       "      <td>6</td>\n",
       "      <td>1</td>\n",
       "      <td>0</td>\n",
       "      <td>1</td>\n",
       "      <td>1</td>\n",
       "      <td>4</td>\n",
       "      <td>1</td>\n",
       "    </tr>\n",
       "    <tr>\n",
       "      <th>14738</th>\n",
       "      <td>Diplosphaera</td>\n",
       "      <td>5377</td>\n",
       "      <td>5378</td>\n",
       "      <td>29592</td>\n",
       "      <td>29603</td>\n",
       "      <td>e_1</td>\n",
       "      <td>Among the eukaryotes, the free-living alga Hem...</td>\n",
       "      <td>0</td>\n",
       "      <td>0</td>\n",
       "      <td>4.209655</td>\n",
       "      <td>...</td>\n",
       "      <td>ExtractedAnnotatedData\\OldSet\\Archer2017_Artic...</td>\n",
       "      <td>1</td>\n",
       "      <td>9</td>\n",
       "      <td>7</td>\n",
       "      <td>1</td>\n",
       "      <td>1</td>\n",
       "      <td>2</td>\n",
       "      <td>1</td>\n",
       "      <td>5</td>\n",
       "      <td>1</td>\n",
       "    </tr>\n",
       "    <tr>\n",
       "      <th>14739</th>\n",
       "      <td>Diplosphaera</td>\n",
       "      <td>5377</td>\n",
       "      <td>5378</td>\n",
       "      <td>29592</td>\n",
       "      <td>29603</td>\n",
       "      <td>e_1</td>\n",
       "      <td>Among the eukaryotes, the free-living alga Hem...</td>\n",
       "      <td>0</td>\n",
       "      <td>0</td>\n",
       "      <td>4.209655</td>\n",
       "      <td>...</td>\n",
       "      <td>ExtractedAnnotatedData\\OldSet\\Archer2017_Artic...</td>\n",
       "      <td>1</td>\n",
       "      <td>11</td>\n",
       "      <td>9</td>\n",
       "      <td>1</td>\n",
       "      <td>1</td>\n",
       "      <td>2</td>\n",
       "      <td>1</td>\n",
       "      <td>7</td>\n",
       "      <td>1</td>\n",
       "    </tr>\n",
       "    <tr>\n",
       "      <th>14974</th>\n",
       "      <td>Diplosphaera</td>\n",
       "      <td>5377</td>\n",
       "      <td>5378</td>\n",
       "      <td>29592</td>\n",
       "      <td>29603</td>\n",
       "      <td>e_1</td>\n",
       "      <td>Among the eukaryotes, the free-living alga Hem...</td>\n",
       "      <td>0</td>\n",
       "      <td>0</td>\n",
       "      <td>4.209655</td>\n",
       "      <td>...</td>\n",
       "      <td>ExtractedAnnotatedData\\OldSet\\Archer2017_Artic...</td>\n",
       "      <td>1</td>\n",
       "      <td>9</td>\n",
       "      <td>7</td>\n",
       "      <td>1</td>\n",
       "      <td>1</td>\n",
       "      <td>2</td>\n",
       "      <td>1</td>\n",
       "      <td>5</td>\n",
       "      <td>1</td>\n",
       "    </tr>\n",
       "    <tr>\n",
       "      <th>14975</th>\n",
       "      <td>Diplosphaera</td>\n",
       "      <td>5377</td>\n",
       "      <td>5378</td>\n",
       "      <td>29592</td>\n",
       "      <td>29603</td>\n",
       "      <td>e_1</td>\n",
       "      <td>Among the eukaryotes, the free-living alga Hem...</td>\n",
       "      <td>0</td>\n",
       "      <td>0</td>\n",
       "      <td>4.209655</td>\n",
       "      <td>...</td>\n",
       "      <td>ExtractedAnnotatedData\\OldSet\\Archer2017_Artic...</td>\n",
       "      <td>1</td>\n",
       "      <td>11</td>\n",
       "      <td>9</td>\n",
       "      <td>1</td>\n",
       "      <td>1</td>\n",
       "      <td>2</td>\n",
       "      <td>1</td>\n",
       "      <td>7</td>\n",
       "      <td>1</td>\n",
       "    </tr>\n",
       "  </tbody>\n",
       "</table>\n",
       "<p>24 rows × 34 columns</p>\n",
       "</div>"
      ],
      "text/plain": [
       "                      Species  Start_Token_Species  End_Token_Species  \\\n",
       "4867   Hemichloris antarctica                 2885               2887   \n",
       "6878          Scytonemataceae                 3362               3363   \n",
       "6879          Scytonemataceae                 3362               3363   \n",
       "6880          Scytonemataceae                 3362               3363   \n",
       "6881          Scytonemataceae                 3362               3363   \n",
       "7839           Actinobacteria                 3624               3625   \n",
       "7957            Bacteriodetes                 3626               3627   \n",
       "8075              Chloroflexi                 3628               3629   \n",
       "8674            Lentisphaerae                 3727               3728   \n",
       "9623   Hemichloris antarctica                 3948               3950   \n",
       "9624   Hemichloris antarctica                 3948               3950   \n",
       "9625   Hemichloris antarctica                 3948               3950   \n",
       "9626   Hemichloris antarctica                 3948               3950   \n",
       "10217                 Lecidea                 4005               4006   \n",
       "10810          Thaumarchaeota                 4130               4131   \n",
       "10811          Thaumarchaeota                 4130               4131   \n",
       "10812          Thaumarchaeota                 4130               4131   \n",
       "13079         Scytonemataceae                 4981               4982   \n",
       "13080         Scytonemataceae                 4981               4982   \n",
       "14501  Hemichloris antarctica                 5353               5355   \n",
       "14738            Diplosphaera                 5377               5378   \n",
       "14739            Diplosphaera                 5377               5378   \n",
       "14974            Diplosphaera                 5377               5378   \n",
       "14975            Diplosphaera                 5377               5378   \n",
       "\n",
       "       Start_Index_Species  End_Index_Species classId_Species  \\\n",
       "4867                 15742              15763             e_1   \n",
       "6878                 18312              18326             e_1   \n",
       "6879                 18312              18326             e_1   \n",
       "6880                 18312              18326             e_1   \n",
       "6881                 18312              18326             e_1   \n",
       "7839                 19809              19822             e_1   \n",
       "7957                 19825              19837             e_1   \n",
       "8075                 19843              19853             e_1   \n",
       "8674                 20460              20472             e_1   \n",
       "9623                 21706              21727             e_1   \n",
       "9624                 21706              21727             e_1   \n",
       "9625                 21706              21727             e_1   \n",
       "9626                 21706              21727             e_1   \n",
       "10217                22029              22035             e_1   \n",
       "10810                22826              22839             e_1   \n",
       "10811                22826              22839             e_1   \n",
       "10812                22826              22839             e_1   \n",
       "13079                27421              27435             e_1   \n",
       "13080                27421              27435             e_1   \n",
       "14501                29448              29469             e_1   \n",
       "14738                29592              29603             e_1   \n",
       "14739                29592              29603             e_1   \n",
       "14974                29592              29603             e_1   \n",
       "14975                29592              29603             e_1   \n",
       "\n",
       "                                        Sentence_Species  \\\n",
       "4867   Free-living algal cells resembling Hemichloris...   \n",
       "6878   The Scytonemataceae (Nostocales) were the domi...   \n",
       "6879   The Scytonemataceae (Nostocales) were the domi...   \n",
       "6880   The Scytonemataceae (Nostocales) were the domi...   \n",
       "6881   The Scytonemataceae (Nostocales) were the domi...   \n",
       "7839   The Actinobacteria, Bacteriodetes and Chlorofl...   \n",
       "7957   The Actinobacteria, Bacteriodetes and Chlorofl...   \n",
       "8075   The Actinobacteria, Bacteriodetes and Chlorofl...   \n",
       "8674   Other notable differences were the relative ab...   \n",
       "9623   Chasmoendolithic microbial community from Mier...   \n",
       "9624   Chasmoendolithic microbial community from Mier...   \n",
       "9625   Chasmoendolithic microbial community from Mier...   \n",
       "9626   Chasmoendolithic microbial community from Mier...   \n",
       "10217  Lichen-forming ascomycetes (Lecidea genus) wer...   \n",
       "10810  Black areas are regions of shadow due to the t...   \n",
       "10811  Black areas are regions of shadow due to the t...   \n",
       "10812  Black areas are regions of shadow due to the t...   \n",
       "13079  Another important finding was that the Univers...   \n",
       "13080  Another important finding was that the Univers...   \n",
       "14501  Among the eukaryotes, the free-living alga Hem...   \n",
       "14738  Among the eukaryotes, the free-living alga Hem...   \n",
       "14739  Among the eukaryotes, the free-living alga Hem...   \n",
       "14974  Among the eukaryotes, the free-living alga Hem...   \n",
       "14975  Among the eukaryotes, the free-living alga Hem...   \n",
       "\n",
       "       inAbstract300_Species  inAbstract500_Species  max_TFISF_Species  ...  \\\n",
       "4867                       0                      0           4.209655  ...   \n",
       "6878                       0                      0           4.615121  ...   \n",
       "6879                       0                      0           4.615121  ...   \n",
       "6880                       0                      0           4.615121  ...   \n",
       "6881                       0                      0           4.615121  ...   \n",
       "7839                       0                      0           4.209655  ...   \n",
       "7957                       0                      0           4.615121  ...   \n",
       "8075                       0                      0           4.615121  ...   \n",
       "8674                       0                      0           4.615121  ...   \n",
       "9623                       0                      0           4.209655  ...   \n",
       "9624                       0                      0           4.209655  ...   \n",
       "9625                       0                      0           4.209655  ...   \n",
       "9626                       0                      0           4.209655  ...   \n",
       "10217                      0                      0           5.308268  ...   \n",
       "10810                      0                      0           5.308268  ...   \n",
       "10811                      0                      0           5.308268  ...   \n",
       "10812                      0                      0           5.308268  ...   \n",
       "13079                      0                      0           4.615121  ...   \n",
       "13080                      0                      0           4.615121  ...   \n",
       "14501                      0                      0           4.209655  ...   \n",
       "14738                      0                      0           4.209655  ...   \n",
       "14739                      0                      0           4.209655  ...   \n",
       "14974                      0                      0           4.209655  ...   \n",
       "14975                      0                      0           4.209655  ...   \n",
       "\n",
       "                                     AnnTxtFile_Location Same_Sentence  \\\n",
       "4867   ExtractedAnnotatedData\\OldSet\\Archer2017_Artic...             0   \n",
       "6878   ExtractedAnnotatedData\\OldSet\\Archer2017_Artic...             1   \n",
       "6879   ExtractedAnnotatedData\\OldSet\\Archer2017_Artic...             1   \n",
       "6880   ExtractedAnnotatedData\\OldSet\\Archer2017_Artic...             1   \n",
       "6881   ExtractedAnnotatedData\\OldSet\\Archer2017_Artic...             1   \n",
       "7839   ExtractedAnnotatedData\\OldSet\\Archer2017_Artic...             1   \n",
       "7957   ExtractedAnnotatedData\\OldSet\\Archer2017_Artic...             1   \n",
       "8075   ExtractedAnnotatedData\\OldSet\\Archer2017_Artic...             1   \n",
       "8674   ExtractedAnnotatedData\\OldSet\\Archer2017_Artic...             1   \n",
       "9623   ExtractedAnnotatedData\\OldSet\\Archer2017_Artic...             1   \n",
       "9624   ExtractedAnnotatedData\\OldSet\\Archer2017_Artic...             1   \n",
       "9625   ExtractedAnnotatedData\\OldSet\\Archer2017_Artic...             1   \n",
       "9626   ExtractedAnnotatedData\\OldSet\\Archer2017_Artic...             1   \n",
       "10217  ExtractedAnnotatedData\\OldSet\\Archer2017_Artic...             1   \n",
       "10810  ExtractedAnnotatedData\\OldSet\\Archer2017_Artic...             1   \n",
       "10811  ExtractedAnnotatedData\\OldSet\\Archer2017_Artic...             1   \n",
       "10812  ExtractedAnnotatedData\\OldSet\\Archer2017_Artic...             1   \n",
       "13079  ExtractedAnnotatedData\\OldSet\\Archer2017_Artic...             1   \n",
       "13080  ExtractedAnnotatedData\\OldSet\\Archer2017_Artic...             1   \n",
       "14501  ExtractedAnnotatedData\\OldSet\\Archer2017_Artic...             1   \n",
       "14738  ExtractedAnnotatedData\\OldSet\\Archer2017_Artic...             1   \n",
       "14739  ExtractedAnnotatedData\\OldSet\\Archer2017_Artic...             1   \n",
       "14974  ExtractedAnnotatedData\\OldSet\\Archer2017_Artic...             1   \n",
       "14975  ExtractedAnnotatedData\\OldSet\\Archer2017_Artic...             1   \n",
       "\n",
       "      Num_Tokens_Between Num_Words_Between  Num_Verbs_Between  \\\n",
       "4867                  64                49                  7   \n",
       "6878                   8                 6                  0   \n",
       "6879                  19                14                  0   \n",
       "6880                  34                25                  0   \n",
       "6881                  34                25                  0   \n",
       "7839                  15                14                  0   \n",
       "7957                  13                13                  0   \n",
       "8075                  11                11                  0   \n",
       "8674                   3                 3                  0   \n",
       "9623                  22                17                  1   \n",
       "9624                  22                17                  1   \n",
       "9625                   6                 4                  0   \n",
       "9626                   8                 6                  0   \n",
       "10217                  6                 5                  1   \n",
       "10810                  2                 2                  0   \n",
       "10811                  4                 4                  0   \n",
       "10812                  9                 9                  0   \n",
       "13079                  4                 3                  1   \n",
       "13080                  6                 5                  1   \n",
       "14501                 10                 6                  1   \n",
       "14738                  9                 7                  1   \n",
       "14739                 11                 9                  1   \n",
       "14974                  9                 7                  1   \n",
       "14975                 11                 9                  1   \n",
       "\n",
       "       Num_Nouns_Between  Num_Preps_Between  Preposition_Between  \\\n",
       "4867                  16                  7                    1   \n",
       "6878                   1                  1                    1   \n",
       "6879                   5                  1                    1   \n",
       "6880                   8                  2                    1   \n",
       "6881                   8                  2                    1   \n",
       "7839                   1                  3                    1   \n",
       "7957                   1                  3                    1   \n",
       "8075                   1                  3                    1   \n",
       "8674                   0                  1                    1   \n",
       "9623                   5                  3                    1   \n",
       "9624                   5                  3                    1   \n",
       "9625                   0                  1                    1   \n",
       "9626                   0                  1                    1   \n",
       "10217                  1                  1                    1   \n",
       "10810                  1                  1                    1   \n",
       "10811                  1                  1                    1   \n",
       "10812                  2                  2                    1   \n",
       "13079                  1                  1                    1   \n",
       "13080                  1                  1                    1   \n",
       "14501                  0                  1                    1   \n",
       "14738                  1                  2                    1   \n",
       "14739                  1                  2                    1   \n",
       "14974                  1                  2                    1   \n",
       "14975                  1                  2                    1   \n",
       "\n",
       "      Dependency_Steps Tagged_Relationship  \n",
       "4867               999                   1  \n",
       "6878                 3                   1  \n",
       "6879                 3                   1  \n",
       "6880                 3                   1  \n",
       "6881                 3                   1  \n",
       "7839                 5                   1  \n",
       "7957                 6                   1  \n",
       "8075                 7                   1  \n",
       "8674                 5                   1  \n",
       "9623                 5                   1  \n",
       "9624                 5                   1  \n",
       "9625                 6                   1  \n",
       "9626                 7                   1  \n",
       "10217                5                   1  \n",
       "10810                4                   1  \n",
       "10811                5                   1  \n",
       "10812                3                   1  \n",
       "13079                4                   1  \n",
       "13080                6                   1  \n",
       "14501                4                   1  \n",
       "14738                5                   1  \n",
       "14739                7                   1  \n",
       "14974                5                   1  \n",
       "14975                7                   1  \n",
       "\n",
       "[24 rows x 34 columns]"
      ]
     },
     "execution_count": 31,
     "metadata": {},
     "output_type": "execute_result"
    }
   ],
   "source": [
    "# All tagged relationships\n",
    "relations.loc[relations['Tagged_Relationship'] == 1]"
   ]
  },
  {
   "cell_type": "code",
   "execution_count": 32,
   "metadata": {
    "ExecuteTime": {
     "end_time": "2021-04-05T04:00:21.898465Z",
     "start_time": "2021-04-05T04:00:21.892126Z"
    }
   },
   "outputs": [
    {
     "data": {
      "text/plain": [
       "1"
      ]
     },
     "execution_count": 32,
     "metadata": {},
     "output_type": "execute_result"
    }
   ],
   "source": [
    "# Sum total of all tagged relationships found across sentences\n",
    "len(relations[(relations.Tagged_Relationship == 1) & (relations.Same_Sentence == 0)])"
   ]
  },
  {
   "cell_type": "code",
   "execution_count": 33,
   "metadata": {},
   "outputs": [
    {
     "data": {
      "text/plain": [
       "23"
      ]
     },
     "execution_count": 33,
     "metadata": {},
     "output_type": "execute_result"
    }
   ],
   "source": [
    "# Sum total of all tagged relationships found in same sentences\n",
    "len(relations[(relations.Tagged_Relationship == 1) & (relations.Same_Sentence == 1)])"
   ]
  },
  {
   "cell_type": "code",
   "execution_count": 34,
   "metadata": {
    "ExecuteTime": {
     "end_time": "2021-03-12T23:56:02.978665Z",
     "start_time": "2021-03-12T23:56:02.971329Z"
    }
   },
   "outputs": [
    {
     "data": {
      "text/plain": [
       "array(['algal', 'lichen', 'cyanobacteria', 'algae', 'bacterial',\n",
       "       'archaeal', 'cyanobacterial', 'Cyanobacteria', 'Lichen',\n",
       "       'eukaryal', 'Hemichloris antarctica', 'Scytonemataceae',\n",
       "       'Nostocales', 'Actinobacteria', 'Bacteriodetes', 'Chloroflexi',\n",
       "       'Proteobacteria', 'proteobacteria', 'actinobacteria',\n",
       "       'chloroflexi', 'Lentisphaerae', 'Chlorophyta', 'Diplosphaera',\n",
       "       'Lecidea', 'Thaumarchaeota', 'Chroococcidiopsis',\n",
       "       'Deinococcus-Thermus', 'Hemichloris', 'Gemmatimonadetes',\n",
       "       'Spirochaetes', 'Planctomycetes',\n",
       "       'Thermodesulfobacteria Verrucomicrobia'], dtype=object)"
      ]
     },
     "execution_count": 34,
     "metadata": {},
     "output_type": "execute_result"
    }
   ],
   "source": [
    "# Unique identified species\n",
    "relations[(relations.Document =='Archer2017_Article_EndolithicMicrobialDiversityIn.txt')].Species.unique()"
   ]
  },
  {
   "cell_type": "code",
   "execution_count": 35,
   "metadata": {
    "ExecuteTime": {
     "end_time": "2021-03-12T23:53:35.950979Z",
     "start_time": "2021-03-12T23:53:35.942068Z"
    }
   },
   "outputs": [
    {
     "data": {
      "text/plain": [
       "139"
      ]
     },
     "execution_count": 35,
     "metadata": {},
     "output_type": "execute_result"
    }
   ],
   "source": [
    "# Not sure what this is tbh\n",
    "relations['End_Token_Species'].unique().sum() - relations['Start_Token_Species'].unique().sum() "
   ]
  },
  {
   "cell_type": "code",
   "execution_count": 36,
   "metadata": {
    "ExecuteTime": {
     "end_time": "2021-03-13T02:06:57.963898Z",
     "start_time": "2021-03-13T02:06:57.947723Z"
    }
   },
   "outputs": [
    {
     "data": {
      "text/html": [
       "<div>\n",
       "<style scoped>\n",
       "    .dataframe tbody tr th:only-of-type {\n",
       "        vertical-align: middle;\n",
       "    }\n",
       "\n",
       "    .dataframe tbody tr th {\n",
       "        vertical-align: top;\n",
       "    }\n",
       "\n",
       "    .dataframe thead th {\n",
       "        text-align: right;\n",
       "    }\n",
       "</style>\n",
       "<table border=\"1\" class=\"dataframe\">\n",
       "  <thead>\n",
       "    <tr style=\"text-align: right;\">\n",
       "      <th></th>\n",
       "      <th>DocNum</th>\n",
       "      <th>Sentences</th>\n",
       "      <th>Tokens</th>\n",
       "      <th>Characters</th>\n",
       "      <th>Species Mentions</th>\n",
       "      <th>Species %</th>\n",
       "      <th>Location Mentions</th>\n",
       "      <th>Location %</th>\n",
       "      <th>Unique Species</th>\n",
       "      <th>Unique Locations</th>\n",
       "      <th>Possible Relationships</th>\n",
       "      <th>True Relationships</th>\n",
       "      <th>Relationship %</th>\n",
       "    </tr>\n",
       "  </thead>\n",
       "  <tbody>\n",
       "    <tr>\n",
       "      <th>0</th>\n",
       "      <td>Document 1</td>\n",
       "      <td>202</td>\n",
       "      <td>5990</td>\n",
       "      <td>33353</td>\n",
       "      <td>133</td>\n",
       "      <td>2.321</td>\n",
       "      <td>108</td>\n",
       "      <td>2.938</td>\n",
       "      <td>32</td>\n",
       "      <td>25</td>\n",
       "      <td>18408</td>\n",
       "      <td>24</td>\n",
       "      <td>0.13</td>\n",
       "    </tr>\n",
       "    <tr>\n",
       "      <th>1</th>\n",
       "      <td>Total</td>\n",
       "      <td>202</td>\n",
       "      <td>5990</td>\n",
       "      <td>33353</td>\n",
       "      <td>133</td>\n",
       "      <td>2.321</td>\n",
       "      <td>108</td>\n",
       "      <td>2.938</td>\n",
       "      <td>32</td>\n",
       "      <td>25</td>\n",
       "      <td>18408</td>\n",
       "      <td>24</td>\n",
       "      <td>0.13</td>\n",
       "    </tr>\n",
       "  </tbody>\n",
       "</table>\n",
       "</div>"
      ],
      "text/plain": [
       "       DocNum  Sentences  Tokens  Characters  Species Mentions  Species %  \\\n",
       "0  Document 1        202    5990       33353               133      2.321   \n",
       "1       Total        202    5990       33353               133      2.321   \n",
       "\n",
       "   Location Mentions  Location %  Unique Species  Unique Locations  \\\n",
       "0                108       2.938              32                25   \n",
       "1                108       2.938              32                25   \n",
       "\n",
       "   Possible Relationships  True Relationships  Relationship %  \n",
       "0                   18408                  24            0.13  \n",
       "1                   18408                  24            0.13  "
      ]
     },
     "execution_count": 36,
     "metadata": {},
     "output_type": "execute_result"
    }
   ],
   "source": [
    "# Summary of all documents\n",
    "Summary"
   ]
  },
  {
   "cell_type": "code",
   "execution_count": 37,
   "metadata": {
    "ExecuteTime": {
     "end_time": "2021-04-05T04:04:12.344919Z",
     "start_time": "2021-04-05T04:04:12.328834Z"
    }
   },
   "outputs": [
    {
     "data": {
      "text/html": [
       "<div>\n",
       "<style scoped>\n",
       "    .dataframe tbody tr th:only-of-type {\n",
       "        vertical-align: middle;\n",
       "    }\n",
       "\n",
       "    .dataframe tbody tr th {\n",
       "        vertical-align: top;\n",
       "    }\n",
       "\n",
       "    .dataframe thead th {\n",
       "        text-align: right;\n",
       "    }\n",
       "</style>\n",
       "<table border=\"1\" class=\"dataframe\">\n",
       "  <thead>\n",
       "    <tr style=\"text-align: right;\">\n",
       "      <th></th>\n",
       "      <th>DocNum</th>\n",
       "      <th>Sentences</th>\n",
       "      <th>Tokens</th>\n",
       "      <th>Characters</th>\n",
       "      <th>Species Mentions</th>\n",
       "      <th>Species %</th>\n",
       "      <th>Location Mentions</th>\n",
       "      <th>Location %</th>\n",
       "      <th>Unique Species</th>\n",
       "      <th>Unique Locations</th>\n",
       "      <th>Possible Relationships</th>\n",
       "      <th>True Relationships</th>\n",
       "      <th>Relationship %</th>\n",
       "      <th>Cross Sentence Relationships %</th>\n",
       "    </tr>\n",
       "  </thead>\n",
       "  <tbody>\n",
       "    <tr>\n",
       "      <th>0</th>\n",
       "      <td>Document 1</td>\n",
       "      <td>202</td>\n",
       "      <td>5990</td>\n",
       "      <td>33353</td>\n",
       "      <td>133</td>\n",
       "      <td>2.321</td>\n",
       "      <td>108</td>\n",
       "      <td>2.938</td>\n",
       "      <td>32</td>\n",
       "      <td>25</td>\n",
       "      <td>18408</td>\n",
       "      <td>24</td>\n",
       "      <td>0.13</td>\n",
       "      <td>4.167</td>\n",
       "    </tr>\n",
       "    <tr>\n",
       "      <th>1</th>\n",
       "      <td>Total</td>\n",
       "      <td>202</td>\n",
       "      <td>5990</td>\n",
       "      <td>33353</td>\n",
       "      <td>133</td>\n",
       "      <td>2.321</td>\n",
       "      <td>108</td>\n",
       "      <td>2.938</td>\n",
       "      <td>32</td>\n",
       "      <td>25</td>\n",
       "      <td>18408</td>\n",
       "      <td>24</td>\n",
       "      <td>0.13</td>\n",
       "      <td>4.167</td>\n",
       "    </tr>\n",
       "  </tbody>\n",
       "</table>\n",
       "</div>"
      ],
      "text/plain": [
       "       DocNum  Sentences  Tokens  Characters  Species Mentions  Species %  \\\n",
       "0  Document 1        202    5990       33353               133      2.321   \n",
       "1       Total        202    5990       33353               133      2.321   \n",
       "\n",
       "   Location Mentions  Location %  Unique Species  Unique Locations  \\\n",
       "0                108       2.938              32                25   \n",
       "1                108       2.938              32                25   \n",
       "\n",
       "   Possible Relationships  True Relationships  Relationship %  \\\n",
       "0                   18408                  24            0.13   \n",
       "1                   18408                  24            0.13   \n",
       "\n",
       "   Cross Sentence Relationships %  \n",
       "0                           4.167  \n",
       "1                           4.167  "
      ]
     },
     "execution_count": 37,
     "metadata": {},
     "output_type": "execute_result"
    }
   ],
   "source": [
    "# Second summary of all documents\n",
    "Summary2"
   ]
  },
  {
   "cell_type": "code",
   "execution_count": 38,
   "metadata": {
    "ExecuteTime": {
     "end_time": "2021-03-13T00:45:11.587910Z",
     "start_time": "2021-03-13T00:45:11.369766Z"
    }
   },
   "outputs": [
    {
     "data": {
      "image/png": "[encoded data removed]",
      "text/plain": [
       "<Figure size 1080x720 with 1 Axes>"
      ]
     },
     "metadata": {
      "needs_background": "light"
     },
     "output_type": "display_data"
    }
   ],
   "source": [
    "# Graph of summary of tokens\n",
    "ax = Summary[0:7].plot.bar(x='DocNum', y='Tokens')"
   ]
  },
  {
   "cell_type": "code",
   "execution_count": 39,
   "metadata": {
    "ExecuteTime": {
     "end_time": "2021-03-16T03:42:04.777886Z",
     "start_time": "2021-03-16T03:42:04.476760Z"
    }
   },
   "outputs": [
    {
     "data": {
      "text/plain": [
       "Text(0.5, 0, 'Document')"
      ]
     },
     "execution_count": 39,
     "metadata": {},
     "output_type": "execute_result"
    },
    {
     "data": {
      "image/png": "[encoded data removed]",
      "text/plain": [
       "<Figure size 1080x720 with 1 Axes>"
      ]
     },
     "metadata": {
      "needs_background": "light"
     },
     "output_type": "display_data"
    }
   ],
   "source": [
    "# Graph of summary tokens in documents\n",
    "ax = sns.barplot(x='DocNum', y='Tokens', data=Summary[0:7], color='tab:blue')\n",
    "ax.set_title('Fig. 2 - Length of Documents in Tokens')\n",
    "ax.set_xlabel('Document')"
   ]
  },
  {
   "cell_type": "code",
   "execution_count": 40,
   "metadata": {
    "ExecuteTime": {
     "end_time": "2021-03-16T03:42:33.686179Z",
     "start_time": "2021-03-16T03:42:33.432782Z"
    }
   },
   "outputs": [
    {
     "data": {
      "text/plain": [
       "Text(0.5, 0, 'Document')"
      ]
     },
     "execution_count": 40,
     "metadata": {},
     "output_type": "execute_result"
    },
    {
     "data": {
      "image/png": "[encoded data removed]",
      "text/plain": [
       "<Figure size 1080x720 with 1 Axes>"
      ]
     },
     "metadata": {
      "needs_background": "light"
     },
     "output_type": "display_data"
    }
   ],
   "source": [
    "# Graph of summary of sentences in documents\n",
    "ax = sns.barplot(x='DocNum', y='Sentences', data=Summary[0:7], color='tab:blue')\n",
    "ax.set_title('Fig. 3 - Length of Documents in Sentences')\n",
    "ax.set_xlabel('Document')\n",
    "# ax.set_ylabel()"
   ]
  },
  {
   "cell_type": "code",
   "execution_count": 41,
   "metadata": {
    "ExecuteTime": {
     "end_time": "2021-03-13T01:12:31.987627Z",
     "start_time": "2021-03-13T01:12:31.760835Z"
    }
   },
   "outputs": [
    {
     "data": {
      "text/plain": [
       "Text(0.5, 0, 'Document')"
      ]
     },
     "execution_count": 41,
     "metadata": {},
     "output_type": "execute_result"
    },
    {
     "data": {
      "image/png": "[encoded data removed]",
      "text/plain": [
       "<Figure size 1080x720 with 1 Axes>"
      ]
     },
     "metadata": {
      "needs_background": "light"
     },
     "output_type": "display_data"
    }
   ],
   "source": [
    "# Graph of summary of characters in documents\n",
    "ax = sns.barplot(x='DocNum', y='Characters', data=Summary[0:7], color='tab:blue')\n",
    "ax.set_title('Length of Documents in Characters')\n",
    "ax.set_xlabel('Document')"
   ]
  },
  {
   "cell_type": "code",
   "execution_count": 42,
   "metadata": {
    "ExecuteTime": {
     "end_time": "2021-03-16T03:45:27.592162Z",
     "start_time": "2021-03-16T03:45:27.324194Z"
    }
   },
   "outputs": [
    {
     "data": {
      "text/plain": [
       "Text(0, 0.5, 'Percentage')"
      ]
     },
     "execution_count": 42,
     "metadata": {},
     "output_type": "execute_result"
    },
    {
     "data": {
      "image/png": "[encoded data removed]",
      "text/plain": [
       "<Figure size 1080x720 with 1 Axes>"
      ]
     },
     "metadata": {
      "needs_background": "light"
     },
     "output_type": "display_data"
    }
   ],
   "source": [
    "# Graph of summary of actual relationships in documents\n",
    "ax = sns.barplot(x='DocNum', y='Relationship %', data=Summary, color='tab:orange')\n",
    "ax.set_title('Fig. 6 - Percentage of Actual Relationships')\n",
    "ax.set_xlabel('Document')\n",
    "ax.set_ylabel('Percentage')"
   ]
  },
  {
   "cell_type": "code",
   "execution_count": 43,
   "metadata": {
    "ExecuteTime": {
     "end_time": "2021-03-16T03:43:32.178384Z",
     "start_time": "2021-03-16T03:43:31.685736Z"
    }
   },
   "outputs": [
    {
     "data": {
      "text/plain": [
       "<seaborn.axisgrid.FacetGrid at 0x1f4b4049250>"
      ]
     },
     "execution_count": 43,
     "metadata": {},
     "output_type": "execute_result"
    },
    {
     "data": {
      "image/png": "[encoded data removed]",
      "text/plain": [
       "<Figure size 860.925x720 with 1 Axes>"
      ]
     },
     "metadata": {
      "needs_background": "light"
     },
     "output_type": "display_data"
    }
   ],
   "source": [
    "# Prevalence of entity type by document\n",
    "ax = sns.catplot(x = 'DocNum', y = 'Vals', hue = 'Entity', data = df, kind = 'bar', height=10)\n",
    "ax.fig.suptitle('Fig. 4 - Prevalence of Entity Type by Document', y=1)\n",
    "ax.set_axis_labels(\"Document\", \"Percentage of Document's Tokens\")"
   ]
  },
  {
   "cell_type": "code",
   "execution_count": 47,
   "metadata": {
    "ExecuteTime": {
     "end_time": "2021-03-16T03:44:46.014408Z",
     "start_time": "2021-03-16T03:44:45.802880Z"
    }
   },
   "outputs": [
    {
     "data": {
      "text/plain": [
       "[Text(0, 0, 'False'), Text(1, 0, 'True')]"
      ]
     },
     "execution_count": 47,
     "metadata": {},
     "output_type": "execute_result"
    },
    {
     "data": {
      "image/png": "[encoded data removed]",
      "text/plain": [
       "<Figure size 1080x720 with 1 Axes>"
      ]
     },
     "metadata": {
      "needs_background": "light"
     },
     "output_type": "display_data"
    }
   ],
   "source": [
    "# Not sure what this is\n",
    "plt = sns.countplot(x = \"Tagged_Relationship\", data = relations)\n",
    "plt.set_title('Fig.5 - Data Imbalance')\n",
    "plt.set_xlabel('True Relationship')\n",
    "plt.set_xticklabels([\"False\", \"True\"])"
   ]
  },
  {
   "cell_type": "code",
   "execution_count": 39,
   "metadata": {
    "ExecuteTime": {
     "end_time": "2021-04-05T01:28:14.797731Z",
     "start_time": "2021-04-05T01:28:14.539236Z"
    }
   },
   "outputs": [
    {
     "data": {
      "text/plain": [
       "[[Text(0, 0, 'Across Sentence Boundary'), Text(1, 0, 'Within Sentence')]]"
      ]
     },
     "execution_count": 39,
     "metadata": {},
     "output_type": "execute_result"
    },
    {
     "data": {
      "image/png": "[encoded data removed]",
      "text/plain": [
       "<Figure size 1080x720 with 1 Axes>"
      ]
     },
     "metadata": {
      "needs_background": "light"
     },
     "output_type": "display_data"
    }
   ],
   "source": [
    "# Graph of inter vrs intra-sentential relationships\n",
    "rcParams['xtick.labelsize'] = 15\n",
    "plt                         = sns.countplot(x = \"Same_Sentence\", data = relations)\n",
    "\n",
    "plt.set_title('Fig.6 - Inter v Intra-sentential Relationships')\n",
    "plt.set_xlabel('Relationship Path')\n",
    "\n",
    "plt.set(xticklabels         = ['Across Sentence Boundary', 'Within Sentence'])"
   ]
  },
  {
   "cell_type": "markdown",
   "metadata": {},
   "source": [
    "End."
   ]
  }
 ],
 "metadata": {
  "kernelspec": {
   "display_name": "Python 3 (ipykernel)",
   "language": "python",
   "name": "python3"
  },
  "language_info": {
   "codemirror_mode": {
    "name": "ipython",
    "version": 3
   },
   "file_extension": ".py",
   "mimetype": "text/x-python",
   "name": "python",
   "nbconvert_exporter": "python",
   "pygments_lexer": "ipython3",
   "version": "3.9.9"
  },
  "toc": {
   "base_numbering": 1,
   "nav_menu": {},
   "number_sections": true,
   "sideBar": true,
   "skip_h1_title": true,
   "title_cell": "Table of Contents",
   "title_sidebar": "Contents",
   "toc_cell": true,
   "toc_position": {
    "height": "calc(100% - 180px)",
    "left": "10px",
    "top": "150px",
    "width": "311px"
   },
   "toc_section_display": true,
   "toc_window_display": true
  },
  "varInspector": {
   "cols": {
    "lenName": 16,
    "lenType": 16,
    "lenVar": 40
   },
   "kernels_config": {
    "python": {
     "delete_cmd_postfix": "",
     "delete_cmd_prefix": "del ",
     "library": "var_list.py",
     "varRefreshCmd": "print(var_dic_list())"
    },
    "r": {
     "delete_cmd_postfix": ") ",
     "delete_cmd_prefix": "rm(",
     "library": "var_list.r",
     "varRefreshCmd": "cat(var_dic_list()) "
    }
   },
   "types_to_exclude": [
    "module",
    "function",
    "builtin_function_or_method",
    "instance",
    "_Feature"
   ],
   "window_display": false
  }
 },
 "nbformat": 4,
 "nbformat_minor": 2
}
