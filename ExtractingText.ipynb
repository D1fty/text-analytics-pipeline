{
 "cells": [
  {
   "cell_type": "markdown",
   "metadata": {},
   "source": [
    "# Text Pipeline - Manaaki Whenua"
   ]
  },
  {
   "cell_type": "markdown",
   "metadata": {
    "toc": true
   },
   "source": [
    "<h1>Table of Contents<span class=\"tocSkip\"></span></h1>\n",
    "<div class=\"toc\"><ul class=\"toc-item\"><li><span><a href=\"#Imports-and-Defaults\" data-toc-modified-id=\"Imports-and-Defaults-1\"><span class=\"toc-item-num\">1&nbsp;&nbsp;</span>Imports and Defaults</a></span></li><li><span><a href=\"#Extracting-Text-from-PDF\" data-toc-modified-id=\"Extracting-Text-from-PDF-2\"><span class=\"toc-item-num\">2&nbsp;&nbsp;</span>Extracting Text from PDF</a></span></li><li><span><a href=\"#Further-Preprocessing\" data-toc-modified-id=\"Further-Preprocessing-3\"><span class=\"toc-item-num\">3&nbsp;&nbsp;</span>Further Preprocessing</a></span></li><li><span><a href=\"#Extracting-Text-From-.pdf-Files-in-a-Folder-and-Saving-New-.txt-Files\" data-toc-modified-id=\"Extracting-Text-From-.pdf-Files-in-a-Folder-and-Saving-New-.txt-Files-4\"><span class=\"toc-item-num\">4&nbsp;&nbsp;</span>Extracting Text From .pdf Files in a Folder and Saving New .txt Files</a></span></li></ul></div>"
   ]
  },
  {
   "cell_type": "code",
   "execution_count": 1,
   "metadata": {
    "ExecuteTime": {
     "end_time": "2021-01-18T20:52:20.589260Z",
     "start_time": "2021-01-18T20:52:20.578251Z"
    }
   },
   "outputs": [
    {
     "data": {
      "text/html": [
       "<style>.container { width:80% !important; } p, ul {max-width:␣\n",
       ",→40em;} .rendered_html table { margin-left: 0; } .output_subarea.output_png {␣\n",
       ",→display: flex; justify-content: center;}</style>"
      ],
      "text/plain": [
       "<IPython.core.display.HTML object>"
      ]
     },
     "metadata": {},
     "output_type": "display_data"
    }
   ],
   "source": [
    "from IPython.core.display import display, HTML, Markdown as md\n",
    "display(HTML(\"\"\"<style>.container { width:80% !important; } p, ul {max-width:␣\n",
    ",→40em;} .rendered_html table { margin-left: 0; } .output_subarea.output_png {␣\n",
    ",→display: flex; justify-content: center;}</style>\"\"\"))"
   ]
  },
  {
   "cell_type": "markdown",
   "metadata": {},
   "source": [
    "## Imports and Defaults"
   ]
  },
  {
   "cell_type": "code",
   "execution_count": 2,
   "metadata": {
    "ExecuteTime": {
     "end_time": "2021-01-18T20:52:21.632549Z",
     "start_time": "2021-01-18T20:52:21.630093Z"
    }
   },
   "outputs": [],
   "source": [
    "# pip install Pillow\n",
    "# pip install wand"
   ]
  },
  {
   "cell_type": "code",
   "execution_count": 3,
   "metadata": {
    "ExecuteTime": {
     "end_time": "2021-01-18T20:52:22.005028Z",
     "start_time": "2021-01-18T20:52:22.002350Z"
    }
   },
   "outputs": [],
   "source": [
    "# import pandas as pd\n",
    "# import numpy as np\n",
    "import re"
   ]
  },
  {
   "cell_type": "code",
   "execution_count": 4,
   "metadata": {
    "ExecuteTime": {
     "end_time": "2021-01-18T20:52:23.222350Z",
     "start_time": "2021-01-18T20:52:23.198304Z"
    }
   },
   "outputs": [],
   "source": [
    "import pyocr\n",
    "import pyocr.builders\n",
    "import io\n",
    "import codecs\n",
    "import os"
   ]
  },
  {
   "cell_type": "code",
   "execution_count": 21,
   "metadata": {
    "ExecuteTime": {
     "end_time": "2021-01-18T22:29:43.415032Z",
     "start_time": "2021-01-18T22:29:43.412572Z"
    }
   },
   "outputs": [],
   "source": [
    "import deleteMagick #executable script that deletes leftover magick* files"
   ]
  },
  {
   "cell_type": "code",
   "execution_count": 5,
   "metadata": {
    "ExecuteTime": {
     "end_time": "2021-01-18T20:52:24.228060Z",
     "start_time": "2021-01-18T20:52:24.148543Z"
    }
   },
   "outputs": [],
   "source": [
    "from PIL import Image as PI\n",
    "from wand.image import Image"
   ]
  },
  {
   "cell_type": "markdown",
   "metadata": {},
   "source": [
    "## Extracting Text from PDF"
   ]
  },
  {
   "cell_type": "code",
   "execution_count": 6,
   "metadata": {
    "ExecuteTime": {
     "end_time": "2021-01-18T20:52:27.761792Z",
     "start_time": "2021-01-18T20:52:27.754442Z"
    }
   },
   "outputs": [],
   "source": [
    "def extractTextFromPDF(folder, file):\n",
    "    \"\"\"\n",
    "    Takes a PDF document, converts to an image and \n",
    "    then extracts text from each page of that image into an array.\n",
    "    The elements of the array (pages) are merged into one document \n",
    "    and line breaks removed ready for the next step.\n",
    "    \"\"\"\n",
    "#     print(\"beginning\")\n",
    "    pdf_as_image = Image(filename=folder+'/'+file, resolution=600)\n",
    "    pdf_as_jpeg = pdf_as_image.convert('jpeg')\n",
    "    del pdf_as_image\n",
    "    tool = pyocr.get_available_tools()[0]\n",
    "#     req_image = []\n",
    "    pages_text = []\n",
    "#     final_text = ''\n",
    "#     print('pages: ')\n",
    "    for img in pdf_as_jpeg.sequence:\n",
    "        img_page = Image(image=img)\n",
    "        req_image = img_page.make_blob('jpeg')\n",
    "        txt = tool.image_to_string(\n",
    "            PI.open(io.BytesIO(req_image)),\n",
    "            #lang=lang,\n",
    "            builder=pyocr.builders.TextBuilder()\n",
    "        )\n",
    "        pages_text.append(txt.encode('utf-8', 'ignore'))\n",
    "#         print(len(pages_text))\n",
    "#     del img\n",
    "    #flatten array of pages into one string/byte for whole document\n",
    "    doc_text = b' '.join(pages_text) \n",
    "    del pages_text\n",
    "    #remove breaks from words that wrap over two lines\n",
    "    doc_text = re.sub(b'-\\n', b'', doc_text) \n",
    "    #replace single returns with spaces\n",
    "    doc_text = re.sub(b'\\n', b' ', doc_text) \n",
    "    \n",
    "    #replace double spaces with single spaces\n",
    "    doc_text = re.sub(b'  ', b' ', doc_text) \n",
    "\n",
    "\n",
    "    \n",
    "#     #replace double returns with single returns\n",
    "#     doc_text = re.sub(b'\\n\\n', b'\\n', doc_text) \n",
    "    return doc_text"
   ]
  },
  {
   "cell_type": "code",
   "execution_count": 7,
   "metadata": {
    "ExecuteTime": {
     "end_time": "2021-01-13T02:18:21.537579Z",
     "start_time": "2021-01-13T02:18:21.531243Z"
    }
   },
   "outputs": [
    {
     "data": {
      "text/plain": [
       "['thesis.txt',\n",
       " 'gen-2015-0194.pdf',\n",
       " 'thesis (1).txt',\n",
       " 'thesis.pdf',\n",
       " 'thesis (1).pdf',\n",
       " '10.1007@s00300-017-2230-0.txt',\n",
       " 'thesis (2).pdf',\n",
       " 'greenslade2018.txt',\n",
       " 'gen-2015-0194suppla.txt',\n",
       " 'thesis (3).pdf',\n",
       " '10.1007@s00300-017-2230-0.pdf',\n",
       " 'gen-2015-0194suppla.pdf',\n",
       " 'fevo-07-00076.pdf',\n",
       " 'greenslade2018.pdf']"
      ]
     },
     "execution_count": 7,
     "metadata": {},
     "output_type": "execute_result"
    }
   ],
   "source": [
    "os.listdir('PDFs')"
   ]
  },
  {
   "cell_type": "code",
   "execution_count": 29,
   "metadata": {
    "ExecuteTime": {
     "end_time": "2021-01-18T04:04:11.262253Z",
     "start_time": "2021-01-18T04:00:41.919527Z"
    }
   },
   "outputs": [],
   "source": [
    "document = extractTextFromPDF('PDFs',\"10.1007@s00300-017-2230-0.pdf\")"
   ]
  },
  {
   "cell_type": "code",
   "execution_count": 30,
   "metadata": {
    "ExecuteTime": {
     "end_time": "2021-01-18T04:04:11.341381Z",
     "start_time": "2021-01-18T04:04:11.287093Z"
    },
    "scrolled": true
   },
   "outputs": [
    {
     "data": {
      "text/plain": [
       "b'Polar Biology https://doi.org/10.1007/s00300-017-2230-0 ORIGINAL PAPER @\\xc2\\xae CrossMark Collembola of Barrientos Island, Antarctica: first census and assessment of environmental factors determining springtail distribution Natalia Enriquez\\' - Pablo Tejedo? - Javier Benayas? - Bel\\xc3\\xa9n Albertos? - Maria Jos\\xc3\\xa9 Luciafiez\\' Received: 21 October 2016 / Revised: 13 August 2017 / Accepted: 3 December 2017 \\xc2\\xa9 Springer-Verlag GmbH Germany, part of Springer Nature 2017 Abstract Barrientos Island is a small islet in the South Shetland archipelago frequently visited by Antarctic tourists. Collembola were recently used in another study developed in this site to assess the environmental conditions of two paths used by visitors, showing the importance of this soil faunal community. This motivated the realization of the first comprehensive census of Collembola from Barrientos Island. Fifty-six samples were recorded over three seasons, 2011-2013, from eight different substrate types. During the last campaign, 39 soil samples were also taken to analyze different physical, chemical, biological, microbiological, and biochemical variables in order to put into relation all these environmental conditions with abundance and richness of Collembola species. A total of ten species were recorded, all of them previously cited from Antarctica. The native species Cryptopygus antarcticus antarcticus Willem (Collembola: Isotomidae) is the most abundant in the island. Two cosmopolitan species\\xe2\\x80\\x94Hypogastrura viatica (Tullberg) (Hypogastruridae) and Mesaphorura macrochaeta Rusek (Tullbergiidae)\\xe2\\x80\\x94were also identified. Many of the species on this island can be considered as eurytopic, appearing in most of the analyzed substrate types. Collembola distribution was found to be influenced by elevation and, to a lesser extent, by phosphorous content and slope. Other variables that are usually cited in the specialized literature did not significantly influence the Collembola distribution in this island. Our results show that the distribution and abundance of Collembola in Antarctic locations is not directly dependent on a single factor. The environmental characteristics of each studied site will determine what factors are driving the composition and structure of this soil community. Keywords Aitcho Islands - Non-indigenous species - Hypogastruridae - Basic collembolan species set - Inter-annual resampling Introduction Barrientos Island (62\\xc2\\xb024\\xe2\\x80\\x99S, 59\\xc2\\xb047\\'W) is located between Robert and Greenwich Islands, in the South Shetland archi Electronic supplementary material The online version of this pelago, Antarctica (Fig. 1). The island is an ice-free area in supplementary material, which is available to authorized users. b<| Natalia Enriquez Departamento de Biologia, Universidad Aut6noma de natalia.enriquez.miranda@ gmail.com Madrid, C/ Darwin 2, 28049 Madrid, Spain Pablo Tejedo 2 Departamento de Ecologia, Universidad Aut6noma de pablo.tejedo @uam.es Madrid, C/ Darwin 2, 28049 Madrid, Spain Javier Benayas Departamento de Botanica y Geologia, Universidad javier.benayas @uam.es de Valencia, Avda. Vicente Andr\\xc3\\xa9s Estell\\xc3\\xa9s s/n, Bel\\xc3\\xa9n Albertos 46100 Buryjassot, Spain belen.albertos @uv.es Maria Jos\\xc3\\xa9 Luciaiiez myjose.luciannez @uam.es Published online: 13 December 2017 a Springer 357500 3078000 [| Closed area C Penguin Rookery Chinstrap Penguins Chinstrap and Gentoo Penguins Gentoo Penguins 3077500 SS a5\" se, 13.43/44. 11 A 3 3077000 357500   Polar Biology 358000 358500 Graphic Scale 0 80 160 240 es \\\\Victers UTM Projection WGS 84 datum - Zone 21S 3078000 he ou! a Ad . \\' 1 sa\\xe2\\x80\\x99 FS yrpe . BY 4 of een le 3077500 3077000 Pacific Ocean Ui ctose@ ee) eld Prd | Aue 358000 358500 Fig.1 Map of Barrientos Island showing the main footpaths, some selected features of the island and all sample sites for 2011 (Sites11-01 to 11-06), 2012 (Sites12-01 to 12-11), and 2013 (Sites 13-01 to 13-39) most visited terrestrial sites in Antarctica, receiving 8663 visitors in the 2015\\xe2\\x80\\x942016 austral summer season (International Association of Antarctica Tour Operators 2015). A set of site guidelines for visitors was adopted by the Antarctic Treaty Consultative Meeting (ATCM) in 2005 after validation by the ATCM\\xe2\\x80\\x99s Committee for Environmental Protection (CEP). Several areas, including nesting areas for southern giant petrels, monitoring sites for chinstrap penguins, and extensive moss carpets vulnerable to trampling, are closed to visitors. This document also includes several paths, which allow visiting different areas of the island. Two of them were recently assessed using Collembola as an indicator in order to compare their environmental conditions (Tejedo et al. 2016). Based on this study, it is decided to carry out a complete census of this taxonomic group in the g) Springer island to enlarge the work developed, which is presented in this paper. Collembola in Antarctica are relatively well known due to numerous past studies focused on this taxon (e.g., Salmon 1949; Wise 1964, 1971; Greenslade and Wise 1984; Potapov 1991; Greenslade 1995; Convey et al. 2000). Particularly, Collembola from maritime Antarctica, the region comprising the western side of the Antarctic Peninsula and nearby islands, have been studied intensively (e.g., Willem 1901; Wahlgren 1906; Carpenter and Evans 1906; Weiner 1980; Greenslade 1995, 2010; Greenslade et al. 2012; Russell et al. 2014). However, the edaphic fauna of Barrientos Island has not been previously studied. Collembola fauna usually presents a patchy distribution, which depends on some environmental factors (Hertzberg Polar Biology et al. 1994; Ims et al. 2004). Soil moisture is often a limiting factor affecting the distribution and abundance of this taxon (e.g., Hopkin 1997; Sinclair et al. 2006; Day et al. 2009). Thus, Antarctic Collembola usually show higher densities and species richness at higher soil moistures (Russell et al. 2014). Another important habitat factor for Collembola is soil organic matter, which can be assessed through total amounts, concentrations of C and N, or C/N-relationship (e.g., Adams et al. 2006; Russell et al. 2014). Vegetation cover also plays an important role in the collembolan distribution. Usually, the denser the vegetation cover is the more individual-rich usually are the collembolan communities (Russell et al. 2014). At the local scale of patchy environments within the Antarctic, all these habitat factors appear to be more important than biotic interactions in influencing microarthropod assemblages (Adams et al. 2006; Hogg et al. 2006). These physical, chemical, and biological variables are related to other microbiological and biochemical soil properties that could affect to the soil quality, such as microbial biomass carbon, respiration, or different enzymatic activities, including urease, phosphatase, B-glucosidase (related to the cycles of N, P, and C, respectively), or dehydrogenase (which is used as an indicator of overall soil microbial activity). These soil variables are sensitive indicators of soil quality (Bastida et al. 2008) and for this reason were included in this work. The aim of this study is to identify the Collembola species on Barrientos Island, studying the substrate preferences and the relationships between Collembola distribution and environmental factors in order to contribute new knowledge about the ecology of these arthropods in maritime Antarctica. Materials and methods Study area The island\\xe2\\x80\\x99s northern coast is 1.5 km long and is dominated by steep cliffs reaching a height of 70 m. From there, a gentle slope extends down to the southern coast. The eastern and western ends of Barrientos are covered by black sand and cobbled beaches. Columnar basalt outcrops are found at the western end of the island. Extensive moss carpets cover the center of the island, with Sanionia as the dominant genus. Sanionia uncinata (Hedw.) Loeske and S. georgicouncinata (Mill. Hal.) Ochyra & Hedenis are present. Sanionia uncinata forms monospecific communities or mixed communities with Polytrichastrum alpinum (Hedw.) G.L. Sm. and Bryum pseudotriquetrum (Hedw.) G. Gaertn., B. Mey. & Scherb., together with other secondary species. Sanionia georgicouncinata is often found with Warnstorfia fontinaliopsis (Miill. Hal.) Ochyra, but forms extent monospecific carpets as well. Different crustose lichen species, such as Xanthoria spp. or Caloplaca spp., are also present in Barrientos. The green alga Prasiola crispa (Lightfoot) Kiitzing is widespread, especially in the most nitrified environments. The local fauna is diverse and includes gentoo penguins (Pygoscelis papua (Forster, 1781)), chinstrap penguins (Pygoscelis antarcticus (Forster, 1781)), southern giant petrels (Macronectes giganteus (Gmelin, 1789)), kelp gulls (Larus dominicanus Lichtenstein, 1823), skuas (Catharacta spp.), southern elephant seals (Mirounga leonina (Linnaeus, 1758)), Weddell seals (Leptonychotes weddellii (Lesson, 1826)), and Antarctic fur seals (Arctocephalus gazella (Peters, 1875)) (Antarctic Treaty Secretariat 2015). Collection, extraction, preparation, and identification of Collembola samples The study was conducted in three phases. An exploratory study was developed on February 7, 2011, whereby samples were taken from six sites (Sites 11-01 to 11-06) in different types of substrate (Fig. 1). The second visit to the island was on February 16, 2012. Samples from 11 sites (Sites 12-01 to 12-11) were collected. Six of them were located along two footpaths that cross the island. The results from the second visit expanded the list of known Collembola species on the island. A third study employing stratified sampling was designed to include all types of substrates found on the island. Thirty-nine sites were sampled (Sites 13-01 to 13-39) during February 2013, including nine samples from the footpaths. At each site, additional soil samples with about | to 1.5 kg were collected for physical, chemical, and microbiological analyses. These samples were packaged in plastic freezer bags, double labeled, and stored at 4 \\xc2\\xb0C until processing in the laboratory. A brief description of the surrounding environment, including identification of nearby plant communities was also recorded (Online Resource 1). A total of eight types of substrate were sampled along the three campaigns (Online Resource 2), in an effort to reflect the maximum diversity of environments on the island. A cylinder of 500 cm? was used to sample the top 8 cm of soil to capture the edaphic fauna. If present, surface vegetation was included in the sample. Where possible, the extracted material was replaced with soil and small pebbles from the nearby area to avoid creating permanent visual alteration. The samples were packaged in 1-L plastic freezer bags, double labeled, and stored at 4 \\xc2\\xb0C until extraction in the laboratory. For each sample, geographical coordinates, approximate elevation above sea level and slope range were noted. The first two were obtained with a GPS Garmin eTrex Vista HCx, and the slope was measured in grades with a clinometer Suunto PM-5/360. Collembola were obtained by Tullgren extraction of the samples, carried out within 2\\xe2\\x80\\x943 days after collection. g) Springer Animals collected were preserved in 99% ethanol before being sorted under a dissecting microscope. Specimens were cleared in lactic acid over a 1-week period, although this lapse was prolonged slightly for those individuals with dark pigmentation. Collembola were mounted on slides using Hoyer\\xe2\\x80\\x99s solution and identified to species level under a phase contrast microscope. Antarctic species were identified following Salmon (1962, 1974a, b), Wise (1967, 1970a, b, 1971), Weiner (1980), Deharveng (1981), Lubbock (1876), Convey et al. (1999), and Greenslade (1995, 2006, 2010). The cosmopolitan species Hypogastrura viatica (Tullberg, 1872) and Mesaphorura macrochaeta Rusek, 1976 were classified according to Jordana et al. (1997), Jordana and Arbea (1989), Potapov (2001), and Greenslade et al. (2014) Physical\\xe2\\x80\\x94chemical and microbiological variables Soil samples were sieved (< 2 mm) and all debris and plant remains were removed before analysis in the laboratory. Electrical conductivity and pH were measured in a 1/5 w/v aqueous solution using a pH-meter (Navi Horiba model). Total organic carbon was determined by wet oxidation with K,CrO- and titration of dichromate excess with Mohr\\xe2\\x80\\x99s salt (Yeomans and Bremner 1988) while the organic matter was inferred by multiplying the total organic carbon content by 1.728 (Lucas-Borja et al. 2010). Total carbonates were measured by evaluation of the HCl excess with NaOH according to the method proposed by Baena et al. (2013). Total nitrogen was determined using Kjeldahl\\xe2\\x80\\x99s method modified by Bremner (1965). The total phosphorus content was determined by the method of Olsen et al. (1954). Soil moisture was determined using the gravimetric method, drying the sample at about 115 \\xc2\\xb0C during 24 h and measuring the mass difference before and after drying (Baena et al. 2013). The microbial biomass carbon was determined following the method adapted by Garcia et al. (2003) from Vance et al. (1987). Urease activity was determined by staining the ammonium released into an incubation solution which was kept at 37 \\xc2\\xb0C for 2 h (Kandeler et al. 1999). Alkaline phosphatase and B-glucosidase activities were determined following the methods reported by Tabatabai (1982). Soil dehydrogenase activity was determined by measuring the reduction of p-iodonitrotetrazolium chloride (INT) to p-iodonitrotetrazolium formazan in 1 g of soil, a method reported by Hedo et al. (2015). Basal soil respiration was analyzed by moistening 15 g of soil to 50-60% of its waterholding capacity (water potential: 0.055 Mpa), then letting it incubate in hermetically sealed flasks for 20 days at 28 \\xc2\\xb0C. The CO, released was periodically measured (every day for the first 4 days after this, weekly) using an infrared gas analyzer (Toray PG-100, Toray Engineering Co. Ltd., Japan). The data were summed to give a cumulative amount of CO, released after 20 days of incubation. For each variable, two g) Springer Polar Biology replicates were analyzed for each sample site. The average of the values from the replicates was used in the statistical analyses. Statistical analyses Collembolan presence per sample data were transformed to abundance per surface area (individuals/m7) in order to facilitate comparisons with previous studies. Mean and standard error of mean were used to summarize a number of results (Table 1). All species data and most environmental data were log-transformed to obtain normalized and smooth distributions. Relationships between species abundance, Collembola population abundance, species richness, and environmental variables were analyzed using Spearman\\xe2\\x80\\x99s rank correlations. Kruskal\\xe2\\x80\\x94Wallis test was applied for comparisons of collembolan species richness and abundance between the different substrate types. A Canonical Correspondence Analysis was performed in R with the \\xe2\\x80\\x9cVegan\\xe2\\x80\\x9d package to assess the variability of springtail communities with respect to environmental variables. Significance level for null hypothesis rejection was established at 0.05 for all tests. The software used for the statistical analysis were IBM\\xc2\\xa9 SPSS\\xc2\\xa9 Statistics 21 (SPSS, Inc.) and R software (R Core Team 2017). Results Fauna survey A total of ten Collembola species and 8570 specimens were recorded (Online Resource 2). They were sampled at 56 sites during three field campaigns. Eight species are native in Antarctica, Friesea bispinosa Deharveng, 1981, Friesea grisea (Schaffer, 1891), Friesea woyciechowskii Weiner, 1980, Tullbergia mixta Wahlgren, 1906, Archisotoma brucei (Carpenter, 1907), Cryptopygus antarcticus antarcticus Willem, 1901, Cryptopygus badasa Greenslade, 1995, and Folsomotoma octooculata (Willem, 1901). Two species are non-indigenous in Antarctica, Hypogastrura viatica and Mesaphorura macrochaeta (Online Resource 3). All species have already been recorded in Antarctica (Deharveng 1981; Greenslade et al. 2012). The collembolan total richness for Barrientos has been changing along the 3 years of the study. During the 2011 campaign, six sites and four of the eight substrate types of the island were sampled, obtaining six species (Online Resource 2). In 2012 campaign the number of sampling sites (11) and substrate types (four, but being 3 new) increased, obtaining eight species, with two new records F. grisea and A. brucei (Online Resource 2). Finally, in 2013 campaign, 39 samples were obtained in six substrate types (1 new), Polar Biology cl 81 sojdures JO N Cl + 62 C78S+TEIL LOCI + PLOT Li +8 voy + CL9 SIL + ELI 6bb + P6S C687 + \\xe2\\x82\\xac60b LELI + 9S07 CLET + O8E7 Co + BIZ LOT + POE 6 + OFT OSTI + POET 099 + 106 DID]NIOOJIO psppvq puojowosjog snskdojdkiy 8 ZLV6 F LOL\\'OT 6S + cL LET Iv \\xc2\\xa5 OLS\\'8h LOL + pZ6\\xe2\\x82\\xac T801 + 87ST bv + 601 PEV\\'8T F ESO\\'SS T98T + OLOE SNITNIADJUD SNITNIADJUD sndkdojdkuy DwojosiyoAy vIssaq]yN[, v\\xc3\\xa9ansoydvsapy C 691 + SLI Ot + 9\\xc2\\xa2 19 INA 6$ + cL OST + \\xe2\\x82\\xac0\\xe2\\x82\\xac 98\\xc2\\xa2 + \\xe2\\x82\\xacL8 80S + 669 6vI + 781 Ot + 9\\xc2\\xa2 cE8 + 6IOL OS + OS Cy + Cel OTT + v9 co + 601 68 + 601 DIXIU yDJIDYIOAIDUL 11ySMOYIAaIIKOM DASA J DaSids Vasals] soroeds uevyjodoursos C6 + COE LL + 601 8LT + 817 c6 + 601 psouidsiq 4 DINIDIA pasaiy vinsspsodky osuel oyensqns yyedjooy seas yueydeyo uzoyynos Aq posn MOTTE Auojoo umnsudg (syooururnty) suorysnd SSOUW Te], syeul pure sjodieo oydydoArg suorysno pure syn} Ssoul 04S yOoys e3[V soyoreq /ou0Z [epHscju] od} oyesqns UMOUS Ose ore add} aJeINSQNs YoRd UI popsOdal soydures JO Jaquunu oy} pue \\xe2\\x80\\x98yWosaid st satoads yoRa aIDyM sadA} ayejsqns jo Joquinu \\xe2\\x80\\x9col \\xe2\\x80\\x98esues soyensqns oy, \\xe2\\x80\\x98odA} oyesqns pue sorseds yowo 10F JoLe prepueys pue (Wi Jod s[enprAIpul Jo sioquinu) sotoods ejoquis[[oD Jo souvpunge ueo| | a/qeL pringer QD) \\xc2\\xa7 obtaining seven species, with a new record F. bispinosa (Online Resource 2). Distribution and basic notes on identified taxa ecology are provided in Online Resource 3. Basic environmental data for each substrate type and for the island as a whole are given in Online Resource 4. There are four species in the island occupied a wide range of substrates (> 6), hereafter represented in parenthesis by number of habitats with species presence/total of habitats analyze. These species are Cryptopygus antarcticus antarcticus (8/8), Folsomotoma octooculata (8/8), Cryptopygus badasa (7/8), and Friesea grisea (6/8) (Table 1). Tullbergia mixta (5/8) and Hypogastrura viatica (5/8) form a second group occupied five substrates types. Species with a narrow range of substrates (< 2) would be considered less common at the island. This group is formed by Archisotoma brucei, Friesea bispinosa, Friesea woyciechowskii, and Mesaphorura macrochaeta. Hypogastrura viatica was the only species of the family Hypogastruridae, always presenting low densities barely reaching 300 individuals/m7. This species is not included in the study focused on the environmental requirements of the collembolan species since it was not recorded in 2013, the campaign in which soil samples were taken for this purpose. The same happens with F. woyciechowskii and M. macrochaeta, which are discussed later. Belonging to the family Neanuridae, three species were recorded in Barrientos: Friesea bispinosa, F. grisea, and F. woyciechowskii. The first one was present only in a footpath with very low mean density (seven individuals/m\\xe2\\x80\\x9d), not being correlated with any environmental studied variable. Friesea grisea can be considered as eurytopic since it was recorded in a high number of different substrates. However, it had low mean densities, except for wallows where above 1000 individuals/m\\xe2\\x80\\x9d were recorded (Table 1). A negative correlation is observed between microbial biomass C and Fgrisea abundance (Spearman rank correlation, rs = \\xe2\\x80\\x94 0.411, n = 39, p = 0.009), hence it was not abundant in those areas that were more favorable for microorganisms. The abundance of this species correlated positively with slope (Spearman rank correlation, rs = 0.382, n = 39, p = 0.017). Finally, F. woyciechowskii only was found in bryophyte carpets and mats with low mean density (164 individuals/m7). The family Tullbergiidae was represented by Mesaphorura macrochaeta, present only in a wallow with low mean density (36 individuals/m7), and Tullbergia mixta, which appeared in five substrates but with limited mean density (< 873 individuals/m7). The abundance of the later species was positively correlated with the amount of carbonates (Spearman rank correlation, rs = 0.414, n = 34, p = 0.015). The other four recorded species belong to the family Isotomidae. Archisotoma brucei only was found in two samples, one from a footpath and other from a wallow (Table 1). g) Springer Polar Biology Its abundance was not correlated with any environmental studied variable. Cryptopygus antarcticus antarcticus was found in all eight types of sampled substrates, indicating eurytopicity. This species presents the highest densities in the island, with means above 48,000 individuals/m7 (Table 1) in areas occupied by the algae Prasiola crispa and penguin colonies. The least favorable substrates for C. a. antarcticus on Barrientos Island were wallows and areas covered by short moss turf and cushions, with very low densities, under 120 individuals/m7. Electrical conductivity had a negative correlation with the abundance of C. a. antarcticus (Spearman rank correlation, rs = \\xe2\\x80\\x94 0.434, n = 34, p = 0.010), as well as microbial biomass C (Spearman rank correlation, rs = \\xe2\\x80\\x94 0.395, n = 39, p = 0.013). Its abundance is positively correlated with slope (Spearman rank correlation, rs = 0.348, n = 39, p = 0.030). Cryptopygus badasa also appeared in a high variety of substrates, with the exception of footpaths. The abundance of this species correlated positively with slope (Spearman rank correlation, rs = 0.343, n = 39, p = 0.033). The last species from this family is Folsomotoma octooculata. It was also present in all substrates, with high abundances in wallows and in areas with bryophyte carpets and mats, although without reaching the densities of C. a. antarcticus. Elevation was positively correlated with the abundance of F: octooculata (Spearman rank correlation, rs = 0.350, n = 39, p = 0.029), as well as slope (Spearman rank correlation, rs = 0.467, n = 39, p = 0.003). However, pH correlates negatively with the abundance of this species (Spearman rank correlation, rs = \\xe2\\x80\\x94 0.414, n = 39, p = 0.009). Variation of Collembolan species richness and abundance with substrate type and environmental variables Median species richness for Collembola was higher in areas occupied by alga sheets, bryophyte carpets and mats, and short moss turf and cushions (Fig. 2). By contrast, median species richness was usually low in samples taken from penguin colonies, wallow used by southern elephant seals and footpaths. In fact, there are significant differences between species richness and substrate type (Kruskal\\xe2\\x80\\x94Wallis test, H56 = 16.540, p = 0.021). The total number of recorded species in each substrate ranged between four and seven, with penguin colonies and intertidal zone/beaches being the least favorable substrate types for collembolan richness (Table 1). Within the recorded environmental variables, only elevation (Spearman rank correlation, rs = 0.403, n = 39, p = 0.011) and slope (Spearman rank correlation, rs = 0.645, n = 39, p = 0.000) were positively correlated with the collembolan species richness. However, the microbial biomass C appeared to adversely affect the collembolan species Polar Biology   6 5 \\xe2\\x80\\x9c \\xe2\\x80\\x9c c < 4 oO = \\xe2\\x80\\x9c @ \\xc2\\xb0 oO 2 Ww 2 1 0 ov Oo \\xc2\\xa9 6 cS a 5 s 5 cS Cc Qe 4 i oo B+ Ss aD 3 oo o\\xc2\\xa9 SS 2 \\xc2\\xb0o 2 \\xc2\\xa3 a 1 \\xc2\\xa9 \\xc2\\xa9 0 \\xe2\\x80\\x9c) \\xe2\\x80\\x9c\\xe2\\x80\\x9d \\xe2\\x80\\x9d ~~ => \\xe2\\x80\\x9d ior \\xc2\\xbb 3 5 8 g E 5 = Oo s 2 = o = v a. G \\xe2\\x80\\x99 o s 2 3 He 3 2 S 3 5 E c 5 e \\xc2\\xae < 3 v 2 D 5 o o 2 = 5 2 IN & \\xe2\\x80\\x9d m D _ 2 \\xe2\\x80\\x9c S a < 5 3 \\xc2\\xbb 7 $s = 2 \\xe2\\x80\\x99 = 3 3 = \\xc2\\xb0 2. \\xe2\\x80\\x9d~ 7 e 2g % Ad 5 o E x hes = $ WY 2 % > 2 oo S Substrate type Fig. 2 Boxplot of species richness and collembolan population abundance (log-transformed numbers of individuals per m\\xe2\\x80\\x9d) by substrate type. Median (bold line), interquartile range (box), highest and low richness (Spearman rank correlation, rs = \\xe2\\x80\\x94 0.399, n = 39, p = 0.012). Regarding the total abundance of collembolan, higher densities were found in areas occupied by P. crispa, bryophyte carpets and mats and, to a lesser extent, tall moss est values which are no greater than 1.5 times the interquartile range (whiskers), outliers (circles), and extreme values (stars) are shown cushions (hummocks), and short moss turf and cushions (Fig. 2). At these locations, the presence of large amounts of C. a. antarcticus in certain samples was responsible for these high mean abundances. However, there are not significant differences between collembolan abundance g) Springer and substrate type (Kruskal\\xe2\\x80\\x94Wallis test, H56 = 6.744, p = 0.456). Only two environmental variables were correlated with the collembolan abundance, slope positively (Spearman rank correlation, rs = 0.543, n = 39, p = 0.000), and microbial biomass C negatively (Spearman rank correlation, rs = \\xe2\\x80\\x94 0.365, n = 39, p = 0.022). In order to strengthen the previous analysis, a Canonical Correspondence Analysis was performed. It shows that basically three environmental variables explain the collembolan distribution in the island: elevation, slope, and phosphorous content (p = 0.014), although only one variable, elevation, was significant at 95% (p = 0.032), meanwhile the phosphorous content was significant at 90% (p = 0.095). The ordination diagram (Online Resource 5) shows that C. badasa is likely to be found in substrates with a medium to high content of phosphorous, such as penguin colonies and some vegetated habitats. Folsomotoma octooculata and F. bispinosa are favored by elevation, since they were recorded mainly in sample sites away from the seashore. The other four species included in this test (C. a. antarcticus, T. mixta, M. macrochaeta, and F. grisea) do not show a clear trend and therefore occupy the center of the ordination diagram. Discussion Barrientos Island\\xe2\\x80\\x99s species census This is the first census of Collembola species on Barrientos Island, with a total of ten species recorded during three field campaigns. All species found in this study coincided with the \\xe2\\x80\\x9cbasic species set\\xe2\\x80\\x9d proposed by Russell et al. (2014) for the maritime Antarctica region, which includes the following: C. a. antarcticus, C. badasa, Friesea grisea, F. woyciechowskii, Folsomotoma octooculata, and Tullbergia mixta. In addition, four other species\\xe2\\x80\\x94Friesea bispinosa, Archisotoma brucei, Hypogastrura viatica, and Mesaphorura macrochaeta\\xe2\\x80\\x94were identified, but these are also habitually present in this region. The most abundant species was Cryptopygus antarcticus antarcticus (Online Resource 2). The species census has increased in this study with each campaign, showing the importance of sampling at different times and, maybe even more important, in different environments. More species are likely to be identified following a higher sampling effort. Accordingly, recent monitoring activities in maritime Antarctica and the northern Antarctic Peninsula have revealed a higher abundance and distribution of non-indigenous species than was previously known (Greenslade et al. 2012; Russell et al. 2014). g) Springer Polar Biology Recorded non-indigenous species Two cosmopolitan species\\xe2\\x80\\x94Hypogastrura viatica and Mesaphorura macrochaeta\\xe2\\x80\\x94were found during two different field campaigns (Online Resource 2), expanding existing knowledge of non-indigenous species in maritime Antarctica (Hughes et al. 2015), and suggesting that biosecurity practices employed to date may not be completely adequate. The first species, H. viatica, is widely distributed in the maritime Antarctic (Frenot et al. 2005; Greenslade and Convey 2012; Hughes et al. 2015). Its expansion throughout this region is favored because it is osmoconformity at higher external values of salt, being able to hyper-regulate the osmotic and 1onic concentration of the hemolymph acclimated for at least 7 days (Witteveen et al. 1987). Its presence could affect the native Collembola, since this species seems to be able to outcompete C. a. antarcticus on coastal sites on South Georgia (Convey et al. 1999). On Barrientos Island, H. viatica was recorded in five types of substrates (from a total of eight), while M. macrochaeta was only present in one (Table 1). The presence of H. viatica could be a consequence of human activity on the island, since it was recorded in the vicinity of footpaths and on beaches visited by tourists. The presence of M. macrochaeta may be associated with the presence of birds or marine mammals that have acted as dispersion vectors (Panagis 1985; Lebedeva and Krivolutsky 2003; Krivolutsky et al. 2004). However, neither hypothesis can be tested with our data. The absence of cosmopolitan species in the samples collected in 2013 could be explained by sampling issues and highly patchy distribution of collembolans (Hertzberg et al. 1994; Ims et al. 2004). In the case of Antarctic Collembola, it is common to find large differences in species richness and abundance from one sample site to another (Tilbrook 1967b) and, therefore, this result is logical and plausible. Collembola is the dominant non-indigenous taxon that has been introduced into different environments within the Antarctic Peninsula and Scotia Arc (Hughes et al. 2015), and it established becoming invasive on sub-Antarctic islands (Frenot et al. 2005). Introductions of non-indigenous fauna could trigger alterations of native terrestrial fauna, owing to isolation, high levels of endemism, and a general lack of inter-species competition (Chown and Convey 2007; Convey 2008). The first non-indigenous invertebrate to be reported in the South Shetland Islands in 1949 was the collembolan H. viatica found on Deception Island (Hack 1949). This species was recorded even before, in 1901, on sub-Antarctic Macquarie Island (Carpenter 1909). These findings suggest that the introduction and at least transient establishment of non-indigenous species are likely to have been occurring for as long as humans have been inhabiting suitable Antarctic locations, and possibly since the early nineteenth century when sealers first visited the northern Antarctic Peninsula Polar Biology and South Shetland Islands (Dibbern 2010). The species M. macrochaeta was reported for the first ttme on Macquarie Island in 2008 (Greenslade 2010). It was probably originally introduced to the Southern Hemisphere and northern sites by human intervention in importations of soil, plants, and mosses (Greenslade 1987, 2006). All locations colonized by non-indigenous springtails within Antarctica are subject to high levels of national operator and tourist activity, as is in the case of Barrientos Island (International Association of Antarctica Tour Operators 2015). Tourist visits are concentrated mainly during a 5-month period, from November to March. Visits ashore are generally of short duration and moderate intensity, in groups of fewer than 100 people. Ships that usually anchor at this location carry 200 or fewer passengers and only one ship can disembark passengers at a time, with a maximum of two ships per day. With the exception of closed areas, visitors can roam freely under supervision (Antarctic Treaty Secretariat 2015). Researchers also visit the island along the austral summer season, although in a much smaller number that varies according to the needs of the research projects developed each year. The risk of bioinvasions between different remote Antarctic locations may be increasing due to the continuous movement of scientists and tourists, facilitating undesirable and unintended translocations. In this context, there is a real possibility of spreading collembolan species around Barrientos Island through the movement of visitors. However, this hypothesis needs to be tested. To reduce the impact of non-indigenous species within the Antarctic Treaty area, the measures proposed by Hughes et al. (2015) need to be applied. These include better education of all Antarctic visitors, biosecurity practices in all Antarctic operations, monitoring of high activity sites for non-indigenous introductions, development of contingency plans, including eradication protocols, and inclusion of information on how to respond to a non-indigenous species introduction within protected area management plans. Influence of environmental conditions on Collembolan species We already commented that Collembola presence depends on different environmental factors, mainly soil moisture, organic matter, and vegetation cover (Tilbrook 1967a; Hop kin 1997; Adams et al. 2006; Sinclair et al. 2006; Day et al. 2009; Russell et al. 2014). However, our findings do not point to the two first variables as key factors for the distribution and abundance of Barrientos\\xe2\\x80\\x99 Collembola. This could be because soil moisture is not usually a problem on this island because there is abundant rainfall in liquid form throughout the austral summer. In addition, the small size of the island facilitates the influence of moisture-laden sea breezes, as a result soils here rarely suffer water stress. Soil organic matter neither is a limiting factor for Collembola at this site owing to its high concentrations in the study sites, especially in vegetated areas (Online Resource 4). The third environmental variable, vegetation cover, cannot be considered as a limitation problem in an island that precisely stands out because of its high coverage of vegetation communities. However, other environmental variables, such as elevation or phosphorous content, are important for Collembola on this site. Regarding elevation, a certain altitude in Barrientos means a greater abundance of vegetation, because of the island there is a greater availability of habitats far from the coast, since the shoreline is vegetation-free except for some algae. This trend is not common on other larger Antarctic islands where glaciers immediately appear as one moves inland, and favorable environments for Collembola disappear rapidly. In the case of phosphorous, a higher concentration of this nutrient can also contributes to a greater food availability for Collembola, mainly algae. On Barrientos Island, environments dominated by the algae Prasiola crispa, which usually is present close to nutrient-rich areas such as penguin colonies, appeared to favor Collembola owing to these sites have a highest species richness and density. Cryptopygus antarcticus antarcticus has a marked preference for this algae, although it feeds on a wide variety of food, being able to take advantage of different nutrients present in algae, mosses, and lichens, but also filamentous fungi (Broady 1979) and dead organic material (Bokhorst et al. 2007). Behind its predilection for P. crispa is the greater nitrogen concentration present in this algae regarding lichens. Although this nutrient is present in mosses in similar concentrations, they contain inhibitory and refractory compounds which are difficult for soil arthropods to digest. Therefore, mosses are less consumed by C. a. antarcticus when both types of food, algae and mosses, are present in the environment (Davidson and Broady 1996). This explains the high presence of this species in alga sheet (Online Resource 2). This species plays an essential role in the nutrient flow of the environments in the maritime Antarctica which are dominated by algae and mosses (Bokhorst et al. 2007). Cryptopygus antarcticus antarcticus Was very common in our samples, being alga sheet and bryophyte carpets and mats the substrates with higher average species richness. Data suggest that other non-recorded environmental variables could be important for certain species. For example, Cryptopygus badasa, the other species of the genus Cryptopygus present on the island, appeared in most of the sampled substrate types with the exception of footpaths. This may be because it does not tolerate excess surface temperature (Russell et al. 2014) as is in the case of exposed bare soil in footpaths. Although this variable was not recorded during sampling, the observed abundance pattern supports this possibility. g) Springer In addition to the environmental factors, other variables must be taken into account when interpreting the abundance results obtained for each habitat. This is the case of the trophic strategy of the Collembola. The genus Friesea is a perfect example of this question, since species belonging to it are usually predators. On Barrientos Island, the species with the largest representation for this genus was F. grisea. Its maximum presence (3056 specimens/ m7\\xe2\\x80\\x9d) was detected in a sample from a wallow. Wallows used by southern elephant seals are terrestrial nutrient enrichment areas through deposits of feces, urine, and molted skin from them (Panagis 1985). Nematodes are strongly related to soil organic matter since many of them are detritivores (Yergeau et al. 2007). Hence, the probability of finding nematodes in wallows is high. In fact, the presence of these invertebrates was observed when wallows\\xe2\\x80\\x99 samples were processed (unpublished data). Therefore, it is not surprising that F. grisea abundance was elevated in this site. This species was present in almost all types of substrates, although with low densities for substrates other than wallows. This indicates that F. grisea was widely distributed on Barrientos Island, although with low densities typical for a predator. Friesea bispinosa and F. woyciechowskii, the other two species of this genus, were less abundant than F. grisea, only 109 and 327 individuals/m\\xe2\\x80\\x99, respectively, were recorded during three field campaigns. Therefore their relative importance in the community of Collembola on this island is much lower. Morphological issues also may be considered to explain the collembolan distribution. Folsomotoma octooculata is an epedaphic species that has a longer furca than other species recorded in this study, allowing it to have greater ability to colonize less accessible areas, including steeper areas, hence elevation and slope favor this species. Therefore, it is not surprising that this species is present in all the habitats analyzed on the island. Even taking into account all the issues raised above, we must emphasize that we have tried to be cautious with the interpretation of the results concerning the distribution of springtails in the different environments of the island. The reason is that a stratified sampling was used, with sampling efforts that varied according to the type of substrate and their representativeness and importance on Barrientos Island. Besides, samples for the environmental study were only recorded in 2013 campaign, resulting in a slated representation of substrate types (6/8) and species (7/10). Therefore, results should be compared with caution since they are not based on a similar sampling effort. Besides, Collembola have a natural tendency for aggregation and patchy distribution (Ims et al. 2004), as well as population fluctuations from year to year (Pollierer and Scheu 2017). All this makes difficult to identify trends in their distribution, discouraging the assumption of strict axioms regarding this issue. g) Springer Polar Biology Finally, our study has also generated unexpected results regarding the limitations on the presence of certain species because of environmental conditions. Archisotoma brucei is usually classified as strictly marine-littoral species, like all species in this genus, although individuals have been recorded in large numbers in traps set supralittorally on Heard Island and in Tasmania presumably blown in sea spray (Greenslade 2010). In Barrientos, it was recorded in 2012 on a footpath about 100 meters away from the shoreline. While this is an unusual location for the species, other studies have also found specimens of A. brucei at some distance from the shore. For example, Gressitt (1967) collected one specimen from rocks on a raised terrace immediately around a chinstrap penguin nest. Tilbrook (1967b) cited some specimens on an ash plane near shore, but not on the beach. More recently, Russell et al. (2014) found specimens on Devil Island in soil substrates. Accordingly, it is possible that this species will be able to colonize areas at some distance from the shoreline if soil texture and other environmental factors are suitable, not being so restricted to the shoreline as was thought (Greenslade and van Klinken 1994). Future studies may be developed to test this hypothesis. Conclusions The present study increases the knowledge on the distribution of Antarctic Collembola, generating the first list of species for Barrientos Island, a location that has not been subject to a systematic census until now despite being a traditional tourist destination in the South Shetland Islands. Although all recorded species had already been cited in Antarctica, two non-indigenous species were found\\xe2\\x80\\x94Hypogastrura viatica and Mesaphorura macrochaeta\\xe2\\x80\\x94expanding the list of Antarctic sites in which exotic collembolans have been located. In spite of these presences, the local Collembola community seems to be relatively healthy in view of the obtained results, with a high richness (ten species) for Antarctic standards. The environmental information obtained was limited and did not allow going deeper in the patterns that govern the distribution of the springtails in the island. Nevertheless, certain environmental variables have increased the list of factors that may be important for these organisms, such as elevation, phosphorous content, or slope. These factors are probably directly related to the number of available habitats for Collembola. This confirms the importance of sampling in different environments, and at different times if possible, in order to obtain a more complete species census when you work in Antarctic sites. Acknowledgements Logistical support for this work was provided by the Ecuadorian and the Spanish National Antarctic Programs, and the Spanish Navy. Fieldwork and analysis for this paper were developed Polar Biology under three projects: EVA-ANTARCTICA (CTM2009-06604-E) and ALIENANT (CTM2013-47381-P), which were supported by the Spanish Government, and Proposal for Tourism Management of Barrientos Island and Surroundings (2011-2013), funded by the Ecuadorian Government. The authors would like to thank Jos\\xc3\\xa9 Olmedo Moran, Executive Director of the Ecuadorian National Antarctic Program, for his advice and support for this work; Daniela Cajiao for her help in the fieldwork during the 2012 and 2013 campaigns; Dr. Luis R. Pertierra for his collaboration in the 2012 campaign; Laura Mufioz for her help in the identification of mosses; Dr. Manuela Andr\\xc3\\xa9s-Abellan and Consuelo Wic for the analysis of soil samples in the laboratories of the Universidad de Castilla-La Mancha; and Dr.Tina Tin for her constructive and helpful comments during the editing process. We also would like to thank the anonymous reviewers and the Editor for their helpful comments, which have improved this work. Compliance with ethical standards Conflict of interest The authors declare that they have no conflict of interest. References Adams B, Bardgett RD, Ayres E, Wall DH, Aislabie J, Bamforth S, Bargagli R, Cary C, Cavacini P, Connell L, Convey P, Fell J, Frati F, Hogg I, Newsham N, O\\xe2\\x80\\x99 Donnell A, Russell N, Seppelt R, Stevens MI (2006) Diversity and distribution of Victoria Land biota. Soil Biol Biochem 38:3003\\xe2\\x80\\x943018. https://doi.org/10.1016/j. soilbio.2006.04.030 Antarctic Treaty Secretariat (2015) Site Guidelines for Visitors. Barrientos Island. http://www.ats.aq/e/ats_other_siteguidelines.htm. Accessed 10 Feb 2015 Baena CW, Andr\\xc3\\xa9s-Abellan M, Lucas-Borja ME, Martinez-Garcia E, Garcia-Morote FA, Rubio E, L\\xc3\\xa9pez-Serrano FR (2013) Thinning and recovery effects on soil properties in two sites of a Mediterranean forest, in Cuenca Mountain (South-eastern of Spain). For Ecol Manage 308:223-230. https://doi.org/10.1016/j. foreco.2013.06.065 Bastida F, Kandeler E, Moreno JL, Ros M, Garcia C, Hernandez T (2008) Application of fresh and composted organic wastes modifies structure, size and activity of soil microbial community under semiarid climate. App! Soil Ecol 40:318\\xe2\\x80\\x94329. https://doi. org/10.1016/j.apsoil.2008.05.007 Bokhorst S, Ronfort C, Huiskes A, Convey P, Aerts R (2007) Food choice of Antarctic soil arthropods clarified by stable isotope signatures. Polar Biol 30:983-990. https://doi.org/10.1007/ s00300-007-0256-4 Bremner JM (1965) Nitrogen availability indexes. In: Black CA et al (eds) Methods of Soil Analysis, Part 2 Agronomy 9. American Society of Agronomy, Madison, pp 1324-1345 Broady PA (1979) Feeding studies on the Collembolan Cryptopygus antarcticus Willem at Signy Island, South Orkney Islands. Br Antarct Surv Bull 48:37-46 Carpenter GH (1909) On some subantarctic Collembola. Article XVII. In: Chilton C (ed) The subantarctic islands of New Zealand. Philosophical Institute of Canterbury, Christchurch, pp 377-383 Carpenter GH, Evans W (1906) Scottish National Antarctic Expedition. \\xe2\\x80\\x9cScotia\\xe2\\x80\\x9d collections. Collembola from the South Orkney Islands. P Roy Soc Edinb 26:473-483. https://doi.org/10.1017/ S0370164600024718 Chown SL, Convey P (2007) Spatial and temporal variability across life\\xe2\\x80\\x99s hierarchies in the terrestrial Antarctic. Phil Trans Roy Soc ser B 362:2307\\xe2\\x80\\x942331. https://doi.org/10.1098/rstb.2006.1949 Convey P (2008) Non-native species in Antarctic terrestrial and freshwater environments: presence, sources, impacts and predictions. In: Rogan-Finnemore M (ed) Non-native species in the Antarctic, proceedings. Gateway Antarctica, Christchurch, pp 97-130 Convey P, Greenslade P, Arnold RJ, Block W (1999) Collembola of sub-Antarctic South Georgia. Polar Biol 22:1-6. https://doi. org/10.1007/s003000050383 Convey P, Greenslade P, Pugh PJA (2000) The terrestrial microarthropod fauna of the South Sandwich Islands. J Nat Hist 34:597-609. https://doi.org/10.1080/002229300299462 Davidson MM, Broady PA (1996) Analysis of gut contents of Gomphiocephalus hodgsoni carpenter (Collembola: Hypogastruridae) at Cape Geology, Antarctica. Polar Biol 16:463\\xe2\\x80\\x94467. https://doi.org/10.1007/BF02329064 Day TA, Ruhland CT, Strauss SL, Park JH, Krieg ML, Krna MA, Bryant DM (2009) Response of plants and the dominant microarthropod, Cryptopygus antarcticus, to warming and contrasting precipitation regimes in Antarctic tundra. Glob Chang Biol 15:1640-1651. https://doi. org/10.1111/j.1365-2486.2009.01919.x Deharveng L (1981) Collemboles des Iles Subantarctiques de 1\\xc2\\xb0Oc\\xc3\\xa9an Indien mission J. Trav\\xc3\\xa9 1972-1973. Comit\\xc3\\xa9 National Francais des Recherches Antartiques 48:33-108 Dibbern JS (2010) Fur seals, whales and tourists: a commercial history of Deception Island, Antarctica. Polar Rec 46:210\\xe2\\x80\\x94221. https:// doi.org/10.1017/S003224740900865 1 Frenot Y, Chown SL, Whinam J, Selkirk PM, Convey P, Skotnicki M, Bergstrom DM (2005) Biological invasions in the Antarctic: extent, impacts and implications. Biol Rev 80:45\\xe2\\x80\\x9472. https://doi. org/10.1017/S 1464793 104006542 Garcia C, Gil F, Hernandez T, Trasar C (2003) T\\xc3\\xa9cnicas de analisis de parametros bioquimicos en suelos: Medida de actividades enzimaticas y biomasa microbiana. CEBAS-CSIC, Murcia Greenslade P (1987) Invertebrate conservation in the Antarctic and subantarctic. In: Major JD (ed) The Role of Invertebrates in Conservation and Biological Survey. Western Australian Department of Conservation and Land Management Report, Kensington, pp 119-121 Greenslade P (1995) Collembola from the Scotia Arc and Antarctic Peninsula including descriptions of two new species and notes on biogeography. Pol Pismo Entomol 64:305-\\xe2\\x80\\x94319 Greenslade P (2006) The Invertebrates of Macquarie Island. Australian Antarctic Division, Department of Environment and Heritage, Kingston Greenslade P (2010) Collembola fauna of the South Shetland Islands revisited. Antarct Sci 22:233-242. https://doi.org/10.1017/ S095410200999071X Greenslade P, Convey P (2012) Exotic Collembola on subantarctic islands: pathways, origins and biology. Biol Invasions 14:405-\\xe2\\x80\\x94 417. https://doi.org/10.1007/s10530-01 1-0086-8 Greenslade P, van Klinken RD (1994) Marine littoral and coastal Collembola on the subantarctic Macquarie Island. Acta Zool Fenn 195:58-61 Greenslade P, Wise KAJ (1984) Additions to the collembolan fauna of the Antarctic. Trans R Soc South Aust 108:203\\xe2\\x80\\x94205 Greenslade P, Potapov M, Russell D, Convey P (2012) Global Collembola on Deception Island. J Insect Sci 12:1\\xe2\\x80\\x9416. https://doi. org/10.1673/031.012.11101 Greenslade P, Ireson J, Skarzyriski D (2014) Biology and key to the Australian species of Hypogastrura and Ceratophysella (Collembola: Hypogastruridae). Austral Entomol 53:53-\\xe2\\x80\\x9474. https://doi. org/10.1111/aen.12048 Gressitt JL (1967) Notes on arthropod populations in the Antarctic Peninsula -South Shetland Islands- South Orkney Islands area. Antarct Res Ser 10:373-391. https://doi.org/10.1029/ARO10p0373 g) Springer Hack WH (1949) Nota sobre un Col\\xc3\\xa9mbolo de la Antartida Argentina Achorutes viaticus Tullberg. Notas del Museo de la Plata 14:211-212 Hedo J, Lucas-Borja ME, Wic C, Andr\\xc3\\xa9s-Abellan M, De Las Heras J (2015) Soil microbiological properties and enzymatic activities of long-term post-fire recovery in dry and semiarid Aleppo pine (Pinus halepensis M.) forest stands. Solid Earth 6:243-252. https://doi.org/10.5194/se-6-243-2015 Hertzberg K, Leinaas HP, Ims RA (1994) Patterns of abundance and demography: Collembola in a habitat patch gradient. Ecography 17:349-359. https://doi.org/10.1111/j.1600-0587.1994. tb00112.x Hogg ID, Cary SC, Convey P, Newsham K, O\\xe2\\x80\\x99Donnell T, Adams BJ, Aislabie J, Frati FF, Stevens MI, Wall DH (2006) Biotic interactions in Antarctic terrestrial ecosystems: are they a factor? Soil Biol Biochem 38:3035-\\xe2\\x80\\x943040. https://doi.org/10.1016/j. soilbio.2006.04.026 Hopkin SP (1997) Biology of the Springtails (Insecta: Collembola). Oxford University Press, Oxford Hughes KA, Pertierra LR, Molina-Montenegro MA, Convey P (2015) Biological invasions in terrestrial Antarctica: what is the current status and can we respond? Biodivers Conserv 24:1031-\\xe2\\x80\\x94 1055. https://doi.org/10.1007/s 1053 1-015-0896-6 Ims RA, Leinaas HP, Coulson S (2004) Spatial and temporal variation in patch occupancy and population density in a model system of an arctic Collembola species assemblage. Oikos 105:89-100. https://doi.org/10.1111/j.0030-1299.2004.12634.x International Association of Antarctica Tour Operators (2015) Tourism statistics. http://iaato.org/tourism-statistics. Accessed 5 Aug 2016 Jordana R, Arbea JI (1989) Clave de identificacion de los g\\xc3\\xa9neros de Col\\xc3\\xa9mbolos de Espafia (Insecta: Collembola). Publicaciones de biologia de la Universidad de Navarra. Serie Zool\\xc3\\xa9gica 19:1\\xe2\\x80\\x9432 Jordana R, Arbea JI, Simon C, Lucidfiez MJ (1997) Collembola, Poduromorpha. In: Ramos MA et al (eds) Fauna Ib\\xc3\\xa9rica. Museo Nacional de Ciencias Naturales. CSIC, Madrid Kandeler E, Stemmer M, Klimanek E (1999) Response of soil microbial biomass, urease and xylanase within particle size fractions to long-term soil management. Soil Biol Biochem 31:261-\\xe2\\x80\\x94273. https://doi.org/10.1016/S0038-0717(98)00115-1 Krivolutsky DA, Lebedeva NV, Gavrilo MV (2004) Soil microarthropods in the feathers of Antarctic birds. Dokl Biol Sci 397:342\\xe2\\x80\\x94 345. https://doi.org/10.1023/B:DOBS.0000039712.34478 .f6 Lebedeva NV, Krivolutsky DA (2003) Birds spread soil microarthropods to Arctic islands. Dokl Biol Sci 391:329-332. https://doi. org/10.1023/A:1025150500875 Lubbock J (1876) On a new genus and species of Collembola from Kerguelen Island. Ann Mag Nat Hist 18:324 Lucas-Borja ME, Bastida F, Nicolas C, Moreno JL, Del Cerro A, Andr\\xc3\\xa9s M (2010) Influence of forest cover and herbaceous vegetation on the microbiological and biochemical properties of soil under Mediterranean humid climate. Eur J Soil Biol 46:273-279. https://doi.org/10.1016/j.ejsobi.2010.05.003 Olsen SR, Cole CV, Watanabe FS, Dean LA (1954) Estimation of available phosphorus in soils by extraction with sodium bicarbonate. United States Department of Agriculture, Washington, DC Panagis K (1985) The influence of elephant seals on the terrestrial ecosystem at Marion Island. In: Siegfried WR, Condy PR, Laws RM (eds) Antarctic nutrient cycles and food web. Springer, Berlin, pp 173-179 Pollierer MM, Scheu S (2017) Driving factors and temporal fluctuation of Collembola communities and reproductive mode across forest types and regions. Ecol Evol 7:4390-4403. https://doi. org/10.1002/ece3.3035 g) Springer Polar Biology Potapov M (1991) Antarctophorus\\xe2\\x80\\x94a new genus of Isotomidae (Collembola) from Antarctica. Rev Ecol Biol Sol 28:491-495 Potapov M (2001) Synopses on Palaearctic Collembola: Isotomidae. Abhandlungen und Berichte des Naturkundemuseums GoGrlitz, Gorlitz R Core Team (2017) R: A language and environment for statistical computing. R Foundation for Statistical Computing, Vienna, Austria. http://www.R-project.org/. Accessed 2017 Russell DJ, Hohberg K, Potapov M, Bruckner A, Otte V, Christian A (2014) Native terrestrial invertebrate fauna from the northern Antarctic Peninsula: new records, state of current knowledge and ecological preferences\\xe2\\x80\\x94Summary of a German federal study. Soil Organ 86:1-58 Salmon JT (1949) The Collembola of the United States Antarctic Service Expedition, 1939-41. Proc Roy Entomol Soc Lond ser B 18:161-162. https://doi.org/10.1111/j.1365-3113.1949. tb01440.x Salmon JT (1962) A new species and redescriptions of Collembola from Antarctica. Pac Insects 4:887\\xe2\\x80\\x94-894 Salmon JT (1974a) Notes and drawings from type material of Collembola. Zool Publ Vic University Wellingt 66:1\\xe2\\x80\\x9441 Salmon JT (1974b) Concerning the Collembola Tullbergiinae. Zool Publ Vic University Wellingt 67:1\\xe2\\x80\\x9419 Sinclair BJ, Scott MB, Klok CJ, Terblanche JS, Marshall DJ, Reyers B, Chown SL (2006) Determinants of terrestrial arthropod community composition at Cape Hallett, Antarctica. Antarct Sci 18:303-312. https://doi.org/10.1017/S0954 102006000356 Tabatabai MA (1982) Soil enzymes. In: Page AL, Miller EM, Keeney DR (eds) Methods of soil analysis, Part 2. Chemical and microbiological properties. Soil Science Society of America, Inc., Madison, pp 903-947 Tejedo P, Benayas J, Cajiao D, Albertos B, Lara F, Pertierra LR, Andr\\xc3\\xa9s-Abellan M, Wic C, Luciafiez MJ, Enriquez N, Justel A, Reck GK (2016) Assessing environmental conditions of Antarctic footpaths to support management decisions. J Environ Manag 177:320-330. https://doi.org/10.1016/j.jenvman.2016.04.032 Tilbrook PJ (1967a) Arthropod ecology in the maritime Antarctic. Antarct Res Ser 10:331-356. https://doi.org/10.1029/ ARO10p0331 Tilbrook PJ (1967b) The terrestrial invertebrate fauna of the maritime Antarctic. Phil Trans Roy Soc Lond ser B 252:261-278 Vance ED, Brookes PC, Jenkinson DS (1987) An extraction method for measuring soil microbial biomass C. Soil Biol Biochem 19:703-707. https://doi.org/10.1016/0038-07 17(87)90052-6 Wahlgren E (1906) Antarktische und Subantarktische Collembolen gesammelt von der schwedischen Sudpolarexpedition. Wiss Ergeb Schwed Sudpolar Exped 9:1\\xe2\\x80\\x9422 Weiner WM (1980) Friesea woyciechowskii sp. n. (Collembola, Neanuridae) from King George Island (South Shetland Islands, Antarctica). Pol Pismo Entomol 50:491\\xe2\\x80\\x94495 Willem V (1901) Les Collemboles recueillis par 1\\xe2\\x80\\x9cExp\\xc3\\xa9dition antarctique belge. Annales de la Soci\\xc3\\xa9t\\xc3\\xa9 Entomologique de Belgique 45:260-262 Wise KAJ (1964) New records of Collembola and Acarina in Antarctica. Pac Insects 6:522\\xe2\\x80\\x94-523 Wise KAJ (1967) Collembola (Springtails). Antarct Res Ser 10:123147. https://doi.org/10.1029/AR010p0123 Wise KAJ (1970a) Collembola of South Georgia. Pac Insects Monogr 23:183-\\xe2\\x80\\x94208 Wise KAJ (1970b) Collembola of Heard Island. Pac Insects Monogr 23:209-215 Wise KAJ (1971) The Collembola of Antarctica. Pac Insects Monogr 25:57-74 Witteveen J, Verhoef HA, Letschert JPW (1987) Osmotic and ionic regulation in marine littoral Collembola. J Insect Physiol 33:5966. https://doi.org/10.1016/0022-1910(87)90105-3 Polar Biology Yeomans J, Bremner JM (1988) A rapid and precise method for routine determination of organic carbon in soil. Commun Soil Sci Plant Anal 19:1467-1476. https://doi. org/10.1080/00103628809368027 Yergeau E, Bokhorst S, Huiskes AH, Boschker HT, Aerts R, Kowalchuk GA (2007) Size and structure of bacterial, fungal and nematode communities along an Antarctic environmental gradient. FEMS Microbiol Ecol 59:436\\xe2\\x80\\x94451. https://doi. org/10.1111/).1574-6941.2006.00200.x g) Springer'"
      ]
     },
     "execution_count": 30,
     "metadata": {},
     "output_type": "execute_result"
    }
   ],
   "source": [
    "document"
   ]
  },
  {
   "cell_type": "code",
   "execution_count": null,
   "metadata": {},
   "outputs": [],
   "source": []
  },
  {
   "cell_type": "markdown",
   "metadata": {},
   "source": [
    "## Further Preprocessing"
   ]
  },
  {
   "cell_type": "code",
   "execution_count": 10,
   "metadata": {
    "ExecuteTime": {
     "end_time": "2021-01-18T21:00:14.104148Z",
     "start_time": "2021-01-18T21:00:13.941527Z"
    }
   },
   "outputs": [],
   "source": [
    "from bs4 import BeautifulSoup as bs"
   ]
  },
  {
   "cell_type": "markdown",
   "metadata": {},
   "source": [
    "Using Beautiful Soup to strip further unwanted characters from the document."
   ]
  },
  {
   "cell_type": "code",
   "execution_count": 11,
   "metadata": {
    "ExecuteTime": {
     "end_time": "2021-01-13T02:21:20.646967Z",
     "start_time": "2021-01-13T02:21:20.396817Z"
    }
   },
   "outputs": [],
   "source": [
    "soup = bs(document)"
   ]
  },
  {
   "cell_type": "code",
   "execution_count": 12,
   "metadata": {
    "ExecuteTime": {
     "end_time": "2021-01-13T02:21:20.652718Z",
     "start_time": "2021-01-13T02:21:20.649065Z"
    }
   },
   "outputs": [
    {
     "data": {
      "text/plain": [
       "\"Polar Biology https://doi.org/10.1007/s00300-017-2230-0 ORIGINAL PAPER @® CrossMark Collembola of Barrientos Island, Antarctica: first census and assessment of environmental factors determining springtail distribution Natalia Enriquez' - Pablo Tejedo? - Javier Benayas? - Belén Albertos? - Maria José Luciafiez' Received: 21 October 2016 / Revised: 13 August 2017 / Accepted: 3 December 2017 © Springer-Verlag GmbH Germany, part of Springer Nature 2017 Abstract Barrientos Island is a small islet in the South Shetland archipelago frequently visited by Antarctic tourists. Collembola were recently used in another study developed in this site to assess the environmental conditions of two paths used by visitors, showing the importance of this soil faunal community. This motivated the realization of the first comprehensive census of Collembola from Barrientos Island. Fifty-six samples were recorded over three seasons, 2011-2013, from eight different substrate types. During the last campaign, 39 \""
      ]
     },
     "execution_count": 12,
     "metadata": {},
     "output_type": "execute_result"
    }
   ],
   "source": [
    "raw = soup.get_text()\n",
    "raw[:1000]"
   ]
  },
  {
   "cell_type": "code",
   "execution_count": 13,
   "metadata": {
    "ExecuteTime": {
     "end_time": "2021-01-13T02:21:20.659102Z",
     "start_time": "2021-01-13T02:21:20.654652Z"
    }
   },
   "outputs": [
    {
     "data": {
      "text/plain": [
       "41087"
      ]
     },
     "execution_count": 13,
     "metadata": {},
     "output_type": "execute_result"
    }
   ],
   "source": [
    "len(raw)"
   ]
  },
  {
   "cell_type": "code",
   "execution_count": 14,
   "metadata": {
    "ExecuteTime": {
     "end_time": "2021-01-13T02:21:20.664493Z",
     "start_time": "2021-01-13T02:21:20.661156Z"
    }
   },
   "outputs": [],
   "source": [
    "end = raw.rfind('References')\n",
    "raw = raw[:end]"
   ]
  },
  {
   "cell_type": "code",
   "execution_count": 15,
   "metadata": {
    "ExecuteTime": {
     "end_time": "2021-01-13T02:21:20.670766Z",
     "start_time": "2021-01-13T02:21:20.666847Z"
    }
   },
   "outputs": [
    {
     "data": {
      "text/plain": [
       "27828"
      ]
     },
     "execution_count": 15,
     "metadata": {},
     "output_type": "execute_result"
    }
   ],
   "source": [
    "len(raw)"
   ]
  },
  {
   "cell_type": "code",
   "execution_count": 16,
   "metadata": {
    "ExecuteTime": {
     "end_time": "2021-01-13T02:21:20.678234Z",
     "start_time": "2021-01-13T02:21:20.672956Z"
    }
   },
   "outputs": [
    {
     "data": {
      "text/plain": [
       "str"
      ]
     },
     "execution_count": 16,
     "metadata": {},
     "output_type": "execute_result"
    }
   ],
   "source": [
    "type(raw)"
   ]
  },
  {
   "cell_type": "markdown",
   "metadata": {},
   "source": [
    "## Extracting Text From .pdf Files in a Folder and Saving New .txt Files"
   ]
  },
  {
   "cell_type": "code",
   "execution_count": 7,
   "metadata": {
    "ExecuteTime": {
     "end_time": "2021-01-18T20:52:37.659886Z",
     "start_time": "2021-01-18T20:52:37.653949Z"
    }
   },
   "outputs": [],
   "source": [
    "def convertFolderofPDFsToText (folder):\n",
    "    \"\"\"\n",
    "    Runs through a given folder and converts PDFs to cleaned text files\n",
    "    \n",
    "    Parameters\n",
    "    ----------\n",
    "    folder : string\n",
    "        location of PDF files to convert. (also target location for text files)\n",
    "        \n",
    "    Returns\n",
    "    -------\n",
    "    n/a\n",
    "    \n",
    "    \"\"\"\n",
    "    \n",
    "    filelist = os.listdir(folder)\n",
    "    filelist = [x for x in filelist if x.endswith('pdf')]\n",
    "    numFiles = len(filelist)\n",
    "    for i, file in enumerate(filelist):\n",
    "        txtfile = re.sub('pdf', 'txt', file)\n",
    "        print('Converting file',i+1, 'of', numFiles)\n",
    "#         print('creating ', txtfile)\n",
    "        f = io.open(folder+'/'+txtfile, \n",
    "                    encoding='utf-8', \n",
    "                    mode='w')\n",
    "#         print('loading ', file)\n",
    "#         print('extracting text from ', file)\n",
    "        extractedText = extractTextFromPDF(folder, file)\n",
    "        soup = bs(extractedText)\n",
    "        raw = soup.get_text()\n",
    "#         print('saving ', txtfile)\n",
    "        f.write(raw)\n",
    "#         print('closing ', txtfile, '\\n')\n",
    "        f.close()\n",
    "        deleteMagick.clean()"
   ]
  },
  {
   "cell_type": "code",
   "execution_count": 8,
   "metadata": {
    "ExecuteTime": {
     "end_time": "2021-01-18T20:52:49.648522Z",
     "start_time": "2021-01-18T20:52:49.643419Z"
    }
   },
   "outputs": [],
   "source": [
    "def convertPDFtoText (folder, file):\n",
    "    \"\"\"\n",
    "    Converts one PDFs to cleaned text file\n",
    "    \n",
    "    Parameters\n",
    "    ----------\n",
    "    folder : string\n",
    "        location of PDF files to convert. (also target location for text files)\n",
    "    file : string\n",
    "        name of file to convert\n",
    "        \n",
    "    Returns\n",
    "    -------\n",
    "    n/a\n",
    "    \n",
    "    \"\"\"\n",
    "    \n",
    "    txtfile = re.sub('pdf', 'txt', file)\n",
    "    f = io.open(folder+'/'+txtfile, \n",
    "                    encoding='utf-8', \n",
    "                    mode='w')\n",
    "    extractedText = extractTextFromPDF(folder, file)\n",
    "    \n",
    "    soup = bs(extractedText)\n",
    "    raw = soup.get_text()\n",
    "    f.write(raw)\n",
    "    f.close()\n",
    "    deleteMagick.clean()"
   ]
  },
  {
   "cell_type": "code",
   "execution_count": 34,
   "metadata": {
    "ExecuteTime": {
     "end_time": "2021-01-18T07:18:35.738180Z",
     "start_time": "2021-01-18T07:12:20.579122Z"
    },
    "scrolled": false
   },
   "outputs": [
    {
     "name": "stdout",
     "output_type": "stream",
     "text": [
      "Converting file 1 of 3\n",
      "Converting file 2 of 3\n",
      "Converting file 3 of 3\n"
     ]
    }
   ],
   "source": [
    "convertFolderofPDFsToText('smallPDFs')"
   ]
  },
  {
   "cell_type": "code",
   "execution_count": 35,
   "metadata": {
    "ExecuteTime": {
     "end_time": "2021-01-18T07:37:31.192427Z",
     "start_time": "2021-01-18T07:18:35.754337Z"
    },
    "scrolled": false
   },
   "outputs": [
    {
     "name": "stdout",
     "output_type": "stream",
     "text": [
      "Converting file 1 of 7\n",
      "Converting file 2 of 7\n",
      "Converting file 3 of 7\n",
      "Converting file 4 of 7\n",
      "Converting file 5 of 7\n",
      "Converting file 6 of 7\n",
      "Converting file 7 of 7\n"
     ]
    }
   ],
   "source": [
    "convertFolderofPDFsToText('FraserSet')"
   ]
  },
  {
   "cell_type": "code",
   "execution_count": 17,
   "metadata": {
    "ExecuteTime": {
     "end_time": "2021-01-18T21:06:50.875160Z",
     "start_time": "2021-01-18T21:02:46.048035Z"
    }
   },
   "outputs": [],
   "source": [
    "# convertPDFtoText('PDFs', 'fevo-07-00076.pdf')"
   ]
  },
  {
   "cell_type": "code",
   "execution_count": 18,
   "metadata": {
    "ExecuteTime": {
     "end_time": "2021-01-18T21:36:57.121359Z",
     "start_time": "2021-01-18T21:09:31.590544Z"
    }
   },
   "outputs": [],
   "source": [
    "# convertPDFtoText('PDFs', 'thesis (3).pdf')"
   ]
  },
  {
   "cell_type": "code",
   "execution_count": 37,
   "metadata": {
    "ExecuteTime": {
     "end_time": "2021-01-18T17:59:12.836814Z",
     "start_time": "2021-01-18T17:59:12.828418Z"
    }
   },
   "outputs": [],
   "source": [
    "# convertFolderofPDFsToText('PDFs')"
   ]
  },
  {
   "cell_type": "code",
   "execution_count": 22,
   "metadata": {
    "ExecuteTime": {
     "end_time": "2021-01-13T03:40:30.821752Z",
     "start_time": "2021-01-13T03:38:21.020914Z"
    }
   },
   "outputs": [],
   "source": [
    "# convertPDFtoText('PDFs', 'gen-2015-0194.pdf')"
   ]
  },
  {
   "cell_type": "code",
   "execution_count": null,
   "metadata": {
    "ExecuteTime": {
     "end_time": "2021-01-18T20:57:19.355453Z",
     "start_time": "2021-01-18T20:53:18.779Z"
    }
   },
   "outputs": [],
   "source": [
    "# convertPDFtoText('PDFs', 'thesis.pdf')"
   ]
  },
  {
   "cell_type": "code",
   "execution_count": null,
   "metadata": {
    "ExecuteTime": {
     "end_time": "2021-01-18T20:57:19.360888Z",
     "start_time": "2021-01-18T20:53:24.491Z"
    }
   },
   "outputs": [],
   "source": [
    "# convertPDFtoText('PDFs', 'thesis (1).pdf')"
   ]
  },
  {
   "cell_type": "code",
   "execution_count": null,
   "metadata": {
    "ExecuteTime": {
     "end_time": "2021-01-18T20:57:19.365066Z",
     "start_time": "2021-01-18T20:53:27.573Z"
    }
   },
   "outputs": [],
   "source": [
    "# convertPDFtoText('PDFs', 'thesis (2).pdf')"
   ]
  },
  {
   "cell_type": "code",
   "execution_count": null,
   "metadata": {},
   "outputs": [],
   "source": []
  }
 ],
 "metadata": {
  "kernelspec": {
   "display_name": "Python 3",
   "language": "python",
   "name": "python3"
  },
  "language_info": {
   "codemirror_mode": {
    "name": "ipython",
    "version": 3
   },
   "file_extension": ".py",
   "mimetype": "text/x-python",
   "name": "python",
   "nbconvert_exporter": "python",
   "pygments_lexer": "ipython3",
   "version": "3.7.3"
  },
  "toc": {
   "base_numbering": 1,
   "nav_menu": {},
   "number_sections": true,
   "sideBar": true,
   "skip_h1_title": true,
   "title_cell": "Table of Contents",
   "title_sidebar": "Contents",
   "toc_cell": true,
   "toc_position": {
    "height": "calc(100% - 180px)",
    "left": "10px",
    "top": "150px",
    "width": "165px"
   },
   "toc_section_display": true,
   "toc_window_display": true
  },
  "varInspector": {
   "cols": {
    "lenName": 16,
    "lenType": 16,
    "lenVar": 40
   },
   "kernels_config": {
    "python": {
     "delete_cmd_postfix": "",
     "delete_cmd_prefix": "del ",
     "library": "var_list.py",
     "varRefreshCmd": "print(var_dic_list())"
    },
    "r": {
     "delete_cmd_postfix": ") ",
     "delete_cmd_prefix": "rm(",
     "library": "var_list.r",
     "varRefreshCmd": "cat(var_dic_list()) "
    }
   },
   "position": {
    "height": "144px",
    "left": "1342px",
    "right": "20px",
    "top": "120px",
    "width": "350px"
   },
   "types_to_exclude": [
    "module",
    "function",
    "builtin_function_or_method",
    "instance",
    "_Feature"
   ],
   "window_display": false
  }
 },
 "nbformat": 4,
 "nbformat_minor": 2
}
