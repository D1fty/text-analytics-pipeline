{
 "cells": [
  {
   "cell_type": "markdown",
   "metadata": {},
   "source": [
    "# MWLR Pipeline: Visualisation"
   ]
  },
  {
   "cell_type": "markdown",
   "metadata": {},
   "source": [
    "### Imports"
   ]
  },
  {
   "cell_type": "code",
   "execution_count": 3,
   "metadata": {
    "ExecuteTime": {
     "end_time": "2021-04-22T04:15:41.554356Z",
     "start_time": "2021-04-22T04:15:41.545494Z"
    }
   },
   "outputs": [
    {
     "data": {
      "text/html": [
       "<style>.container { width:80% !important; } p, ul {max-width:␣\n",
       ",→40em;} .rendered_html table { margin-left: 0; } .output_subarea.output_png {␣\n",
       ",→display: flex; justify-content: center;}</style>"
      ],
      "text/plain": [
       "<IPython.core.display.HTML object>"
      ]
     },
     "metadata": {},
     "output_type": "display_data"
    }
   ],
   "source": [
    "from IPython.core.display import display, HTML, Markdown as md\n",
    "display(HTML(\"\"\"<style>.container { width:80% !important; } p, ul {max-width:␣\n",
    ",→40em;} .rendered_html table { margin-left: 0; } .output_subarea.output_png {␣\n",
    ",→display: flex; justify-content: center;}</style>\"\"\"))\n",
    "\n",
    "import pandas            as pd\n",
    "import numpy             as np\n",
    "import seaborn           as sns\n",
    "import matplotlib.pyplot as plt\n",
    "\n",
    "import os\n",
    "import spacy\n",
    "import en_core_web_lg\n",
    "nlp_lg = spacy.load('en_core_web_lg')\n",
    "\n",
    "from pylab           import rcParams\n",
    "from sklearn         import metrics\n",
    "from sklearn.metrics import plot_confusion_matrix"
   ]
  },
  {
   "cell_type": "markdown",
   "metadata": {},
   "source": [
    "### Script"
   ]
  },
  {
   "cell_type": "code",
   "execution_count": 4,
   "metadata": {
    "ExecuteTime": {
     "end_time": "2021-04-22T04:16:07.859440Z",
     "start_time": "2021-04-22T04:16:06.939448Z"
    }
   },
   "outputs": [],
   "source": [
    "%matplotlib inline\n",
    "rcParams['figure.figsize']  = 15, 10\n",
    "rcParams['axes.titlesize']  = 20\n",
    "rcParams['axes.labelsize']  = 'large'\n",
    "rcParams['xtick.labelsize'] = 10\n",
    "rcParams['ytick.labelsize'] = 10\n",
    "rcParams['lines.linewidth'] = 2\n",
    "rcParams['font.size']       = 18\n",
    "\n",
    "relations                  = pd.read_csv('Metrics\\\\DataSet\\\\workingDataset.csv', index_col=0, dtype={'Tagged_Relationship': 'int8'})\n",
    "col_to_downcast            = [col for col in relations.columns if relations[col].dtype==int]\n",
    "relations[col_to_downcast] = relations[col_to_downcast].apply(pd.to_numeric, downcast='integer')\n",
    "cols                       = list(relations.columns)\n",
    "\n",
    "cols.remove('Tagged_Relationship')\n",
    "cols.append('Tagged_Relationship')\n",
    "\n",
    "relations = relations[cols]\n",
    "\n",
    "# Create a summary of all documents\n",
    "DocNum                 = []\n",
    "Name                   = []\n",
    "Possible_Relationships = []\n",
    "TrueRelationships      = []\n",
    "LengthTokens           = []\n",
    "LengthChars            = []\n",
    "SpeciesMentions        = []\n",
    "UniqueSpecies          = []\n",
    "LocationMentions       = []\n",
    "UniqueLocations        = []\n",
    "Sentences              = []\n",
    "SpeciesTokens          = []\n",
    "LocationTokens         = []\n",
    "\n",
    "for i, document in enumerate(relations.AnnTxtFile.unique(), 1):\n",
    "    \n",
    "    DocNum.append('Document ' + str(i))\n",
    "    \n",
    "    Name.append(document)\n",
    "    \n",
    "    Possible_Relationships.append(len(relations[relations.Document == document]))\n",
    "    TrueRelationships.append(len(relations[(relations.Document == document) & (relations.Tagged_Relationship ==1)]))\n",
    "    SpeciesMentions.append(len(relations[relations.Document == document]['Start_Token_Species'].unique()))\n",
    "    UniqueSpecies.append(len(relations[relations.Document == document]['Species'].unique()))\n",
    "    UniqueLocations.append(len(relations[relations.Document == document]['Location'].unique()))\n",
    "    LocationMentions.append(len(relations[relations.Document == document]['Start_Token_Location'].unique()))\n",
    "    \n",
    "    file     = open(document,  encoding = \"utf-8\")\n",
    "    textfile = file.read()\n",
    "    file.close()\n",
    "    \n",
    "    LengthChars.append(len(textfile))\n",
    "    doc = nlp_lg(textfile)\n",
    "    LengthTokens.append(len(doc))\n",
    "    Sentences.append(len([1 for sent in doc.sents]))\n",
    "    SpeciesTokens.append(relations[relations.Document  == document]['End_Token_Species'].unique().sum() - \n",
    "                         relations[relations.Document  == document]['Start_Token_Species'].unique().sum())\n",
    "    LocationTokens.append(relations[relations.Document == document]['End_Token_Location'].unique().sum() - \n",
    "                         relations[relations.Document  == document]['Start_Token_Location'].unique().sum())\n",
    "\n",
    "DocNum.append('Total')\n",
    "for list in [Possible_Relationships, \n",
    "             TrueRelationships, \n",
    "             LengthTokens, \n",
    "             LengthChars, \n",
    "             SpeciesMentions, \n",
    "             UniqueSpecies, \n",
    "             LocationMentions, \n",
    "             UniqueLocations, \n",
    "             Sentences, \n",
    "             SpeciesTokens, \n",
    "             LocationTokens]:\n",
    "    list.append(sum(list))\n",
    "\n",
    "# Avoid devision by zero\n",
    "RelationshipPerc = [np.round(100*x/y,3) if y > 0 else 0 for x, y in zip(TrueRelationships,Possible_Relationships)]\n",
    "SpeciesPerc      = [np.round(100*x/y,3) if y > 0 else 0 for x, y in zip(SpeciesTokens,LengthTokens)]\n",
    "LocationPerc     = [np.round(100*x/y,3) if y > 0 else 0 for x, y in zip(LocationTokens,LengthTokens)]\n",
    "\n",
    "        \n",
    "Summary = pd.DataFrame({'DocNum':DocNum,\n",
    "                        'Sentences': Sentences, \n",
    "                        'Tokens':LengthTokens, 'Characters': LengthChars,\n",
    "                        'Species Mentions':SpeciesMentions, 'Species %':SpeciesPerc, 'Location Mentions':LocationMentions,\n",
    "                        'Location %': LocationPerc, 'Unique Species':UniqueSpecies, \n",
    "                        'Unique Locations':UniqueLocations,'Possible Relationships': Possible_Relationships,\n",
    "                        'True Relationships': TrueRelationships, 'Relationship %': RelationshipPerc\n",
    "                       })\n",
    "\n",
    "# Create a second summary\n",
    "relations[(relations.Document == document) & (relations.Tagged_Relationship == 1)]\n",
    "\n",
    "DocNum                 = []\n",
    "Name                   = []\n",
    "Possible_Relationships = []\n",
    "TrueRelationships      = []\n",
    "LengthTokens           = []\n",
    "LengthChars            = []\n",
    "SpeciesMentions        = []\n",
    "UniqueSpecies          = []\n",
    "LocationMentions       = []\n",
    "UniqueLocations        = []\n",
    "Sentences              = []\n",
    "SpeciesTokens          = []\n",
    "LocationTokens         = []\n",
    "InterSentRelationships = []\n",
    "\n",
    "\n",
    "for i, document in enumerate(relations.AnnTxtFile.unique(), 1):\n",
    "    \n",
    "    DocNum.append('Document ' + str(i))\n",
    "    Name.append(document)\n",
    "    Possible_Relationships.append(len(relations[relations.Document ==document]))\n",
    "    TrueRelationships.append(len(relations[(relations.Document ==document)&(relations.Tagged_Relationship ==1)]))\n",
    "    SpeciesMentions.append(len(relations[relations.Document ==document]['Start_Token_Species'].unique()))\n",
    "    UniqueSpecies.append(len(relations[relations.Document ==document]['Species'].unique()))\n",
    "    UniqueLocations.append(len(relations[relations.Document ==document]['Location'].unique()))\n",
    "    LocationMentions.append(len(relations[relations.Document ==document]['Start_Token_Location'].unique()))\n",
    "    InterSentRelationships.append(len(relations[(relations.Document ==document)&(relations.Tagged_Relationship ==1)&(relations.Same_Sentence ==0)]))\n",
    "    \n",
    "    file     = open(document, encoding = 'utf-8')\n",
    "    textfile = file.read()\n",
    "    file.close()\n",
    "    \n",
    "    LengthChars.append(len(textfile))\n",
    "    doc = nlp_lg(textfile)\n",
    "    LengthTokens.append(len(doc))\n",
    "    \n",
    "    Sentences.append(len([1 for sent in doc.sents]))\n",
    "    SpeciesTokens.append(relations[relations.Document  == document]['End_Token_Species'].unique().sum() - \n",
    "                         relations[relations.Document  == document]['Start_Token_Species'].unique().sum())\n",
    "    LocationTokens.append(relations[relations.Document == document]['End_Token_Location'].unique().sum() - \n",
    "                         relations[relations.Document  == document]['Start_Token_Location'].unique().sum())\n",
    "\n",
    "DocNum.append('Total')\n",
    "for list in [Possible_Relationships, TrueRelationships, LengthTokens, LengthChars, \n",
    "             SpeciesMentions, UniqueSpecies, LocationMentions, UniqueLocations, Sentences, \n",
    "             SpeciesTokens, LocationTokens, InterSentRelationships]:\n",
    "    list.append(sum(list))\n",
    "\n",
    "RelationshipPerc = [np.round(100*x/y,3) if y > 0 else 0 for x, y in zip(TrueRelationships,Possible_Relationships)]\n",
    "SpeciesPerc      = [np.round(100*x/y,3) if y > 0 else 0 for x, y in zip(SpeciesTokens,LengthTokens)]\n",
    "LocationPerc     = [np.round(100*x/y,3) if y > 0 else 0 for x, y in zip(LocationTokens,LengthTokens)]\n",
    "CrossSentRelPerc = [np.round(100*x/y,3) if y > 0 else 0 for x, y in zip(InterSentRelationships,TrueRelationships)]\n",
    "    \n",
    "Summary2 = pd.DataFrame({'DocNum':DocNum,\n",
    "                        'Sentences': Sentences, \n",
    "                        'Tokens':LengthTokens, 'Characters': LengthChars,\n",
    "                        'Species Mentions':SpeciesMentions, 'Species %':SpeciesPerc, 'Location Mentions':LocationMentions,\n",
    "                        'Location %': LocationPerc, 'Unique Species':UniqueSpecies, \n",
    "                        'Unique Locations':UniqueLocations,'Possible Relationships': Possible_Relationships,\n",
    "                        'True Relationships': TrueRelationships, 'Relationship %': RelationshipPerc, 'Cross Sentence Relationships %':CrossSentRelPerc\n",
    "                       })\n",
    "\n",
    "# Dataframe from summaries\n",
    "df         = Summary[['DocNum','Species %', 'Location %']]\n",
    "df.columns = ['DocNum','Species', 'Location']\n",
    "df         = df.melt('DocNum', var_name='Entity', value_name='Vals')"
   ]
  },
  {
   "cell_type": "markdown",
   "metadata": {},
   "source": [
    "### Printouts"
   ]
  },
  {
   "cell_type": "code",
   "execution_count": 14,
   "metadata": {
    "ExecuteTime": {
     "end_time": "2021-03-12T22:50:14.614794Z",
     "start_time": "2021-03-12T22:50:14.607682Z"
    }
   },
   "outputs": [
    {
     "data": {
      "text/html": [
       "<div>\n",
       "<style scoped>\n",
       "    .dataframe tbody tr th:only-of-type {\n",
       "        vertical-align: middle;\n",
       "    }\n",
       "\n",
       "    .dataframe tbody tr th {\n",
       "        vertical-align: top;\n",
       "    }\n",
       "\n",
       "    .dataframe thead th {\n",
       "        text-align: right;\n",
       "    }\n",
       "</style>\n",
       "<table border=\"1\" class=\"dataframe\">\n",
       "  <thead>\n",
       "    <tr style=\"text-align: right;\">\n",
       "      <th></th>\n",
       "      <th>Species</th>\n",
       "      <th>Start_Token_Species</th>\n",
       "      <th>End_Token_Species</th>\n",
       "      <th>Start_Index_Species</th>\n",
       "      <th>End_Index_Species</th>\n",
       "      <th>classId_Species</th>\n",
       "      <th>Sentence_Species</th>\n",
       "      <th>inAbstract300_Species</th>\n",
       "      <th>inAbstract500_Species</th>\n",
       "      <th>max_TFISF_Species</th>\n",
       "      <th>...</th>\n",
       "      <th>AnnTxtFile_Location</th>\n",
       "      <th>Same_Sentence</th>\n",
       "      <th>Num_Tokens_Between</th>\n",
       "      <th>Num_Words_Between</th>\n",
       "      <th>Num_Verbs_Between</th>\n",
       "      <th>Num_Nouns_Between</th>\n",
       "      <th>Num_Preps_Between</th>\n",
       "      <th>Preposition_Between</th>\n",
       "      <th>Dependency_Steps</th>\n",
       "      <th>Tagged_Relationship</th>\n",
       "    </tr>\n",
       "  </thead>\n",
       "  <tbody>\n",
       "  </tbody>\n",
       "</table>\n",
       "<p>0 rows × 34 columns</p>\n",
       "</div>"
      ],
      "text/plain": [
       "Empty DataFrame\n",
       "Columns: [Species, Start_Token_Species, End_Token_Species, Start_Index_Species, End_Index_Species, classId_Species, Sentence_Species, inAbstract300_Species, inAbstract500_Species, max_TFISF_Species, Sent_Start_Species, Document, AnnTxtFile, Location, Start_Token_Location, End_Token_Location, Start_Index_Location, End_Index_Location, classId_Location, Sentence_Location, inAbstract300_Location, inAbstract500_Location, max_TFISF_Location, Sent_Start_Location, AnnTxtFile_Location, Same_Sentence, Num_Tokens_Between, Num_Words_Between, Num_Verbs_Between, Num_Nouns_Between, Num_Preps_Between, Preposition_Between, Dependency_Steps, Tagged_Relationship]\n",
       "Index: []\n",
       "\n",
       "[0 rows x 34 columns]"
      ]
     },
     "execution_count": 14,
     "metadata": {},
     "output_type": "execute_result"
    }
   ],
   "source": [
    "# All tagged relationships\n",
    "relations[(relations.Tagged_Relationship == 1)]"
   ]
  },
  {
   "cell_type": "code",
   "execution_count": 15,
   "metadata": {
    "ExecuteTime": {
     "end_time": "2021-04-05T04:00:21.898465Z",
     "start_time": "2021-04-05T04:00:21.892126Z"
    }
   },
   "outputs": [
    {
     "data": {
      "text/plain": [
       "0"
      ]
     },
     "execution_count": 15,
     "metadata": {},
     "output_type": "execute_result"
    }
   ],
   "source": [
    "# Sum total of all tagged relationships found across sentences\n",
    "len(relations[(relations.Tagged_Relationship == 1) & (relations.Same_Sentence == 0)])"
   ]
  },
  {
   "cell_type": "code",
   "execution_count": 16,
   "metadata": {
    "ExecuteTime": {
     "end_time": "2021-03-12T23:56:02.978665Z",
     "start_time": "2021-03-12T23:56:02.971329Z"
    }
   },
   "outputs": [
    {
     "data": {
      "text/plain": [
       "array(['Nostoc spp.', 'Bryum argenteum', 'B. argenteum', 'Pottia heimii',\n",
       "       'P. heimii.', 'P. heimii', 'Philodina sp.', 'Habrotrocha sp.',\n",
       "       'Epiphanes sp.', 'Plectus spp', 'Macrobiotus spp.',\n",
       "       'Stereotydeus spp.', 'Stereotydeus mollis'], dtype=object)"
      ]
     },
     "execution_count": 16,
     "metadata": {},
     "output_type": "execute_result"
    }
   ],
   "source": [
    "# Unique identified species\n",
    "relations[(relations.Document =='10.1007_BF00238925.pdf')].Species.unique()"
   ]
  },
  {
   "cell_type": "code",
   "execution_count": 18,
   "metadata": {
    "ExecuteTime": {
     "end_time": "2021-03-12T23:53:35.950979Z",
     "start_time": "2021-03-12T23:53:35.942068Z"
    }
   },
   "outputs": [
    {
     "data": {
      "text/plain": [
       "1174"
      ]
     },
     "execution_count": 18,
     "metadata": {},
     "output_type": "execute_result"
    }
   ],
   "source": [
    "# Not sure what this is tbh\n",
    "relations['End_Token_Species'].unique().sum() - relations['Start_Token_Species'].unique().sum() "
   ]
  },
  {
   "cell_type": "code",
   "execution_count": 23,
   "metadata": {
    "ExecuteTime": {
     "end_time": "2021-03-13T02:06:57.963898Z",
     "start_time": "2021-03-13T02:06:57.947723Z"
    }
   },
   "outputs": [
    {
     "data": {
      "text/html": [
       "<div>\n",
       "<style scoped>\n",
       "    .dataframe tbody tr th:only-of-type {\n",
       "        vertical-align: middle;\n",
       "    }\n",
       "\n",
       "    .dataframe tbody tr th {\n",
       "        vertical-align: top;\n",
       "    }\n",
       "\n",
       "    .dataframe thead th {\n",
       "        text-align: right;\n",
       "    }\n",
       "</style>\n",
       "<table border=\"1\" class=\"dataframe\">\n",
       "  <thead>\n",
       "    <tr style=\"text-align: right;\">\n",
       "      <th></th>\n",
       "      <th>DocNum</th>\n",
       "      <th>Sentences</th>\n",
       "      <th>Tokens</th>\n",
       "      <th>Characters</th>\n",
       "      <th>Species Mentions</th>\n",
       "      <th>Species %</th>\n",
       "      <th>Location Mentions</th>\n",
       "      <th>Location %</th>\n",
       "      <th>Unique Species</th>\n",
       "      <th>Unique Locations</th>\n",
       "      <th>Possible Relationships</th>\n",
       "      <th>True Relationships</th>\n",
       "      <th>Relationship %</th>\n",
       "    </tr>\n",
       "  </thead>\n",
       "  <tbody>\n",
       "    <tr>\n",
       "      <th>0</th>\n",
       "      <td>Document 1</td>\n",
       "      <td>333</td>\n",
       "      <td>7313</td>\n",
       "      <td>28909</td>\n",
       "      <td>0</td>\n",
       "      <td>0.0</td>\n",
       "      <td>0</td>\n",
       "      <td>0.0</td>\n",
       "      <td>0</td>\n",
       "      <td>0</td>\n",
       "      <td>0</td>\n",
       "      <td>0</td>\n",
       "      <td>0</td>\n",
       "    </tr>\n",
       "    <tr>\n",
       "      <th>1</th>\n",
       "      <td>Document 2</td>\n",
       "      <td>424</td>\n",
       "      <td>10887</td>\n",
       "      <td>57834</td>\n",
       "      <td>0</td>\n",
       "      <td>0.0</td>\n",
       "      <td>0</td>\n",
       "      <td>0.0</td>\n",
       "      <td>0</td>\n",
       "      <td>0</td>\n",
       "      <td>0</td>\n",
       "      <td>0</td>\n",
       "      <td>0</td>\n",
       "    </tr>\n",
       "    <tr>\n",
       "      <th>2</th>\n",
       "      <td>Total</td>\n",
       "      <td>757</td>\n",
       "      <td>18200</td>\n",
       "      <td>86743</td>\n",
       "      <td>0</td>\n",
       "      <td>0.0</td>\n",
       "      <td>0</td>\n",
       "      <td>0.0</td>\n",
       "      <td>0</td>\n",
       "      <td>0</td>\n",
       "      <td>0</td>\n",
       "      <td>0</td>\n",
       "      <td>0</td>\n",
       "    </tr>\n",
       "  </tbody>\n",
       "</table>\n",
       "</div>"
      ],
      "text/plain": [
       "       DocNum  Sentences  Tokens  Characters  Species Mentions  Species %  \\\n",
       "0  Document 1        333    7313       28909                 0        0.0   \n",
       "1  Document 2        424   10887       57834                 0        0.0   \n",
       "2       Total        757   18200       86743                 0        0.0   \n",
       "\n",
       "   Location Mentions  Location %  Unique Species  Unique Locations  \\\n",
       "0                  0         0.0               0                 0   \n",
       "1                  0         0.0               0                 0   \n",
       "2                  0         0.0               0                 0   \n",
       "\n",
       "   Possible Relationships  True Relationships  Relationship %  \n",
       "0                       0                   0               0  \n",
       "1                       0                   0               0  \n",
       "2                       0                   0               0  "
      ]
     },
     "execution_count": 23,
     "metadata": {},
     "output_type": "execute_result"
    }
   ],
   "source": [
    "# Summary of all documents\n",
    "Summary"
   ]
  },
  {
   "cell_type": "code",
   "execution_count": 25,
   "metadata": {
    "ExecuteTime": {
     "end_time": "2021-04-05T04:04:12.344919Z",
     "start_time": "2021-04-05T04:04:12.328834Z"
    }
   },
   "outputs": [
    {
     "data": {
      "text/html": [
       "<div>\n",
       "<style scoped>\n",
       "    .dataframe tbody tr th:only-of-type {\n",
       "        vertical-align: middle;\n",
       "    }\n",
       "\n",
       "    .dataframe tbody tr th {\n",
       "        vertical-align: top;\n",
       "    }\n",
       "\n",
       "    .dataframe thead th {\n",
       "        text-align: right;\n",
       "    }\n",
       "</style>\n",
       "<table border=\"1\" class=\"dataframe\">\n",
       "  <thead>\n",
       "    <tr style=\"text-align: right;\">\n",
       "      <th></th>\n",
       "      <th>DocNum</th>\n",
       "      <th>Sentences</th>\n",
       "      <th>Tokens</th>\n",
       "      <th>Characters</th>\n",
       "      <th>Species Mentions</th>\n",
       "      <th>Species %</th>\n",
       "      <th>Location Mentions</th>\n",
       "      <th>Location %</th>\n",
       "      <th>Unique Species</th>\n",
       "      <th>Unique Locations</th>\n",
       "      <th>Possible Relationships</th>\n",
       "      <th>True Relationships</th>\n",
       "      <th>Relationship %</th>\n",
       "      <th>Cross Sentence Relationships %</th>\n",
       "    </tr>\n",
       "  </thead>\n",
       "  <tbody>\n",
       "    <tr>\n",
       "      <th>0</th>\n",
       "      <td>Document 1</td>\n",
       "      <td>333</td>\n",
       "      <td>7313</td>\n",
       "      <td>28909</td>\n",
       "      <td>0</td>\n",
       "      <td>0.0</td>\n",
       "      <td>0</td>\n",
       "      <td>0.0</td>\n",
       "      <td>0</td>\n",
       "      <td>0</td>\n",
       "      <td>0</td>\n",
       "      <td>0</td>\n",
       "      <td>0</td>\n",
       "      <td>0</td>\n",
       "    </tr>\n",
       "    <tr>\n",
       "      <th>1</th>\n",
       "      <td>Document 2</td>\n",
       "      <td>424</td>\n",
       "      <td>10887</td>\n",
       "      <td>57834</td>\n",
       "      <td>0</td>\n",
       "      <td>0.0</td>\n",
       "      <td>0</td>\n",
       "      <td>0.0</td>\n",
       "      <td>0</td>\n",
       "      <td>0</td>\n",
       "      <td>0</td>\n",
       "      <td>0</td>\n",
       "      <td>0</td>\n",
       "      <td>0</td>\n",
       "    </tr>\n",
       "    <tr>\n",
       "      <th>2</th>\n",
       "      <td>Total</td>\n",
       "      <td>757</td>\n",
       "      <td>18200</td>\n",
       "      <td>86743</td>\n",
       "      <td>0</td>\n",
       "      <td>0.0</td>\n",
       "      <td>0</td>\n",
       "      <td>0.0</td>\n",
       "      <td>0</td>\n",
       "      <td>0</td>\n",
       "      <td>0</td>\n",
       "      <td>0</td>\n",
       "      <td>0</td>\n",
       "      <td>0</td>\n",
       "    </tr>\n",
       "  </tbody>\n",
       "</table>\n",
       "</div>"
      ],
      "text/plain": [
       "       DocNum  Sentences  Tokens  Characters  Species Mentions  Species %  \\\n",
       "0  Document 1        333    7313       28909                 0        0.0   \n",
       "1  Document 2        424   10887       57834                 0        0.0   \n",
       "2       Total        757   18200       86743                 0        0.0   \n",
       "\n",
       "   Location Mentions  Location %  Unique Species  Unique Locations  \\\n",
       "0                  0         0.0               0                 0   \n",
       "1                  0         0.0               0                 0   \n",
       "2                  0         0.0               0                 0   \n",
       "\n",
       "   Possible Relationships  True Relationships  Relationship %  \\\n",
       "0                       0                   0               0   \n",
       "1                       0                   0               0   \n",
       "2                       0                   0               0   \n",
       "\n",
       "   Cross Sentence Relationships %  \n",
       "0                               0  \n",
       "1                               0  \n",
       "2                               0  "
      ]
     },
     "execution_count": 25,
     "metadata": {},
     "output_type": "execute_result"
    }
   ],
   "source": [
    "# Second summary of all documents\n",
    "Summary2"
   ]
  },
  {
   "cell_type": "code",
   "execution_count": 26,
   "metadata": {
    "ExecuteTime": {
     "end_time": "2021-03-13T00:45:11.587910Z",
     "start_time": "2021-03-13T00:45:11.369766Z"
    }
   },
   "outputs": [
    {
     "data": {
      "image/png": "[encoded data removed]",
      "text/plain": [
       "<Figure size 1080x720 with 1 Axes>"
      ]
     },
     "metadata": {
      "needs_background": "light"
     },
     "output_type": "display_data"
    }
   ],
   "source": [
    "# Graph of summary of tokens\n",
    "ax = Summary[0:7].plot.bar(x='DocNum', y='Tokens')"
   ]
  },
  {
   "cell_type": "code",
   "execution_count": 27,
   "metadata": {
    "ExecuteTime": {
     "end_time": "2021-03-16T03:42:04.777886Z",
     "start_time": "2021-03-16T03:42:04.476760Z"
    }
   },
   "outputs": [
    {
     "data": {
      "text/plain": [
       "Text(0.5, 0, 'Document')"
      ]
     },
     "execution_count": 27,
     "metadata": {},
     "output_type": "execute_result"
    },
    {
     "data": {
      "image/png": "[encoded data removed]",
      "text/plain": [
       "<Figure size 1080x720 with 1 Axes>"
      ]
     },
     "metadata": {
      "needs_background": "light"
     },
     "output_type": "display_data"
    }
   ],
   "source": [
    "# Graph of summary tokens in documents\n",
    "ax = sns.barplot(x='DocNum', y='Tokens', data=Summary[0:7], color='tab:blue')\n",
    "ax.set_title('Fig. 2 - Length of Documents in Tokens')\n",
    "ax.set_xlabel('Document')"
   ]
  },
  {
   "cell_type": "code",
   "execution_count": 28,
   "metadata": {
    "ExecuteTime": {
     "end_time": "2021-03-16T03:42:33.686179Z",
     "start_time": "2021-03-16T03:42:33.432782Z"
    }
   },
   "outputs": [
    {
     "data": {
      "text/plain": [
       "Text(0.5, 0, 'Document')"
      ]
     },
     "execution_count": 28,
     "metadata": {},
     "output_type": "execute_result"
    },
    {
     "data": {
      "image/png": "[encoded data removed]",
      "text/plain": [
       "<Figure size 1080x720 with 1 Axes>"
      ]
     },
     "metadata": {
      "needs_background": "light"
     },
     "output_type": "display_data"
    }
   ],
   "source": [
    "# Graph of summary of sentences in documents\n",
    "ax = sns.barplot(x='DocNum', y='Sentences', data=Summary[0:7], color='tab:blue')\n",
    "ax.set_title('Fig. 3 - Length of Documents in Sentences')\n",
    "ax.set_xlabel('Document')\n",
    "# ax.set_ylabel()"
   ]
  },
  {
   "cell_type": "code",
   "execution_count": 29,
   "metadata": {
    "ExecuteTime": {
     "end_time": "2021-03-13T01:12:31.987627Z",
     "start_time": "2021-03-13T01:12:31.760835Z"
    }
   },
   "outputs": [
    {
     "data": {
      "text/plain": [
       "Text(0.5, 0, 'Document')"
      ]
     },
     "execution_count": 29,
     "metadata": {},
     "output_type": "execute_result"
    },
    {
     "data": {
      "image/png": "[encoded data removed]",
      "text/plain": [
       "<Figure size 1080x720 with 1 Axes>"
      ]
     },
     "metadata": {
      "needs_background": "light"
     },
     "output_type": "display_data"
    }
   ],
   "source": [
    "# Graph of summary of characters in documents\n",
    "ax = sns.barplot(x='DocNum', y='Characters', data=Summary[0:7], color='tab:blue')\n",
    "ax.set_title('Length of Documents in Characters')\n",
    "ax.set_xlabel('Document')"
   ]
  },
  {
   "cell_type": "code",
   "execution_count": 31,
   "metadata": {
    "ExecuteTime": {
     "end_time": "2021-03-16T03:45:27.592162Z",
     "start_time": "2021-03-16T03:45:27.324194Z"
    }
   },
   "outputs": [
    {
     "data": {
      "text/plain": [
       "Text(0, 0.5, 'Percentage')"
      ]
     },
     "execution_count": 31,
     "metadata": {},
     "output_type": "execute_result"
    },
    {
     "data": {
      "image/png": "[encoded data removed]",
      "text/plain": [
       "<Figure size 1080x720 with 1 Axes>"
      ]
     },
     "metadata": {
      "needs_background": "light"
     },
     "output_type": "display_data"
    }
   ],
   "source": [
    "# Graph of summary of actual relationships in documents\n",
    "ax = sns.barplot(x='DocNum', y='Relationship %', data=Summary, color='tab:orange')\n",
    "ax.set_title('Fig. 6 - Percentage of Actual Relationships')\n",
    "ax.set_xlabel('Document')\n",
    "ax.set_ylabel('Percentage')"
   ]
  },
  {
   "cell_type": "code",
   "execution_count": 33,
   "metadata": {
    "ExecuteTime": {
     "end_time": "2021-03-16T03:43:32.178384Z",
     "start_time": "2021-03-16T03:43:31.685736Z"
    }
   },
   "outputs": [
    {
     "data": {
      "text/plain": [
       "<seaborn.axisgrid.FacetGrid at 0x1a13d6f0f40>"
      ]
     },
     "execution_count": 33,
     "metadata": {},
     "output_type": "execute_result"
    },
    {
     "data": {
      "image/png": "[encoded data removed]",
      "text/plain": [
       "<Figure size 860.925x720 with 1 Axes>"
      ]
     },
     "metadata": {
      "needs_background": "light"
     },
     "output_type": "display_data"
    }
   ],
   "source": [
    "# Prevalence of entity type by document\n",
    "ax = sns.catplot(x = 'DocNum', y = 'Vals', hue = 'Entity', data = df, kind = 'bar', height=10)\n",
    "ax.fig.suptitle('Fig. 4 - Prevalence of Entity Type by Document', y=1)\n",
    "ax.set_axis_labels(\"Document\", \"Percentage of Document's Tokens\")"
   ]
  },
  {
   "cell_type": "code",
   "execution_count": 38,
   "metadata": {
    "ExecuteTime": {
     "end_time": "2021-03-16T03:44:46.014408Z",
     "start_time": "2021-03-16T03:44:45.802880Z"
    }
   },
   "outputs": [
    {
     "data": {
      "text/plain": [
       "Text(0.5, 0, 'True Relationship')"
      ]
     },
     "execution_count": 38,
     "metadata": {},
     "output_type": "execute_result"
    },
    {
     "data": {
      "image/png": "[encoded data removed]",
      "text/plain": [
       "<Figure size 1080x720 with 1 Axes>"
      ]
     },
     "metadata": {
      "needs_background": "light"
     },
     "output_type": "display_data"
    }
   ],
   "source": [
    "# Not sure what this is\n",
    "plt = sns.countplot(x = \"Tagged_Relationship\", data = relations)\n",
    "plt.set_title('Fig.5 - Data Imbalance')\n",
    "plt.set_xlabel('True Relationship')"
   ]
  },
  {
   "cell_type": "code",
   "execution_count": 39,
   "metadata": {
    "ExecuteTime": {
     "end_time": "2021-04-05T01:28:14.797731Z",
     "start_time": "2021-04-05T01:28:14.539236Z"
    }
   },
   "outputs": [
    {
     "data": {
      "text/plain": [
       "[[Text(0, 0, 'Across Sentence Boundary'), Text(1, 0, 'Within Sentence')]]"
      ]
     },
     "execution_count": 39,
     "metadata": {},
     "output_type": "execute_result"
    },
    {
     "data": {
      "image/png": "[encoded data removed]",
      "text/plain": [
       "<Figure size 1080x720 with 1 Axes>"
      ]
     },
     "metadata": {
      "needs_background": "light"
     },
     "output_type": "display_data"
    }
   ],
   "source": [
    "# Graph of inter vrs intra-sentential relationships\n",
    "rcParams['xtick.labelsize'] = 15\n",
    "plt                         = sns.countplot(x = \"Same_Sentence\", data = relations)\n",
    "\n",
    "plt.set_title('Fig.6 - Inter v Intra-sentential Relationships')\n",
    "plt.set_xlabel('Relationship Path')\n",
    "\n",
    "plt.set(xticklabels         = ['Across Sentence Boundary', 'Within Sentence'])"
   ]
  },
  {
   "cell_type": "markdown",
   "metadata": {},
   "source": [
    "End."
   ]
  }
 ],
 "metadata": {
  "kernelspec": {
   "display_name": "Python 3 (ipykernel)",
   "language": "python",
   "name": "python3"
  },
  "language_info": {
   "codemirror_mode": {
    "name": "ipython",
    "version": 3
   },
   "file_extension": ".py",
   "mimetype": "text/x-python",
   "name": "python",
   "nbconvert_exporter": "python",
   "pygments_lexer": "ipython3",
   "version": "3.9.9"
  },
  "toc": {
   "base_numbering": 1,
   "nav_menu": {},
   "number_sections": true,
   "sideBar": true,
   "skip_h1_title": true,
   "title_cell": "Table of Contents",
   "title_sidebar": "Contents",
   "toc_cell": true,
   "toc_position": {
    "height": "calc(100% - 180px)",
    "left": "10px",
    "top": "150px",
    "width": "311px"
   },
   "toc_section_display": true,
   "toc_window_display": true
  },
  "varInspector": {
   "cols": {
    "lenName": 16,
    "lenType": 16,
    "lenVar": 40
   },
   "kernels_config": {
    "python": {
     "delete_cmd_postfix": "",
     "delete_cmd_prefix": "del ",
     "library": "var_list.py",
     "varRefreshCmd": "print(var_dic_list())"
    },
    "r": {
     "delete_cmd_postfix": ") ",
     "delete_cmd_prefix": "rm(",
     "library": "var_list.r",
     "varRefreshCmd": "cat(var_dic_list()) "
    }
   },
   "types_to_exclude": [
    "module",
    "function",
    "builtin_function_or_method",
    "instance",
    "_Feature"
   ],
   "window_display": false
  }
 },
 "nbformat": 4,
 "nbformat_minor": 2
}
