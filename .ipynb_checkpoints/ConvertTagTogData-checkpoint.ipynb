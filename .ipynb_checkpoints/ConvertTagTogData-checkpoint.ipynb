{
 "cells": [
  {
   "cell_type": "markdown",
   "id": "f2dc6c42",
   "metadata": {},
   "source": [
    "## Converting Tag Tog annotations to useable data"
   ]
  },
  {
   "cell_type": "markdown",
   "id": "8d71f4f0",
   "metadata": {},
   "source": [
    "Imports"
   ]
  },
  {
   "cell_type": "code",
   "execution_count": 1,
   "id": "051be791",
   "metadata": {},
   "outputs": [],
   "source": [
    "import os\n",
    "import io\n",
    "import re\n",
    "import codecs\n",
    "import pathlib\n",
    "from   shutil import copy\n",
    "from   bs4    import BeautifulSoup"
   ]
  },
  {
   "cell_type": "markdown",
   "id": "e74b61f0",
   "metadata": {},
   "source": [
    "Functions"
   ]
  },
  {
   "cell_type": "code",
   "execution_count": 2,
   "id": "71ada3c1",
   "metadata": {},
   "outputs": [],
   "source": [
    "# Returns a list of tuples contains all paths and files of a specific type in a directory and its sub directory\n",
    "# Pass an extension to override .json\n",
    "def listAllFiles(folder, extension = '.json'):\n",
    "    files = list()\n",
    "    for (dirpath, dirnames, filenames) in os.walk(folder):\n",
    "        files += [(dirpath, file) for file in filenames if file.endswith(extension)]\n",
    "    return files"
   ]
  },
  {
   "cell_type": "code",
   "execution_count": 3,
   "id": "ed7ef9e7",
   "metadata": {},
   "outputs": [],
   "source": [
    "# Matches JSON files to their TXT file equivelants\n",
    "# Must be passed a list of tuples for each type. Tuples must be in (path, file) format\n",
    "def matchFiles(filesLeft, filesRight):\n",
    "    \n",
    "    # Extract file types\n",
    "    # Left tuple list\n",
    "    path, file           = filesLeft[0]\n",
    "    leftName, leftType   = os.path.splitext(os.path.join(path, file))\n",
    "    \n",
    "    # Right tuple list\n",
    "    path, file           = filesRight[0]\n",
    "    rightName, rightType = os.path.splitext(os.path.join(path, file))\n",
    "        \n",
    "    # Match files to files\n",
    "    # Start with empty list\n",
    "    returnItem = list()\n",
    "    \n",
    "    # Iterate through left list\n",
    "    for leftFile in filesLeft:\n",
    "        \n",
    "        # Extract path and file name from item\n",
    "        leftPath, leftName = leftFile\n",
    "        \n",
    "        # Iterate through right list\n",
    "        for rightFile in filesRight:\n",
    "            \n",
    "            # Extract path and file name from item\n",
    "            rightPath, rightName = rightFile\n",
    "            \n",
    "            # Match the names\n",
    "            # HTML matching\n",
    "            if   (leftType == '.html') and re.sub('.plain.html', '.ann.json', leftName) == rightName:\n",
    "                \n",
    "                # If matched, add to return item and begin on next item in the left list\n",
    "                returnItem += [((leftPath, leftName), (rightPath, rightName))]\n",
    "                continue\n",
    "                \n",
    "            # JSON matching\n",
    "            elif (leftType == '.json') and re.sub('.ann.json', '.plain.html', leftName) == rightName:\n",
    "            \n",
    "                # If matched, add to return item and begin on next item in the left list\n",
    "                returnItem     += [((leftPath, leftName), (rightPath, rightName))]\n",
    "                continue\n",
    "            \n",
    "    # Return\n",
    "    return returnItem"
   ]
  },
  {
   "cell_type": "code",
   "execution_count": 4,
   "id": "31858d88",
   "metadata": {},
   "outputs": [],
   "source": [
    "# Takes a list of matched JSON and HTML files and writes them to a container folder\n",
    "# file parameter takes the output of matchFiles()\n",
    "def toDestination(files, destination):\n",
    "  \n",
    "    # Iterate through each file tuple\n",
    "    for file in files:\n",
    "        \n",
    "        # Extract path and name\n",
    "        ((leftPath, leftName), (rightPath, rightName)) = file\n",
    "\n",
    "        # Extract file type\n",
    "        fileType = os.path.splitext(os.path.join(leftPath, leftName))[1]\n",
    "\n",
    "        # Get folder\n",
    "        destFolder = destination + leftPath.split('\\\\')[1]\n",
    "        \n",
    "        # Create one level of direcory\n",
    "        if not os.path.exists(destFolder):\n",
    "            os.mkdir(destFolder)\n",
    "        \n",
    "        # Write to new folder\n",
    "        writeToDest(leftPath, leftName, destFolder)\n",
    "        writeToDest(rightPath, rightName, destFolder)"
   ]
  },
  {
   "cell_type": "code",
   "execution_count": 10,
   "id": "ed5650c1",
   "metadata": {},
   "outputs": [],
   "source": [
    "# Writes files to their container folder\n",
    "def writeToDest(inPath, inFile, destination):\n",
    "\n",
    "    # Drop the garbage off the file name\n",
    "    outName         = dropGarbage(inFile)\n",
    "    \n",
    "    # Extract file type\n",
    "    fileType        = os.path.splitext(os.path.join(inPath, inFile))[1]\n",
    "    \n",
    "    # Set destination path based on file type of left item\n",
    "    if fileType    == '.json':\n",
    "        destFolder  = destination + '\\\\' + outName.replace('.ann.json', '')\n",
    "        \n",
    "    elif fileType  == '.html':\n",
    "        destFolder  = destination + '\\\\' + outName.replace('.plain.html', '')\n",
    "        \n",
    "    # Create directory if it doesn't exist\n",
    "    if not os.path.exists(destFolder):\n",
    "        os.mkdir(destFolder)\n",
    "    \n",
    "    # Write JSON files\n",
    "    if fileType    == '.json':\n",
    "        copy(os.path.join(inPath, inFile), os.path.join(destFolder, outName))\n",
    "\n",
    "    # Write HTML to TEXT files\n",
    "    elif (fileType == '.html'):\n",
    "        \n",
    "        # Extract the txt from the html \n",
    "        txt         = extractTextFromHTML(os.path.join(inPath, inFile))\n",
    "        outFileName = os.path.join(destFolder, outName.replace('.plain.html', '.txt'))\n",
    "        \n",
    "        # Write it to file\n",
    "        writeTxtFile(txt, outFileName)"
   ]
  },
  {
   "cell_type": "code",
   "execution_count": 11,
   "id": "5fe5ede9",
   "metadata": {},
   "outputs": [],
   "source": [
    "# Drops all characters up to the first '-' in the TagTog file name \n",
    "def dropGarbage(fileName):\n",
    "    \n",
    "    # Temp variable\n",
    "    temp = fileName\n",
    "    \n",
    "    # Get buffer for post index starting point\n",
    "    if temp[temp.index('-') + 1] == '_':\n",
    "        buffer = 2\n",
    "        \n",
    "    else:\n",
    "        buffer = 1\n",
    "        \n",
    "    # Return from the starting point post index\n",
    "    return temp[temp.index('-') + buffer:]\n"
   ]
  },
  {
   "cell_type": "code",
   "execution_count": 12,
   "id": "026f458d",
   "metadata": {},
   "outputs": [],
   "source": [
    "# Takes the text from the TagTog HTML file as it appears in the browser\n",
    "def extractTextFromHTML(inFile):\n",
    "    \n",
    "    # Open the html file\n",
    "    with open(inFile, encoding=\"utf-8\") as fp:\n",
    "        \n",
    "        # Soup it to parsed HTML\n",
    "        soup = BeautifulSoup(fp, \"html.parser\")\n",
    "\n",
    "        # Return the txt\n",
    "        return soup.get_text()"
   ]
  },
  {
   "cell_type": "code",
   "execution_count": 13,
   "id": "82e3392b",
   "metadata": {},
   "outputs": [],
   "source": [
    "# Writes text to a file\n",
    "def writeTxtFile(txt, file):\n",
    "        f = io.open(file, encoding='utf-8', mode='w')    \n",
    "        f.write(txt)\n",
    "        f.close()"
   ]
  },
  {
   "cell_type": "markdown",
   "id": "0fd5a9a6",
   "metadata": {},
   "source": [
    "Script"
   ]
  },
  {
   "cell_type": "code",
   "execution_count": 14,
   "id": "77b30798",
   "metadata": {},
   "outputs": [],
   "source": [
    "# Set directories\n",
    "root_src_dir  = 'ManuallyAnnotatedData\\\\'\n",
    "root_dest_dir = 'ExtractedAnnotatedData\\\\'\n",
    "\n",
    "# Get a list of all JSON files\n",
    "JSONfiles = listAllFiles(root_src_dir)\n",
    "\n",
    "# Filter out the legends\n",
    "JSONfiles = [x for x in JSONfiles if x[1] != 'annotations-legend.json'] \n",
    "\n",
    "# Get a list of all html files\n",
    "HTMLfiles  = listAllFiles(root_src_dir, '.html')\n",
    "\n",
    "# Match them to a list based on names\n",
    "matchedList = matchFiles(JSONfiles, HTMLfiles)\n",
    "\n",
    "# Write to destination\n",
    "toDestination(matchedList, root_dest_dir)"
   ]
  },
  {
   "cell_type": "markdown",
   "id": "58740e57",
   "metadata": {},
   "source": [
    "end."
   ]
  }
 ],
 "metadata": {
  "kernelspec": {
   "display_name": "Python 3 (ipykernel)",
   "language": "python",
   "name": "python3"
  },
  "language_info": {
   "codemirror_mode": {
    "name": "ipython",
    "version": 3
   },
   "file_extension": ".py",
   "mimetype": "text/x-python",
   "name": "python",
   "nbconvert_exporter": "python",
   "pygments_lexer": "ipython3",
   "version": "3.9.9"
  }
 },
 "nbformat": 4,
 "nbformat_minor": 5
}
